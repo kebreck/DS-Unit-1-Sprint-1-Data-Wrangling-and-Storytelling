{
  "nbformat": 4,
  "nbformat_minor": 0,
  "metadata": {
    "colab": {
      "name": "U1 Build - Breckenfelder",
      "provenance": [],
      "collapsed_sections": [],
      "authorship_tag": "ABX9TyN3zn7qwhmW36eC0NOLW2hx",
      "include_colab_link": true
    },
    "kernelspec": {
      "name": "python3",
      "display_name": "Python 3"
    }
  },
  "cells": [
    {
      "cell_type": "markdown",
      "metadata": {
        "id": "view-in-github",
        "colab_type": "text"
      },
      "source": [
        "<a href=\"https://colab.research.google.com/github/kebreck/DS-Unit-1-Sprint-1-Data-Wrangling-and-Storytelling/blob/master/U1_Build_Breckenfelder.ipynb\" target=\"_parent\"><img src=\"https://colab.research.google.com/assets/colab-badge.svg\" alt=\"Open In Colab\"/></a>"
      ]
    },
    {
      "cell_type": "code",
      "metadata": {
        "id": "ayFQYat9HSCl",
        "colab_type": "code",
        "colab": {}
      },
      "source": [
        "import pandas as pd\n",
        "import numpy as np\n",
        "import seaborn as sns\n",
        "import matplotlib.pyplot as plt\n",
        "from scipy import stats"
      ],
      "execution_count": 114,
      "outputs": []
    },
    {
      "cell_type": "code",
      "metadata": {
        "id": "eUK9pWbeOBFA",
        "colab_type": "code",
        "colab": {
          "base_uri": "https://localhost:8080/",
          "height": 52
        },
        "outputId": "b7624ec0-4b9c-4ae9-e56a-85230606bd13"
      },
      "source": [
        "! unzip 'offenses-standardized.csv.zip'"
      ],
      "execution_count": 13,
      "outputs": [
        {
          "output_type": "stream",
          "text": [
            "Archive:  offenses-standardized.csv.zip\n",
            "  inflating: offenses-standardized.csv  \n"
          ],
          "name": "stdout"
        }
      ]
    },
    {
      "cell_type": "code",
      "metadata": {
        "id": "LLrG0yU-OMN9",
        "colab_type": "code",
        "colab": {
          "base_uri": "https://localhost:8080/",
          "height": 736
        },
        "outputId": "2eda68d6-38f7-4cd6-b43a-bf8e44b0d037"
      },
      "source": [
        "crimes = pd.read_csv('offenses-standardized.csv')\n",
        "\n",
        "crimes.sample(10)"
      ],
      "execution_count": 38,
      "outputs": [
        {
          "output_type": "stream",
          "text": [
            "/usr/local/lib/python3.6/dist-packages/IPython/core/interactiveshell.py:2718: DtypeWarning: Columns (4,7,10,14,15,16,17,18,19,20,21,22,24,25,27,29,30) have mixed types.Specify dtype option on import or set low_memory=False.\n",
            "  interactivity=interactivity, compiler=compiler, result=result)\n"
          ],
          "name": "stderr"
        },
        {
          "output_type": "execute_result",
          "data": {
            "text/html": [
              "<div>\n",
              "<style scoped>\n",
              "    .dataframe tbody tr th:only-of-type {\n",
              "        vertical-align: middle;\n",
              "    }\n",
              "\n",
              "    .dataframe tbody tr th {\n",
              "        vertical-align: top;\n",
              "    }\n",
              "\n",
              "    .dataframe thead th {\n",
              "        text-align: right;\n",
              "    }\n",
              "</style>\n",
              "<table border=\"1\" class=\"dataframe\">\n",
              "  <thead>\n",
              "    <tr style=\"text-align: right;\">\n",
              "      <th></th>\n",
              "      <th>row_hash</th>\n",
              "      <th>source</th>\n",
              "      <th>agency_name</th>\n",
              "      <th>agency_ori</th>\n",
              "      <th>agency_incident_id</th>\n",
              "      <th>occurred_date</th>\n",
              "      <th>occurred_time</th>\n",
              "      <th>offense_category</th>\n",
              "      <th>top_ucr_classification</th>\n",
              "      <th>top_local_classification</th>\n",
              "      <th>nibrs_code</th>\n",
              "      <th>weapon</th>\n",
              "      <th>firearm_ind</th>\n",
              "      <th>offense_group</th>\n",
              "      <th>domestic_violence_ind</th>\n",
              "      <th>family_violence_ind</th>\n",
              "      <th>gang_activity_ind</th>\n",
              "      <th>relationship_to_offender</th>\n",
              "      <th>circumstance</th>\n",
              "      <th>inside_outside</th>\n",
              "      <th>victim_age</th>\n",
              "      <th>victim_race</th>\n",
              "      <th>victim_ethnicity</th>\n",
              "      <th>victim_race_condensed</th>\n",
              "      <th>victim_sex</th>\n",
              "      <th>case_status</th>\n",
              "      <th>arrest_ind</th>\n",
              "      <th>clearance_status</th>\n",
              "      <th>clearance_group</th>\n",
              "      <th>clearance_date</th>\n",
              "      <th>arrest_date</th>\n",
              "    </tr>\n",
              "  </thead>\n",
              "  <tbody>\n",
              "    <tr>\n",
              "      <th>569288</th>\n",
              "      <td>PAPEP0000-2F7FC50E28-01-01</td>\n",
              "      <td>PHILADELPHIA-MAIN</td>\n",
              "      <td>PHILADELPHIA-PD</td>\n",
              "      <td>PAPEP0000</td>\n",
              "      <td>934548</td>\n",
              "      <td>2013-06-08</td>\n",
              "      <td>06:15</td>\n",
              "      <td>AGG ASSAULT</td>\n",
              "      <td>AGG ASSAULT</td>\n",
              "      <td>407 - AGGRAVATED ASSAULT: DOMESTIC ABUSE: HAND...</td>\n",
              "      <td>NaN</td>\n",
              "      <td>HANDGUN</td>\n",
              "      <td>Y</td>\n",
              "      <td>Agg Assault - Gun</td>\n",
              "      <td>NaN</td>\n",
              "      <td>NaN</td>\n",
              "      <td>NaN</td>\n",
              "      <td>DOMESTIC</td>\n",
              "      <td>NaN</td>\n",
              "      <td>NaN</td>\n",
              "      <td>NaN</td>\n",
              "      <td>NaN</td>\n",
              "      <td>NaN</td>\n",
              "      <td>OTHER/UNKNOWN</td>\n",
              "      <td>NaN</td>\n",
              "      <td>NaN</td>\n",
              "      <td>Y</td>\n",
              "      <td>NaN</td>\n",
              "      <td>Cleared-Arrest &amp; Arrest-Unspecified</td>\n",
              "      <td>NaN</td>\n",
              "      <td>2013-06-08</td>\n",
              "    </tr>\n",
              "    <tr>\n",
              "      <th>221430</th>\n",
              "      <td>ILCPD0000-80E597D65C-01-01</td>\n",
              "      <td>CHICAGO-AGG</td>\n",
              "      <td>CHICAGO-PD</td>\n",
              "      <td>ILCPD0000</td>\n",
              "      <td>HW508872</td>\n",
              "      <td>2013-10-27</td>\n",
              "      <td>08:19</td>\n",
              "      <td>NaN</td>\n",
              "      <td>AGGRAVATED ASSAULT</td>\n",
              "      <td>BATTERY AGGRAVATED DOMESTIC BATTERY: OTHER DAN...</td>\n",
              "      <td>NaN</td>\n",
              "      <td>OTHER</td>\n",
              "      <td>N</td>\n",
              "      <td>Agg Assault - Other Weapon</td>\n",
              "      <td>Y</td>\n",
              "      <td>NaN</td>\n",
              "      <td>NaN</td>\n",
              "      <td>NaN</td>\n",
              "      <td>NaN</td>\n",
              "      <td>NaN</td>\n",
              "      <td>NaN</td>\n",
              "      <td>NaN</td>\n",
              "      <td>NaN</td>\n",
              "      <td>OTHER/UNKNOWN</td>\n",
              "      <td>NaN</td>\n",
              "      <td>NaN</td>\n",
              "      <td>N</td>\n",
              "      <td>NaN</td>\n",
              "      <td>Open &amp; No Arrest-Unspecified</td>\n",
              "      <td>NaN</td>\n",
              "      <td>NaN</td>\n",
              "    </tr>\n",
              "    <tr>\n",
              "      <th>534914</th>\n",
              "      <td>PAPEP0000-671CCBAE2D-01-01</td>\n",
              "      <td>PHILADELPHIA-MAIN</td>\n",
              "      <td>PHILADELPHIA-PD</td>\n",
              "      <td>PAPEP0000</td>\n",
              "      <td>442173</td>\n",
              "      <td>2009-06-02</td>\n",
              "      <td>15:17</td>\n",
              "      <td>AGG ASSAULT</td>\n",
              "      <td>AGG ASSAULT</td>\n",
              "      <td>491 - AGGRAVATED ASSAULT: CHILD ABUSE: HANDGUN</td>\n",
              "      <td>NaN</td>\n",
              "      <td>HANDGUN</td>\n",
              "      <td>Y</td>\n",
              "      <td>Agg Assault - Gun</td>\n",
              "      <td>NaN</td>\n",
              "      <td>NaN</td>\n",
              "      <td>NaN</td>\n",
              "      <td>CHILD</td>\n",
              "      <td>NaN</td>\n",
              "      <td>NaN</td>\n",
              "      <td>NaN</td>\n",
              "      <td>NaN</td>\n",
              "      <td>NaN</td>\n",
              "      <td>OTHER/UNKNOWN</td>\n",
              "      <td>NaN</td>\n",
              "      <td>NaN</td>\n",
              "      <td>Y</td>\n",
              "      <td>NaN</td>\n",
              "      <td>Cleared-Arrest &amp; Arrest-Unspecified</td>\n",
              "      <td>NaN</td>\n",
              "      <td>2009-06-17</td>\n",
              "    </tr>\n",
              "    <tr>\n",
              "      <th>677882</th>\n",
              "      <td>MOSPD0000-93BCAA2539-01-01</td>\n",
              "      <td>ST-LOUIS-AGG</td>\n",
              "      <td>ST-LOUIS-MPD</td>\n",
              "      <td>MOSPD0000</td>\n",
              "      <td>9002908</td>\n",
              "      <td>2009-01-14</td>\n",
              "      <td>02:00</td>\n",
              "      <td>NaN</td>\n",
              "      <td>GUN ASSAULT</td>\n",
              "      <td>NaN</td>\n",
              "      <td>NaN</td>\n",
              "      <td>FIREARM</td>\n",
              "      <td>Y</td>\n",
              "      <td>Agg Assault - Gun</td>\n",
              "      <td>NaN</td>\n",
              "      <td>N</td>\n",
              "      <td>NaN</td>\n",
              "      <td>NaN</td>\n",
              "      <td>NaN</td>\n",
              "      <td>NaN</td>\n",
              "      <td>NaN</td>\n",
              "      <td>NaN</td>\n",
              "      <td>NaN</td>\n",
              "      <td>OTHER/UNKNOWN</td>\n",
              "      <td>NaN</td>\n",
              "      <td>NaN</td>\n",
              "      <td>N</td>\n",
              "      <td>OPEN</td>\n",
              "      <td>Open &amp; No Arrest-Unspecified</td>\n",
              "      <td>NaN</td>\n",
              "      <td>NaN</td>\n",
              "    </tr>\n",
              "    <tr>\n",
              "      <th>506451</th>\n",
              "      <td>PAPEP0000-41A89EEA40-01-01</td>\n",
              "      <td>PHILADELPHIA-MAIN</td>\n",
              "      <td>PHILADELPHIA-PD</td>\n",
              "      <td>PAPEP0000</td>\n",
              "      <td>40970</td>\n",
              "      <td>2006-06-12</td>\n",
              "      <td>16:56</td>\n",
              "      <td>AGG ASSAULT</td>\n",
              "      <td>AGG ASSAULT</td>\n",
              "      <td>410 - AGGRAVATED ASSAULT: DOMESTIC ABUSE: KNIF...</td>\n",
              "      <td>NaN</td>\n",
              "      <td>KNIFE</td>\n",
              "      <td>N</td>\n",
              "      <td>Agg Assault - Other Weapon</td>\n",
              "      <td>NaN</td>\n",
              "      <td>NaN</td>\n",
              "      <td>NaN</td>\n",
              "      <td>DOMESTIC</td>\n",
              "      <td>NaN</td>\n",
              "      <td>NaN</td>\n",
              "      <td>NaN</td>\n",
              "      <td>NaN</td>\n",
              "      <td>NaN</td>\n",
              "      <td>OTHER/UNKNOWN</td>\n",
              "      <td>NaN</td>\n",
              "      <td>NaN</td>\n",
              "      <td>Y</td>\n",
              "      <td>NaN</td>\n",
              "      <td>Cleared-Arrest &amp; Arrest-Unspecified</td>\n",
              "      <td>NaN</td>\n",
              "      <td>2006-06-12</td>\n",
              "    </tr>\n",
              "    <tr>\n",
              "      <th>460999</th>\n",
              "      <td>CA0194200-81D1188D3A-01-01</td>\n",
              "      <td>LOS-ANGELES-MAIN</td>\n",
              "      <td>LOS-ANGELES-PD</td>\n",
              "      <td>CA0194200</td>\n",
              "      <td>171221677</td>\n",
              "      <td>2017-08-31</td>\n",
              "      <td>22:00</td>\n",
              "      <td>AGG ASSAULT - SHOOTING - NON-FATAL</td>\n",
              "      <td>AGG ASSAULT</td>\n",
              "      <td>ASSAULT WITH DEADLY WEAPON, AGGRAVATED ASSAULT</td>\n",
              "      <td>NaN</td>\n",
              "      <td>SEMI-AUTOMATIC PISTOL</td>\n",
              "      <td>Y</td>\n",
              "      <td>Agg Assault - Gun</td>\n",
              "      <td>NaN</td>\n",
              "      <td>NaN</td>\n",
              "      <td>Y</td>\n",
              "      <td>NaN</td>\n",
              "      <td>NaN</td>\n",
              "      <td>NaN</td>\n",
              "      <td>29</td>\n",
              "      <td>BLACK</td>\n",
              "      <td>BLACK</td>\n",
              "      <td>BLACK/HISPANIC</td>\n",
              "      <td>M</td>\n",
              "      <td>INVEST CONT</td>\n",
              "      <td>N</td>\n",
              "      <td>OPEN</td>\n",
              "      <td>Open &amp; No Arrest-Unspecified</td>\n",
              "      <td>NaN</td>\n",
              "      <td>NaN</td>\n",
              "    </tr>\n",
              "    <tr>\n",
              "      <th>105051</th>\n",
              "      <td>ILCPD0000-05E5C2EE90-01-01</td>\n",
              "      <td>CHICAGO-AGG</td>\n",
              "      <td>CHICAGO-PD</td>\n",
              "      <td>ILCPD0000</td>\n",
              "      <td>HL712260</td>\n",
              "      <td>2005-11-03</td>\n",
              "      <td>06:15</td>\n",
              "      <td>NaN</td>\n",
              "      <td>AGGRAVATED ASSAULT</td>\n",
              "      <td>BATTERY AGGRAVATED: HANDGUN</td>\n",
              "      <td>NaN</td>\n",
              "      <td>FIREARM</td>\n",
              "      <td>Y</td>\n",
              "      <td>Agg Assault - Gun</td>\n",
              "      <td>Y</td>\n",
              "      <td>NaN</td>\n",
              "      <td>NaN</td>\n",
              "      <td>NaN</td>\n",
              "      <td>NaN</td>\n",
              "      <td>NaN</td>\n",
              "      <td>NaN</td>\n",
              "      <td>NaN</td>\n",
              "      <td>NaN</td>\n",
              "      <td>OTHER/UNKNOWN</td>\n",
              "      <td>NaN</td>\n",
              "      <td>NaN</td>\n",
              "      <td>Y</td>\n",
              "      <td>NaN</td>\n",
              "      <td>Cleared-Arrest &amp; Arrest-Unspecified</td>\n",
              "      <td>NaN</td>\n",
              "      <td>NaN</td>\n",
              "    </tr>\n",
              "    <tr>\n",
              "      <th>33455</th>\n",
              "      <td>ILCPD0000-6F67D87CEB-01-01</td>\n",
              "      <td>CHICAGO-AGG</td>\n",
              "      <td>CHICAGO-PD</td>\n",
              "      <td>ILCPD0000</td>\n",
              "      <td>HH250541</td>\n",
              "      <td>2002-01-19</td>\n",
              "      <td>19:15</td>\n",
              "      <td>NaN</td>\n",
              "      <td>AGGRAVATED ASSAULT</td>\n",
              "      <td>BATTERY AGGRAVATED: OTHER DANG WEAPON</td>\n",
              "      <td>NaN</td>\n",
              "      <td>OTHER</td>\n",
              "      <td>N</td>\n",
              "      <td>Agg Assault - Other Weapon</td>\n",
              "      <td>N</td>\n",
              "      <td>NaN</td>\n",
              "      <td>NaN</td>\n",
              "      <td>NaN</td>\n",
              "      <td>NaN</td>\n",
              "      <td>NaN</td>\n",
              "      <td>NaN</td>\n",
              "      <td>NaN</td>\n",
              "      <td>NaN</td>\n",
              "      <td>OTHER/UNKNOWN</td>\n",
              "      <td>NaN</td>\n",
              "      <td>NaN</td>\n",
              "      <td>N</td>\n",
              "      <td>NaN</td>\n",
              "      <td>Open &amp; No Arrest-Unspecified</td>\n",
              "      <td>NaN</td>\n",
              "      <td>NaN</td>\n",
              "    </tr>\n",
              "    <tr>\n",
              "      <th>62660</th>\n",
              "      <td>ILCPD0000-11DB519A1E-01-01</td>\n",
              "      <td>CHICAGO-AGG</td>\n",
              "      <td>CHICAGO-PD</td>\n",
              "      <td>ILCPD0000</td>\n",
              "      <td>HJ506054</td>\n",
              "      <td>2003-07-20</td>\n",
              "      <td>04:55</td>\n",
              "      <td>NaN</td>\n",
              "      <td>AGGRAVATED ASSAULT</td>\n",
              "      <td>BATTERY AGGRAVATED: OTHER DANG WEAPON</td>\n",
              "      <td>NaN</td>\n",
              "      <td>OTHER</td>\n",
              "      <td>N</td>\n",
              "      <td>Agg Assault - Other Weapon</td>\n",
              "      <td>N</td>\n",
              "      <td>NaN</td>\n",
              "      <td>NaN</td>\n",
              "      <td>NaN</td>\n",
              "      <td>NaN</td>\n",
              "      <td>NaN</td>\n",
              "      <td>NaN</td>\n",
              "      <td>NaN</td>\n",
              "      <td>NaN</td>\n",
              "      <td>OTHER/UNKNOWN</td>\n",
              "      <td>NaN</td>\n",
              "      <td>NaN</td>\n",
              "      <td>N</td>\n",
              "      <td>NaN</td>\n",
              "      <td>Open &amp; No Arrest-Unspecified</td>\n",
              "      <td>NaN</td>\n",
              "      <td>NaN</td>\n",
              "    </tr>\n",
              "    <tr>\n",
              "      <th>283524</th>\n",
              "      <td>OHCIP0000-44BF926428-01-01</td>\n",
              "      <td>CINCINATTI-MAIN</td>\n",
              "      <td>CINCINNATI-PD</td>\n",
              "      <td>OHCIP0000</td>\n",
              "      <td>11003052</td>\n",
              "      <td>2010-07-18</td>\n",
              "      <td>03:25</td>\n",
              "      <td>AGGRAVATED ASSAULT</td>\n",
              "      <td>NaN</td>\n",
              "      <td>401 - FELONIOUS ASSAULT</td>\n",
              "      <td>NaN</td>\n",
              "      <td>FIREARM</td>\n",
              "      <td>Y</td>\n",
              "      <td>Agg Assault - Gun</td>\n",
              "      <td>NaN</td>\n",
              "      <td>NaN</td>\n",
              "      <td>NaN</td>\n",
              "      <td>NaN</td>\n",
              "      <td>N--NO BIAS/NOT APPLICABLE</td>\n",
              "      <td>NaN</td>\n",
              "      <td>NaN</td>\n",
              "      <td>NaN</td>\n",
              "      <td>NaN</td>\n",
              "      <td>OTHER/UNKNOWN</td>\n",
              "      <td>NaN</td>\n",
              "      <td>J - CLOSED</td>\n",
              "      <td>N</td>\n",
              "      <td>OPEN</td>\n",
              "      <td>Open &amp; No Arrest-Unspecified</td>\n",
              "      <td>NaN</td>\n",
              "      <td>NaN</td>\n",
              "    </tr>\n",
              "  </tbody>\n",
              "</table>\n",
              "</div>"
            ],
            "text/plain": [
              "                          row_hash  ... arrest_date\n",
              "569288  PAPEP0000-2F7FC50E28-01-01  ...  2013-06-08\n",
              "221430  ILCPD0000-80E597D65C-01-01  ...         NaN\n",
              "534914  PAPEP0000-671CCBAE2D-01-01  ...  2009-06-17\n",
              "677882  MOSPD0000-93BCAA2539-01-01  ...         NaN\n",
              "506451  PAPEP0000-41A89EEA40-01-01  ...  2006-06-12\n",
              "460999  CA0194200-81D1188D3A-01-01  ...         NaN\n",
              "105051  ILCPD0000-05E5C2EE90-01-01  ...         NaN\n",
              "33455   ILCPD0000-6F67D87CEB-01-01  ...         NaN\n",
              "62660   ILCPD0000-11DB519A1E-01-01  ...         NaN\n",
              "283524  OHCIP0000-44BF926428-01-01  ...         NaN\n",
              "\n",
              "[10 rows x 31 columns]"
            ]
          },
          "metadata": {
            "tags": []
          },
          "execution_count": 38
        }
      ]
    },
    {
      "cell_type": "code",
      "metadata": {
        "id": "UY-rPrt_PZoZ",
        "colab_type": "code",
        "colab": {
          "base_uri": "https://localhost:8080/",
          "height": 647
        },
        "outputId": "0f2f2131-3192-4fa2-fe68-0220ce046a50"
      },
      "source": [
        "crimes_small = crimes[['offense_group', 'clearance_status',]].copy()\n",
        "\n",
        "crimes_small.sample(20)"
      ],
      "execution_count": 42,
      "outputs": [
        {
          "output_type": "execute_result",
          "data": {
            "text/html": [
              "<div>\n",
              "<style scoped>\n",
              "    .dataframe tbody tr th:only-of-type {\n",
              "        vertical-align: middle;\n",
              "    }\n",
              "\n",
              "    .dataframe tbody tr th {\n",
              "        vertical-align: top;\n",
              "    }\n",
              "\n",
              "    .dataframe thead th {\n",
              "        text-align: right;\n",
              "    }\n",
              "</style>\n",
              "<table border=\"1\" class=\"dataframe\">\n",
              "  <thead>\n",
              "    <tr style=\"text-align: right;\">\n",
              "      <th></th>\n",
              "      <th>offense_group</th>\n",
              "      <th>clearance_status</th>\n",
              "    </tr>\n",
              "  </thead>\n",
              "  <tbody>\n",
              "    <tr>\n",
              "      <th>128277</th>\n",
              "      <td>Agg Assault - Other Weapon</td>\n",
              "      <td>NaN</td>\n",
              "    </tr>\n",
              "    <tr>\n",
              "      <th>14964</th>\n",
              "      <td>Agg Assault - Other Weapon</td>\n",
              "      <td>NaN</td>\n",
              "    </tr>\n",
              "    <tr>\n",
              "      <th>575516</th>\n",
              "      <td>Agg Assault - Other Weapon</td>\n",
              "      <td>NaN</td>\n",
              "    </tr>\n",
              "    <tr>\n",
              "      <th>279520</th>\n",
              "      <td>Homicide - Gun</td>\n",
              "      <td>OPEN</td>\n",
              "    </tr>\n",
              "    <tr>\n",
              "      <th>588675</th>\n",
              "      <td>Agg Assault - Other Weapon</td>\n",
              "      <td>NaN</td>\n",
              "    </tr>\n",
              "    <tr>\n",
              "      <th>154768</th>\n",
              "      <td>Agg Assault - Gun</td>\n",
              "      <td>NaN</td>\n",
              "    </tr>\n",
              "    <tr>\n",
              "      <th>65577</th>\n",
              "      <td>Agg Assault - Other Weapon</td>\n",
              "      <td>NaN</td>\n",
              "    </tr>\n",
              "    <tr>\n",
              "      <th>118914</th>\n",
              "      <td>Agg Assault - Gun</td>\n",
              "      <td>NaN</td>\n",
              "    </tr>\n",
              "    <tr>\n",
              "      <th>128634</th>\n",
              "      <td>Agg Assault - Other Weapon</td>\n",
              "      <td>NaN</td>\n",
              "    </tr>\n",
              "    <tr>\n",
              "      <th>631022</th>\n",
              "      <td>Agg Assault - Other Weapon</td>\n",
              "      <td>CLEARED-EX</td>\n",
              "    </tr>\n",
              "    <tr>\n",
              "      <th>651944</th>\n",
              "      <td>Agg Assault - Other Weapon</td>\n",
              "      <td>CLEARED-ARREST</td>\n",
              "    </tr>\n",
              "    <tr>\n",
              "      <th>592603</th>\n",
              "      <td>Agg Assault - Other Weapon</td>\n",
              "      <td>NaN</td>\n",
              "    </tr>\n",
              "    <tr>\n",
              "      <th>381418</th>\n",
              "      <td>Agg Assault - Gun</td>\n",
              "      <td>OPEN</td>\n",
              "    </tr>\n",
              "    <tr>\n",
              "      <th>279383</th>\n",
              "      <td>Homicide - Gun</td>\n",
              "      <td>OPEN</td>\n",
              "    </tr>\n",
              "    <tr>\n",
              "      <th>126536</th>\n",
              "      <td>Agg Assault - Other Weapon</td>\n",
              "      <td>NaN</td>\n",
              "    </tr>\n",
              "    <tr>\n",
              "      <th>612068</th>\n",
              "      <td>Agg Assault - Other Weapon</td>\n",
              "      <td>NaN</td>\n",
              "    </tr>\n",
              "    <tr>\n",
              "      <th>450796</th>\n",
              "      <td>Agg Assault - Gun</td>\n",
              "      <td>CLEARED-ARREST</td>\n",
              "    </tr>\n",
              "    <tr>\n",
              "      <th>563267</th>\n",
              "      <td>Agg Assault - Gun</td>\n",
              "      <td>NaN</td>\n",
              "    </tr>\n",
              "    <tr>\n",
              "      <th>11723</th>\n",
              "      <td>Agg Assault - Other Weapon</td>\n",
              "      <td>NaN</td>\n",
              "    </tr>\n",
              "    <tr>\n",
              "      <th>522647</th>\n",
              "      <td>Agg Assault - Other Weapon</td>\n",
              "      <td>NaN</td>\n",
              "    </tr>\n",
              "  </tbody>\n",
              "</table>\n",
              "</div>"
            ],
            "text/plain": [
              "                     offense_group clearance_status\n",
              "128277  Agg Assault - Other Weapon              NaN\n",
              "14964   Agg Assault - Other Weapon              NaN\n",
              "575516  Agg Assault - Other Weapon              NaN\n",
              "279520              Homicide - Gun             OPEN\n",
              "588675  Agg Assault - Other Weapon              NaN\n",
              "154768           Agg Assault - Gun              NaN\n",
              "65577   Agg Assault - Other Weapon              NaN\n",
              "118914           Agg Assault - Gun              NaN\n",
              "128634  Agg Assault - Other Weapon              NaN\n",
              "631022  Agg Assault - Other Weapon       CLEARED-EX\n",
              "651944  Agg Assault - Other Weapon   CLEARED-ARREST\n",
              "592603  Agg Assault - Other Weapon              NaN\n",
              "381418           Agg Assault - Gun             OPEN\n",
              "279383              Homicide - Gun             OPEN\n",
              "126536  Agg Assault - Other Weapon              NaN\n",
              "612068  Agg Assault - Other Weapon              NaN\n",
              "450796           Agg Assault - Gun   CLEARED-ARREST\n",
              "563267           Agg Assault - Gun              NaN\n",
              "11723   Agg Assault - Other Weapon              NaN\n",
              "522647  Agg Assault - Other Weapon              NaN"
            ]
          },
          "metadata": {
            "tags": []
          },
          "execution_count": 42
        }
      ]
    },
    {
      "cell_type": "code",
      "metadata": {
        "id": "G4WBFGXMOdtA",
        "colab_type": "code",
        "colab": {
          "base_uri": "https://localhost:8080/",
          "height": 158
        },
        "outputId": "b4681ab8-228d-43c4-bdaf-3cee95724aae"
      },
      "source": [
        "crimes['offense_group'].value_counts()"
      ],
      "execution_count": 15,
      "outputs": [
        {
          "output_type": "execute_result",
          "data": {
            "text/plain": [
              "Agg Assault - Other Weapon          424888\n",
              "Agg Assault - Gun                   270227\n",
              "Homicide - Gun                       25212\n",
              "Agg Assault - Weapon Unspecified     11500\n",
              "Non-Fatal Shooting                    8284\n",
              "Homicide - Other Weapon               6975\n",
              "Homicide - Weapon Unspecified          572\n",
              "Name: offense_group, dtype: int64"
            ]
          },
          "metadata": {
            "tags": []
          },
          "execution_count": 15
        }
      ]
    },
    {
      "cell_type": "code",
      "metadata": {
        "id": "kdbowP3mOxVe",
        "colab_type": "code",
        "colab": {}
      },
      "source": [
        "#Bar chart of crime types\n",
        "\n",
        "# crimes['offense_group'].value_counts().plot(kind='bar', figsize=(12,12));"
      ],
      "execution_count": 25,
      "outputs": []
    },
    {
      "cell_type": "code",
      "metadata": {
        "id": "PeVv_bxzfyvR",
        "colab_type": "code",
        "colab": {
          "base_uri": "https://localhost:8080/",
          "height": 194
        },
        "outputId": "72564227-730a-4c52-ab50-15836f4523b6"
      },
      "source": [
        "crimes['clearance_status'].value_counts()"
      ],
      "execution_count": 55,
      "outputs": [
        {
          "output_type": "execute_result",
          "data": {
            "text/plain": [
              "OPEN                   183907\n",
              "CLEARED-ARREST         101787\n",
              "CLEARED-EX              31345\n",
              "CLEARED-UNSPECIFIED     22742\n",
              "CLOSED-UNSPECIFIED      16505\n",
              "UNCLEAR                   425\n",
              "ARREST-UNSPECIFIED        294\n",
              "MISSING                   247\n",
              "UNKNOWN                     3\n",
              "Name: clearance_status, dtype: int64"
            ]
          },
          "metadata": {
            "tags": []
          },
          "execution_count": 55
        }
      ]
    },
    {
      "cell_type": "code",
      "metadata": {
        "id": "M6kd8Y9YPMeJ",
        "colab_type": "code",
        "colab": {}
      },
      "source": [
        "#Pie chart of clearance\n",
        "\n",
        "# crimes['clearance_group'].value_counts().plot(kind='pie', figsize=(12,12));"
      ],
      "execution_count": 26,
      "outputs": []
    },
    {
      "cell_type": "code",
      "metadata": {
        "id": "Pt90pyzdQwbm",
        "colab_type": "code",
        "colab": {}
      },
      "source": [
        "homicide_categories = ['Homicide - Gun', 'Homicide - Other Weapon', 'Homicide - Weapon Unspecified']\n",
        "\n",
        "# Agg Assault - Other Weapon          \n",
        "# Agg Assault - Gun                   \n",
        "# Homicide - Gun                       \n",
        "# Agg Assault - Weapon Unspecified     \n",
        "# Non-Fatal Shooting                    \n",
        "# Homicide - Other Weapon               \n",
        "# Homicide - Weapon Unspecified\n",
        "\n",
        "def group_offenses(offense_group):\n",
        "  if offense_group in homicide_categories:\n",
        "    return 'Homicide'\n",
        "  else:\n",
        "    return \"Assault\""
      ],
      "execution_count": 78,
      "outputs": []
    },
    {
      "cell_type": "code",
      "metadata": {
        "id": "OwL4XCZ1oioz",
        "colab_type": "code",
        "colab": {}
      },
      "source": [
        "clearance_categories = ['UNCLEAR', 'MISSING', 'UNKNOWN']\n",
        "\n",
        "# OPEN                   \n",
        "# CLEARED-ARREST         \n",
        "# CLEARED-EX             \n",
        "# CLEARED-UNSPECIFIED     \n",
        "# CLOSED-UNSPECIFIED      \n",
        "# UNCLEAR                   \n",
        "# ARREST-UNSPECIFIED        \n",
        "# MISSING                   \n",
        "# UNKNOWN                     \n",
        "\n",
        "def group_clearance(clearance_status):\n",
        "  if clearance_status in clearance_categories:\n",
        "    return 'UNKNOWN'\n",
        "  elif clearance_status == 'OPEN':\n",
        "    return 'OPEN'\n",
        "  else:\n",
        "    return 'CLEARED'"
      ],
      "execution_count": 79,
      "outputs": []
    },
    {
      "cell_type": "code",
      "metadata": {
        "id": "eaZVBi5dNQ1E",
        "colab_type": "code",
        "colab": {
          "base_uri": "https://localhost:8080/",
          "height": 34
        },
        "outputId": "039ebad2-ed70-47be-bccc-8b7501eb36b7"
      },
      "source": [
        "crimes['clearance_status'][279520]"
      ],
      "execution_count": 80,
      "outputs": [
        {
          "output_type": "execute_result",
          "data": {
            "text/plain": [
              "'OPEN'"
            ]
          },
          "metadata": {
            "tags": []
          },
          "execution_count": 80
        }
      ]
    },
    {
      "cell_type": "code",
      "metadata": {
        "id": "lHzwniYkN4VB",
        "colab_type": "code",
        "colab": {
          "base_uri": "https://localhost:8080/",
          "height": 34
        },
        "outputId": "2d5d5b3a-969e-40f3-8ec5-803b45a60e96"
      },
      "source": [
        "group_clearance(crimes['clearance_status'][279520])"
      ],
      "execution_count": 82,
      "outputs": [
        {
          "output_type": "execute_result",
          "data": {
            "text/plain": [
              "'OPEN'"
            ]
          },
          "metadata": {
            "tags": []
          },
          "execution_count": 82
        }
      ]
    },
    {
      "cell_type": "code",
      "metadata": {
        "id": "K7nFQQBaLRbz",
        "colab_type": "code",
        "colab": {
          "base_uri": "https://localhost:8080/",
          "height": 70
        },
        "outputId": "e5794638-bc41-46d6-c3b3-1d3befab2cc4"
      },
      "source": [
        "crimes_small['offense'] = crimes_small['offense_group'].apply(group_offenses)\n",
        "\n",
        "crimes_small['offense'].value_counts()"
      ],
      "execution_count": 84,
      "outputs": [
        {
          "output_type": "execute_result",
          "data": {
            "text/plain": [
              "Assault     714899\n",
              "Homicide     32759\n",
              "Name: offense, dtype: int64"
            ]
          },
          "metadata": {
            "tags": []
          },
          "execution_count": 84
        }
      ]
    },
    {
      "cell_type": "code",
      "metadata": {
        "id": "vdSHPJsVr1P6",
        "colab_type": "code",
        "colab": {
          "base_uri": "https://localhost:8080/",
          "height": 87
        },
        "outputId": "5732cc79-6232-40ba-b40a-0d24d52db3ca"
      },
      "source": [
        "crimes_small['clearance'] = crimes_small['clearance_status'].apply(group_clearance)\n",
        "\n",
        "crimes_small['clearance'].value_counts()"
      ],
      "execution_count": 85,
      "outputs": [
        {
          "output_type": "execute_result",
          "data": {
            "text/plain": [
              "CLEARED    563076\n",
              "OPEN       183907\n",
              "UNKNOWN       675\n",
              "Name: clearance, dtype: int64"
            ]
          },
          "metadata": {
            "tags": []
          },
          "execution_count": 85
        }
      ]
    },
    {
      "cell_type": "code",
      "metadata": {
        "id": "1UUiLbMTRwkf",
        "colab_type": "code",
        "colab": {}
      },
      "source": [
        "# crimes_small.plot(kind = 'scatter', x = 'arrest_date', y = 'victim_age', c='Pclass', colormap='plasma', figsize=(15,4));"
      ],
      "execution_count": 125,
      "outputs": []
    },
    {
      "cell_type": "code",
      "metadata": {
        "id": "sMNosSfjT9YR",
        "colab_type": "code",
        "colab": {
          "base_uri": "https://localhost:8080/",
          "height": 197
        },
        "outputId": "2e960e69-ba27-444a-dde7-3bb701b8b869"
      },
      "source": [
        "assaults = crimes_small[crimes_small['offense']=='Assault']\n",
        "\n",
        "assaults.head()"
      ],
      "execution_count": 87,
      "outputs": [
        {
          "output_type": "execute_result",
          "data": {
            "text/html": [
              "<div>\n",
              "<style scoped>\n",
              "    .dataframe tbody tr th:only-of-type {\n",
              "        vertical-align: middle;\n",
              "    }\n",
              "\n",
              "    .dataframe tbody tr th {\n",
              "        vertical-align: top;\n",
              "    }\n",
              "\n",
              "    .dataframe thead th {\n",
              "        text-align: right;\n",
              "    }\n",
              "</style>\n",
              "<table border=\"1\" class=\"dataframe\">\n",
              "  <thead>\n",
              "    <tr style=\"text-align: right;\">\n",
              "      <th></th>\n",
              "      <th>offense_group</th>\n",
              "      <th>clearance_status</th>\n",
              "      <th>offense</th>\n",
              "      <th>clearance</th>\n",
              "    </tr>\n",
              "  </thead>\n",
              "  <tbody>\n",
              "    <tr>\n",
              "      <th>0</th>\n",
              "      <td>Non-Fatal Shooting</td>\n",
              "      <td>OPEN</td>\n",
              "      <td>Assault</td>\n",
              "      <td>OPEN</td>\n",
              "    </tr>\n",
              "    <tr>\n",
              "      <th>1</th>\n",
              "      <td>Non-Fatal Shooting</td>\n",
              "      <td>OPEN</td>\n",
              "      <td>Assault</td>\n",
              "      <td>OPEN</td>\n",
              "    </tr>\n",
              "    <tr>\n",
              "      <th>2</th>\n",
              "      <td>Non-Fatal Shooting</td>\n",
              "      <td>OPEN</td>\n",
              "      <td>Assault</td>\n",
              "      <td>OPEN</td>\n",
              "    </tr>\n",
              "    <tr>\n",
              "      <th>3</th>\n",
              "      <td>Non-Fatal Shooting</td>\n",
              "      <td>OPEN</td>\n",
              "      <td>Assault</td>\n",
              "      <td>OPEN</td>\n",
              "    </tr>\n",
              "    <tr>\n",
              "      <th>4</th>\n",
              "      <td>Non-Fatal Shooting</td>\n",
              "      <td>OPEN</td>\n",
              "      <td>Assault</td>\n",
              "      <td>OPEN</td>\n",
              "    </tr>\n",
              "  </tbody>\n",
              "</table>\n",
              "</div>"
            ],
            "text/plain": [
              "        offense_group clearance_status  offense clearance\n",
              "0  Non-Fatal Shooting             OPEN  Assault      OPEN\n",
              "1  Non-Fatal Shooting             OPEN  Assault      OPEN\n",
              "2  Non-Fatal Shooting             OPEN  Assault      OPEN\n",
              "3  Non-Fatal Shooting             OPEN  Assault      OPEN\n",
              "4  Non-Fatal Shooting             OPEN  Assault      OPEN"
            ]
          },
          "metadata": {
            "tags": []
          },
          "execution_count": 87
        }
      ]
    },
    {
      "cell_type": "code",
      "metadata": {
        "id": "2hs6YnDwUIIH",
        "colab_type": "code",
        "colab": {
          "base_uri": "https://localhost:8080/",
          "height": 197
        },
        "outputId": "c1b3ded0-4424-489c-fd2e-eadbce62ec46"
      },
      "source": [
        "homicides = crimes_small[crimes_small['offense']=='Homicide']\n",
        "\n",
        "homicides.head()"
      ],
      "execution_count": 88,
      "outputs": [
        {
          "output_type": "execute_result",
          "data": {
            "text/html": [
              "<div>\n",
              "<style scoped>\n",
              "    .dataframe tbody tr th:only-of-type {\n",
              "        vertical-align: middle;\n",
              "    }\n",
              "\n",
              "    .dataframe tbody tr th {\n",
              "        vertical-align: top;\n",
              "    }\n",
              "\n",
              "    .dataframe thead th {\n",
              "        text-align: right;\n",
              "    }\n",
              "</style>\n",
              "<table border=\"1\" class=\"dataframe\">\n",
              "  <thead>\n",
              "    <tr style=\"text-align: right;\">\n",
              "      <th></th>\n",
              "      <th>offense_group</th>\n",
              "      <th>clearance_status</th>\n",
              "      <th>offense</th>\n",
              "      <th>clearance</th>\n",
              "    </tr>\n",
              "  </thead>\n",
              "  <tbody>\n",
              "    <tr>\n",
              "      <th>3621</th>\n",
              "      <td>Homicide - Gun</td>\n",
              "      <td>OPEN</td>\n",
              "      <td>Homicide</td>\n",
              "      <td>OPEN</td>\n",
              "    </tr>\n",
              "    <tr>\n",
              "      <th>3622</th>\n",
              "      <td>Homicide - Gun</td>\n",
              "      <td>OPEN</td>\n",
              "      <td>Homicide</td>\n",
              "      <td>OPEN</td>\n",
              "    </tr>\n",
              "    <tr>\n",
              "      <th>3623</th>\n",
              "      <td>Homicide - Gun</td>\n",
              "      <td>OPEN</td>\n",
              "      <td>Homicide</td>\n",
              "      <td>OPEN</td>\n",
              "    </tr>\n",
              "    <tr>\n",
              "      <th>3624</th>\n",
              "      <td>Homicide - Gun</td>\n",
              "      <td>OPEN</td>\n",
              "      <td>Homicide</td>\n",
              "      <td>OPEN</td>\n",
              "    </tr>\n",
              "    <tr>\n",
              "      <th>3625</th>\n",
              "      <td>Homicide - Other Weapon</td>\n",
              "      <td>OPEN</td>\n",
              "      <td>Homicide</td>\n",
              "      <td>OPEN</td>\n",
              "    </tr>\n",
              "  </tbody>\n",
              "</table>\n",
              "</div>"
            ],
            "text/plain": [
              "                offense_group clearance_status   offense clearance\n",
              "3621           Homicide - Gun             OPEN  Homicide      OPEN\n",
              "3622           Homicide - Gun             OPEN  Homicide      OPEN\n",
              "3623           Homicide - Gun             OPEN  Homicide      OPEN\n",
              "3624           Homicide - Gun             OPEN  Homicide      OPEN\n",
              "3625  Homicide - Other Weapon             OPEN  Homicide      OPEN"
            ]
          },
          "metadata": {
            "tags": []
          },
          "execution_count": 88
        }
      ]
    },
    {
      "cell_type": "code",
      "metadata": {
        "id": "KHkLM9TCoDRz",
        "colab_type": "code",
        "colab": {
          "base_uri": "https://localhost:8080/",
          "height": 34
        },
        "outputId": "bf7e11ae-9f91-4c7a-a83d-e2eab97b49b6"
      },
      "source": [
        "# Homicide Clearance Rate\n",
        "\n",
        "homicide_xtab = pd.crosstab(homicides['clearance'], homicides['offense'], \n",
        "            normalize=True,\n",
        "            margins=True)\n",
        "\n",
        "homicide_xtab['Homicide']['CLEARED']"
      ],
      "execution_count": 92,
      "outputs": [
        {
          "output_type": "execute_result",
          "data": {
            "text/plain": [
              "0.6062150859305839"
            ]
          },
          "metadata": {
            "tags": []
          },
          "execution_count": 92
        }
      ]
    },
    {
      "cell_type": "code",
      "metadata": {
        "id": "MuFtIhjcsuiq",
        "colab_type": "code",
        "colab": {
          "base_uri": "https://localhost:8080/",
          "height": 34
        },
        "outputId": "bdb180ae-e256-4ab4-e300-2bb689771d3a"
      },
      "source": [
        "# Assault Clearance Rate\n",
        "\n",
        "assault_xtab = pd.crosstab(assaults['clearance'], assaults['offense'], \n",
        "            normalize=True,\n",
        "            margins=True)\n",
        "\n",
        "assault_xtab['Assault']['CLEARED']"
      ],
      "execution_count": 94,
      "outputs": [
        {
          "output_type": "execute_result",
          "data": {
            "text/plain": [
              "0.7598513915951763"
            ]
          },
          "metadata": {
            "tags": []
          },
          "execution_count": 94
        }
      ]
    },
    {
      "cell_type": "markdown",
      "metadata": {
        "id": "6ws_iqhxRLfu",
        "colab_type": "text"
      },
      "source": [
        "# Charts"
      ]
    },
    {
      "cell_type": "code",
      "metadata": {
        "id": "UAx5kQR6RPDo",
        "colab_type": "code",
        "colab": {
          "base_uri": "https://localhost:8080/",
          "height": 87
        },
        "outputId": "60eeb6e1-d4ad-41ae-b375-4a518ce1f291"
      },
      "source": [
        "homicides['clearance'].value_counts()"
      ],
      "execution_count": 116,
      "outputs": [
        {
          "output_type": "execute_result",
          "data": {
            "text/plain": [
              "CLEARED    19859\n",
              "OPEN       12667\n",
              "UNKNOWN      233\n",
              "Name: clearance, dtype: int64"
            ]
          },
          "metadata": {
            "tags": []
          },
          "execution_count": 116
        }
      ]
    },
    {
      "cell_type": "code",
      "metadata": {
        "id": "72yS-dgbuhcc",
        "colab_type": "code",
        "colab": {
          "base_uri": "https://localhost:8080/",
          "height": 542
        },
        "outputId": "fda84a2a-a724-46e2-9383-15f51dd09889"
      },
      "source": [
        "import plotly.graph_objects as go\n",
        "\n",
        "labels = ['Cleared','Open','Unknown']\n",
        "values = homicides['clearance'].value_counts()\n",
        "\n",
        "# pull is given as a fraction of the pie radius\n",
        "fig = go.Figure(data=[go.Pie(labels=labels, \n",
        "                             values=values, \n",
        "                             pull=[0, 0.3, 0])])\n",
        "fig.show()"
      ],
      "execution_count": 122,
      "outputs": [
        {
          "output_type": "display_data",
          "data": {
            "text/html": [
              "<html>\n",
              "<head><meta charset=\"utf-8\" /></head>\n",
              "<body>\n",
              "    <div>\n",
              "            <script src=\"https://cdnjs.cloudflare.com/ajax/libs/mathjax/2.7.5/MathJax.js?config=TeX-AMS-MML_SVG\"></script><script type=\"text/javascript\">if (window.MathJax) {MathJax.Hub.Config({SVG: {font: \"STIX-Web\"}});}</script>\n",
              "                <script type=\"text/javascript\">window.PlotlyConfig = {MathJaxConfig: 'local'};</script>\n",
              "        <script src=\"https://cdn.plot.ly/plotly-latest.min.js\"></script>    \n",
              "            <div id=\"f4c42847-1abb-488c-8f91-952e8b6c50cf\" class=\"plotly-graph-div\" style=\"height:525px; width:100%;\"></div>\n",
              "            <script type=\"text/javascript\">\n",
              "                \n",
              "                    window.PLOTLYENV=window.PLOTLYENV || {};\n",
              "                    \n",
              "                if (document.getElementById(\"f4c42847-1abb-488c-8f91-952e8b6c50cf\")) {\n",
              "                    Plotly.newPlot(\n",
              "                        'f4c42847-1abb-488c-8f91-952e8b6c50cf',\n",
              "                        [{\"labels\": [\"Cleared\", \"Open\", \"Unknown\"], \"pull\": [0, 0.3, 0], \"type\": \"pie\", \"values\": [19859, 12667, 233]}],\n",
              "                        {\"template\": {\"data\": {\"bar\": [{\"error_x\": {\"color\": \"#2a3f5f\"}, \"error_y\": {\"color\": \"#2a3f5f\"}, \"marker\": {\"line\": {\"color\": \"#E5ECF6\", \"width\": 0.5}}, \"type\": \"bar\"}], \"barpolar\": [{\"marker\": {\"line\": {\"color\": \"#E5ECF6\", \"width\": 0.5}}, \"type\": \"barpolar\"}], \"carpet\": [{\"aaxis\": {\"endlinecolor\": \"#2a3f5f\", \"gridcolor\": \"white\", \"linecolor\": \"white\", \"minorgridcolor\": \"white\", \"startlinecolor\": \"#2a3f5f\"}, \"baxis\": {\"endlinecolor\": \"#2a3f5f\", \"gridcolor\": \"white\", \"linecolor\": \"white\", \"minorgridcolor\": \"white\", \"startlinecolor\": \"#2a3f5f\"}, \"type\": \"carpet\"}], \"choropleth\": [{\"colorbar\": {\"outlinewidth\": 0, \"ticks\": \"\"}, \"type\": \"choropleth\"}], \"contour\": [{\"colorbar\": {\"outlinewidth\": 0, \"ticks\": \"\"}, \"colorscale\": [[0.0, \"#0d0887\"], [0.1111111111111111, \"#46039f\"], [0.2222222222222222, \"#7201a8\"], [0.3333333333333333, \"#9c179e\"], [0.4444444444444444, \"#bd3786\"], [0.5555555555555556, \"#d8576b\"], [0.6666666666666666, \"#ed7953\"], [0.7777777777777778, \"#fb9f3a\"], [0.8888888888888888, \"#fdca26\"], [1.0, \"#f0f921\"]], \"type\": \"contour\"}], \"contourcarpet\": [{\"colorbar\": {\"outlinewidth\": 0, \"ticks\": \"\"}, \"type\": \"contourcarpet\"}], \"heatmap\": [{\"colorbar\": {\"outlinewidth\": 0, \"ticks\": \"\"}, \"colorscale\": [[0.0, \"#0d0887\"], [0.1111111111111111, \"#46039f\"], [0.2222222222222222, \"#7201a8\"], [0.3333333333333333, \"#9c179e\"], [0.4444444444444444, \"#bd3786\"], [0.5555555555555556, \"#d8576b\"], [0.6666666666666666, \"#ed7953\"], [0.7777777777777778, \"#fb9f3a\"], [0.8888888888888888, \"#fdca26\"], [1.0, \"#f0f921\"]], \"type\": \"heatmap\"}], \"heatmapgl\": [{\"colorbar\": {\"outlinewidth\": 0, \"ticks\": \"\"}, \"colorscale\": [[0.0, \"#0d0887\"], [0.1111111111111111, \"#46039f\"], [0.2222222222222222, \"#7201a8\"], [0.3333333333333333, \"#9c179e\"], [0.4444444444444444, \"#bd3786\"], [0.5555555555555556, \"#d8576b\"], [0.6666666666666666, \"#ed7953\"], [0.7777777777777778, \"#fb9f3a\"], [0.8888888888888888, \"#fdca26\"], [1.0, \"#f0f921\"]], \"type\": \"heatmapgl\"}], \"histogram\": [{\"marker\": {\"colorbar\": {\"outlinewidth\": 0, \"ticks\": \"\"}}, \"type\": \"histogram\"}], \"histogram2d\": [{\"colorbar\": {\"outlinewidth\": 0, \"ticks\": \"\"}, \"colorscale\": [[0.0, \"#0d0887\"], [0.1111111111111111, \"#46039f\"], [0.2222222222222222, \"#7201a8\"], [0.3333333333333333, \"#9c179e\"], [0.4444444444444444, \"#bd3786\"], [0.5555555555555556, \"#d8576b\"], [0.6666666666666666, \"#ed7953\"], [0.7777777777777778, \"#fb9f3a\"], [0.8888888888888888, \"#fdca26\"], [1.0, \"#f0f921\"]], \"type\": \"histogram2d\"}], \"histogram2dcontour\": [{\"colorbar\": {\"outlinewidth\": 0, \"ticks\": \"\"}, \"colorscale\": [[0.0, \"#0d0887\"], [0.1111111111111111, \"#46039f\"], [0.2222222222222222, \"#7201a8\"], [0.3333333333333333, \"#9c179e\"], [0.4444444444444444, \"#bd3786\"], [0.5555555555555556, \"#d8576b\"], [0.6666666666666666, \"#ed7953\"], [0.7777777777777778, \"#fb9f3a\"], [0.8888888888888888, \"#fdca26\"], [1.0, \"#f0f921\"]], \"type\": \"histogram2dcontour\"}], \"mesh3d\": [{\"colorbar\": {\"outlinewidth\": 0, \"ticks\": \"\"}, \"type\": \"mesh3d\"}], \"parcoords\": [{\"line\": {\"colorbar\": {\"outlinewidth\": 0, \"ticks\": \"\"}}, \"type\": \"parcoords\"}], \"pie\": [{\"automargin\": true, \"type\": \"pie\"}], \"scatter\": [{\"marker\": {\"colorbar\": {\"outlinewidth\": 0, \"ticks\": \"\"}}, \"type\": \"scatter\"}], \"scatter3d\": [{\"line\": {\"colorbar\": {\"outlinewidth\": 0, \"ticks\": \"\"}}, \"marker\": {\"colorbar\": {\"outlinewidth\": 0, \"ticks\": \"\"}}, \"type\": \"scatter3d\"}], \"scattercarpet\": [{\"marker\": {\"colorbar\": {\"outlinewidth\": 0, \"ticks\": \"\"}}, \"type\": \"scattercarpet\"}], \"scattergeo\": [{\"marker\": {\"colorbar\": {\"outlinewidth\": 0, \"ticks\": \"\"}}, \"type\": \"scattergeo\"}], \"scattergl\": [{\"marker\": {\"colorbar\": {\"outlinewidth\": 0, \"ticks\": \"\"}}, \"type\": \"scattergl\"}], \"scattermapbox\": [{\"marker\": {\"colorbar\": {\"outlinewidth\": 0, \"ticks\": \"\"}}, \"type\": \"scattermapbox\"}], \"scatterpolar\": [{\"marker\": {\"colorbar\": {\"outlinewidth\": 0, \"ticks\": \"\"}}, \"type\": \"scatterpolar\"}], \"scatterpolargl\": [{\"marker\": {\"colorbar\": {\"outlinewidth\": 0, \"ticks\": \"\"}}, \"type\": \"scatterpolargl\"}], \"scatterternary\": [{\"marker\": {\"colorbar\": {\"outlinewidth\": 0, \"ticks\": \"\"}}, \"type\": \"scatterternary\"}], \"surface\": [{\"colorbar\": {\"outlinewidth\": 0, \"ticks\": \"\"}, \"colorscale\": [[0.0, \"#0d0887\"], [0.1111111111111111, \"#46039f\"], [0.2222222222222222, \"#7201a8\"], [0.3333333333333333, \"#9c179e\"], [0.4444444444444444, \"#bd3786\"], [0.5555555555555556, \"#d8576b\"], [0.6666666666666666, \"#ed7953\"], [0.7777777777777778, \"#fb9f3a\"], [0.8888888888888888, \"#fdca26\"], [1.0, \"#f0f921\"]], \"type\": \"surface\"}], \"table\": [{\"cells\": {\"fill\": {\"color\": \"#EBF0F8\"}, \"line\": {\"color\": \"white\"}}, \"header\": {\"fill\": {\"color\": \"#C8D4E3\"}, \"line\": {\"color\": \"white\"}}, \"type\": \"table\"}]}, \"layout\": {\"annotationdefaults\": {\"arrowcolor\": \"#2a3f5f\", \"arrowhead\": 0, \"arrowwidth\": 1}, \"coloraxis\": {\"colorbar\": {\"outlinewidth\": 0, \"ticks\": \"\"}}, \"colorscale\": {\"diverging\": [[0, \"#8e0152\"], [0.1, \"#c51b7d\"], [0.2, \"#de77ae\"], [0.3, \"#f1b6da\"], [0.4, \"#fde0ef\"], [0.5, \"#f7f7f7\"], [0.6, \"#e6f5d0\"], [0.7, \"#b8e186\"], [0.8, \"#7fbc41\"], [0.9, \"#4d9221\"], [1, \"#276419\"]], \"sequential\": [[0.0, \"#0d0887\"], [0.1111111111111111, \"#46039f\"], [0.2222222222222222, \"#7201a8\"], [0.3333333333333333, \"#9c179e\"], [0.4444444444444444, \"#bd3786\"], [0.5555555555555556, \"#d8576b\"], [0.6666666666666666, \"#ed7953\"], [0.7777777777777778, \"#fb9f3a\"], [0.8888888888888888, \"#fdca26\"], [1.0, \"#f0f921\"]], \"sequentialminus\": [[0.0, \"#0d0887\"], [0.1111111111111111, \"#46039f\"], [0.2222222222222222, \"#7201a8\"], [0.3333333333333333, \"#9c179e\"], [0.4444444444444444, \"#bd3786\"], [0.5555555555555556, \"#d8576b\"], [0.6666666666666666, \"#ed7953\"], [0.7777777777777778, \"#fb9f3a\"], [0.8888888888888888, \"#fdca26\"], [1.0, \"#f0f921\"]]}, \"colorway\": [\"#636efa\", \"#EF553B\", \"#00cc96\", \"#ab63fa\", \"#FFA15A\", \"#19d3f3\", \"#FF6692\", \"#B6E880\", \"#FF97FF\", \"#FECB52\"], \"font\": {\"color\": \"#2a3f5f\"}, \"geo\": {\"bgcolor\": \"white\", \"lakecolor\": \"white\", \"landcolor\": \"#E5ECF6\", \"showlakes\": true, \"showland\": true, \"subunitcolor\": \"white\"}, \"hoverlabel\": {\"align\": \"left\"}, \"hovermode\": \"closest\", \"mapbox\": {\"style\": \"light\"}, \"paper_bgcolor\": \"white\", \"plot_bgcolor\": \"#E5ECF6\", \"polar\": {\"angularaxis\": {\"gridcolor\": \"white\", \"linecolor\": \"white\", \"ticks\": \"\"}, \"bgcolor\": \"#E5ECF6\", \"radialaxis\": {\"gridcolor\": \"white\", \"linecolor\": \"white\", \"ticks\": \"\"}}, \"scene\": {\"xaxis\": {\"backgroundcolor\": \"#E5ECF6\", \"gridcolor\": \"white\", \"gridwidth\": 2, \"linecolor\": \"white\", \"showbackground\": true, \"ticks\": \"\", \"zerolinecolor\": \"white\"}, \"yaxis\": {\"backgroundcolor\": \"#E5ECF6\", \"gridcolor\": \"white\", \"gridwidth\": 2, \"linecolor\": \"white\", \"showbackground\": true, \"ticks\": \"\", \"zerolinecolor\": \"white\"}, \"zaxis\": {\"backgroundcolor\": \"#E5ECF6\", \"gridcolor\": \"white\", \"gridwidth\": 2, \"linecolor\": \"white\", \"showbackground\": true, \"ticks\": \"\", \"zerolinecolor\": \"white\"}}, \"shapedefaults\": {\"line\": {\"color\": \"#2a3f5f\"}}, \"ternary\": {\"aaxis\": {\"gridcolor\": \"white\", \"linecolor\": \"white\", \"ticks\": \"\"}, \"baxis\": {\"gridcolor\": \"white\", \"linecolor\": \"white\", \"ticks\": \"\"}, \"bgcolor\": \"#E5ECF6\", \"caxis\": {\"gridcolor\": \"white\", \"linecolor\": \"white\", \"ticks\": \"\"}}, \"title\": {\"x\": 0.05}, \"xaxis\": {\"automargin\": true, \"gridcolor\": \"white\", \"linecolor\": \"white\", \"ticks\": \"\", \"title\": {\"standoff\": 15}, \"zerolinecolor\": \"white\", \"zerolinewidth\": 2}, \"yaxis\": {\"automargin\": true, \"gridcolor\": \"white\", \"linecolor\": \"white\", \"ticks\": \"\", \"title\": {\"standoff\": 15}, \"zerolinecolor\": \"white\", \"zerolinewidth\": 2}}}},\n",
              "                        {\"responsive\": true}\n",
              "                    ).then(function(){\n",
              "                            \n",
              "var gd = document.getElementById('f4c42847-1abb-488c-8f91-952e8b6c50cf');\n",
              "var x = new MutationObserver(function (mutations, observer) {{\n",
              "        var display = window.getComputedStyle(gd).display;\n",
              "        if (!display || display === 'none') {{\n",
              "            console.log([gd, 'removed!']);\n",
              "            Plotly.purge(gd);\n",
              "            observer.disconnect();\n",
              "        }}\n",
              "}});\n",
              "\n",
              "// Listen for the removal of the full notebook cells\n",
              "var notebookContainer = gd.closest('#notebook-container');\n",
              "if (notebookContainer) {{\n",
              "    x.observe(notebookContainer, {childList: true});\n",
              "}}\n",
              "\n",
              "// Listen for the clearing of the current output cell\n",
              "var outputEl = gd.closest('.output');\n",
              "if (outputEl) {{\n",
              "    x.observe(outputEl, {childList: true});\n",
              "}}\n",
              "\n",
              "                        })\n",
              "                };\n",
              "                \n",
              "            </script>\n",
              "        </div>\n",
              "</body>\n",
              "</html>"
            ]
          },
          "metadata": {
            "tags": []
          }
        }
      ]
    },
    {
      "cell_type": "code",
      "metadata": {
        "id": "Y2mYcZmrzffY",
        "colab_type": "code",
        "colab": {
          "base_uri": "https://localhost:8080/",
          "height": 542
        },
        "outputId": "94fdcdb7-0082-438a-add5-b7db71c57e29"
      },
      "source": [
        "labels = ['Cleared','Open','Unknown']\n",
        "values = assaults['clearance'].value_counts()\n",
        "\n",
        "# pull is given as a fraction of the pie radius\n",
        "fig = go.Figure(data=[go.Pie(labels=labels, \n",
        "                             values=values, \n",
        "                             pull=[0, 0.3, 0])])\n",
        "fig.show()"
      ],
      "execution_count": 126,
      "outputs": [
        {
          "output_type": "display_data",
          "data": {
            "text/html": [
              "<html>\n",
              "<head><meta charset=\"utf-8\" /></head>\n",
              "<body>\n",
              "    <div>\n",
              "            <script src=\"https://cdnjs.cloudflare.com/ajax/libs/mathjax/2.7.5/MathJax.js?config=TeX-AMS-MML_SVG\"></script><script type=\"text/javascript\">if (window.MathJax) {MathJax.Hub.Config({SVG: {font: \"STIX-Web\"}});}</script>\n",
              "                <script type=\"text/javascript\">window.PlotlyConfig = {MathJaxConfig: 'local'};</script>\n",
              "        <script src=\"https://cdn.plot.ly/plotly-latest.min.js\"></script>    \n",
              "            <div id=\"8e8b435e-7bd9-4e05-ad0e-2a0e00522ac3\" class=\"plotly-graph-div\" style=\"height:525px; width:100%;\"></div>\n",
              "            <script type=\"text/javascript\">\n",
              "                \n",
              "                    window.PLOTLYENV=window.PLOTLYENV || {};\n",
              "                    \n",
              "                if (document.getElementById(\"8e8b435e-7bd9-4e05-ad0e-2a0e00522ac3\")) {\n",
              "                    Plotly.newPlot(\n",
              "                        '8e8b435e-7bd9-4e05-ad0e-2a0e00522ac3',\n",
              "                        [{\"labels\": [\"Cleared\", \"Open\", \"Unknown\"], \"pull\": [0, 0.3, 0], \"type\": \"pie\", \"values\": [543217, 171240, 442]}],\n",
              "                        {\"template\": {\"data\": {\"bar\": [{\"error_x\": {\"color\": \"#2a3f5f\"}, \"error_y\": {\"color\": \"#2a3f5f\"}, \"marker\": {\"line\": {\"color\": \"#E5ECF6\", \"width\": 0.5}}, \"type\": \"bar\"}], \"barpolar\": [{\"marker\": {\"line\": {\"color\": \"#E5ECF6\", \"width\": 0.5}}, \"type\": \"barpolar\"}], \"carpet\": [{\"aaxis\": {\"endlinecolor\": \"#2a3f5f\", \"gridcolor\": \"white\", \"linecolor\": \"white\", \"minorgridcolor\": \"white\", \"startlinecolor\": \"#2a3f5f\"}, \"baxis\": {\"endlinecolor\": \"#2a3f5f\", \"gridcolor\": \"white\", \"linecolor\": \"white\", \"minorgridcolor\": \"white\", \"startlinecolor\": \"#2a3f5f\"}, \"type\": \"carpet\"}], \"choropleth\": [{\"colorbar\": {\"outlinewidth\": 0, \"ticks\": \"\"}, \"type\": \"choropleth\"}], \"contour\": [{\"colorbar\": {\"outlinewidth\": 0, \"ticks\": \"\"}, \"colorscale\": [[0.0, \"#0d0887\"], [0.1111111111111111, \"#46039f\"], [0.2222222222222222, \"#7201a8\"], [0.3333333333333333, \"#9c179e\"], [0.4444444444444444, \"#bd3786\"], [0.5555555555555556, \"#d8576b\"], [0.6666666666666666, \"#ed7953\"], [0.7777777777777778, \"#fb9f3a\"], [0.8888888888888888, \"#fdca26\"], [1.0, \"#f0f921\"]], \"type\": \"contour\"}], \"contourcarpet\": [{\"colorbar\": {\"outlinewidth\": 0, \"ticks\": \"\"}, \"type\": \"contourcarpet\"}], \"heatmap\": [{\"colorbar\": {\"outlinewidth\": 0, \"ticks\": \"\"}, \"colorscale\": [[0.0, \"#0d0887\"], [0.1111111111111111, \"#46039f\"], [0.2222222222222222, \"#7201a8\"], [0.3333333333333333, \"#9c179e\"], [0.4444444444444444, \"#bd3786\"], [0.5555555555555556, \"#d8576b\"], [0.6666666666666666, \"#ed7953\"], [0.7777777777777778, \"#fb9f3a\"], [0.8888888888888888, \"#fdca26\"], [1.0, \"#f0f921\"]], \"type\": \"heatmap\"}], \"heatmapgl\": [{\"colorbar\": {\"outlinewidth\": 0, \"ticks\": \"\"}, \"colorscale\": [[0.0, \"#0d0887\"], [0.1111111111111111, \"#46039f\"], [0.2222222222222222, \"#7201a8\"], [0.3333333333333333, \"#9c179e\"], [0.4444444444444444, \"#bd3786\"], [0.5555555555555556, \"#d8576b\"], [0.6666666666666666, \"#ed7953\"], [0.7777777777777778, \"#fb9f3a\"], [0.8888888888888888, \"#fdca26\"], [1.0, \"#f0f921\"]], \"type\": \"heatmapgl\"}], \"histogram\": [{\"marker\": {\"colorbar\": {\"outlinewidth\": 0, \"ticks\": \"\"}}, \"type\": \"histogram\"}], \"histogram2d\": [{\"colorbar\": {\"outlinewidth\": 0, \"ticks\": \"\"}, \"colorscale\": [[0.0, \"#0d0887\"], [0.1111111111111111, \"#46039f\"], [0.2222222222222222, \"#7201a8\"], [0.3333333333333333, \"#9c179e\"], [0.4444444444444444, \"#bd3786\"], [0.5555555555555556, \"#d8576b\"], [0.6666666666666666, \"#ed7953\"], [0.7777777777777778, \"#fb9f3a\"], [0.8888888888888888, \"#fdca26\"], [1.0, \"#f0f921\"]], \"type\": \"histogram2d\"}], \"histogram2dcontour\": [{\"colorbar\": {\"outlinewidth\": 0, \"ticks\": \"\"}, \"colorscale\": [[0.0, \"#0d0887\"], [0.1111111111111111, \"#46039f\"], [0.2222222222222222, \"#7201a8\"], [0.3333333333333333, \"#9c179e\"], [0.4444444444444444, \"#bd3786\"], [0.5555555555555556, \"#d8576b\"], [0.6666666666666666, \"#ed7953\"], [0.7777777777777778, \"#fb9f3a\"], [0.8888888888888888, \"#fdca26\"], [1.0, \"#f0f921\"]], \"type\": \"histogram2dcontour\"}], \"mesh3d\": [{\"colorbar\": {\"outlinewidth\": 0, \"ticks\": \"\"}, \"type\": \"mesh3d\"}], \"parcoords\": [{\"line\": {\"colorbar\": {\"outlinewidth\": 0, \"ticks\": \"\"}}, \"type\": \"parcoords\"}], \"pie\": [{\"automargin\": true, \"type\": \"pie\"}], \"scatter\": [{\"marker\": {\"colorbar\": {\"outlinewidth\": 0, \"ticks\": \"\"}}, \"type\": \"scatter\"}], \"scatter3d\": [{\"line\": {\"colorbar\": {\"outlinewidth\": 0, \"ticks\": \"\"}}, \"marker\": {\"colorbar\": {\"outlinewidth\": 0, \"ticks\": \"\"}}, \"type\": \"scatter3d\"}], \"scattercarpet\": [{\"marker\": {\"colorbar\": {\"outlinewidth\": 0, \"ticks\": \"\"}}, \"type\": \"scattercarpet\"}], \"scattergeo\": [{\"marker\": {\"colorbar\": {\"outlinewidth\": 0, \"ticks\": \"\"}}, \"type\": \"scattergeo\"}], \"scattergl\": [{\"marker\": {\"colorbar\": {\"outlinewidth\": 0, \"ticks\": \"\"}}, \"type\": \"scattergl\"}], \"scattermapbox\": [{\"marker\": {\"colorbar\": {\"outlinewidth\": 0, \"ticks\": \"\"}}, \"type\": \"scattermapbox\"}], \"scatterpolar\": [{\"marker\": {\"colorbar\": {\"outlinewidth\": 0, \"ticks\": \"\"}}, \"type\": \"scatterpolar\"}], \"scatterpolargl\": [{\"marker\": {\"colorbar\": {\"outlinewidth\": 0, \"ticks\": \"\"}}, \"type\": \"scatterpolargl\"}], \"scatterternary\": [{\"marker\": {\"colorbar\": {\"outlinewidth\": 0, \"ticks\": \"\"}}, \"type\": \"scatterternary\"}], \"surface\": [{\"colorbar\": {\"outlinewidth\": 0, \"ticks\": \"\"}, \"colorscale\": [[0.0, \"#0d0887\"], [0.1111111111111111, \"#46039f\"], [0.2222222222222222, \"#7201a8\"], [0.3333333333333333, \"#9c179e\"], [0.4444444444444444, \"#bd3786\"], [0.5555555555555556, \"#d8576b\"], [0.6666666666666666, \"#ed7953\"], [0.7777777777777778, \"#fb9f3a\"], [0.8888888888888888, \"#fdca26\"], [1.0, \"#f0f921\"]], \"type\": \"surface\"}], \"table\": [{\"cells\": {\"fill\": {\"color\": \"#EBF0F8\"}, \"line\": {\"color\": \"white\"}}, \"header\": {\"fill\": {\"color\": \"#C8D4E3\"}, \"line\": {\"color\": \"white\"}}, \"type\": \"table\"}]}, \"layout\": {\"annotationdefaults\": {\"arrowcolor\": \"#2a3f5f\", \"arrowhead\": 0, \"arrowwidth\": 1}, \"coloraxis\": {\"colorbar\": {\"outlinewidth\": 0, \"ticks\": \"\"}}, \"colorscale\": {\"diverging\": [[0, \"#8e0152\"], [0.1, \"#c51b7d\"], [0.2, \"#de77ae\"], [0.3, \"#f1b6da\"], [0.4, \"#fde0ef\"], [0.5, \"#f7f7f7\"], [0.6, \"#e6f5d0\"], [0.7, \"#b8e186\"], [0.8, \"#7fbc41\"], [0.9, \"#4d9221\"], [1, \"#276419\"]], \"sequential\": [[0.0, \"#0d0887\"], [0.1111111111111111, \"#46039f\"], [0.2222222222222222, \"#7201a8\"], [0.3333333333333333, \"#9c179e\"], [0.4444444444444444, \"#bd3786\"], [0.5555555555555556, \"#d8576b\"], [0.6666666666666666, \"#ed7953\"], [0.7777777777777778, \"#fb9f3a\"], [0.8888888888888888, \"#fdca26\"], [1.0, \"#f0f921\"]], \"sequentialminus\": [[0.0, \"#0d0887\"], [0.1111111111111111, \"#46039f\"], [0.2222222222222222, \"#7201a8\"], [0.3333333333333333, \"#9c179e\"], [0.4444444444444444, \"#bd3786\"], [0.5555555555555556, \"#d8576b\"], [0.6666666666666666, \"#ed7953\"], [0.7777777777777778, \"#fb9f3a\"], [0.8888888888888888, \"#fdca26\"], [1.0, \"#f0f921\"]]}, \"colorway\": [\"#636efa\", \"#EF553B\", \"#00cc96\", \"#ab63fa\", \"#FFA15A\", \"#19d3f3\", \"#FF6692\", \"#B6E880\", \"#FF97FF\", \"#FECB52\"], \"font\": {\"color\": \"#2a3f5f\"}, \"geo\": {\"bgcolor\": \"white\", \"lakecolor\": \"white\", \"landcolor\": \"#E5ECF6\", \"showlakes\": true, \"showland\": true, \"subunitcolor\": \"white\"}, \"hoverlabel\": {\"align\": \"left\"}, \"hovermode\": \"closest\", \"mapbox\": {\"style\": \"light\"}, \"paper_bgcolor\": \"white\", \"plot_bgcolor\": \"#E5ECF6\", \"polar\": {\"angularaxis\": {\"gridcolor\": \"white\", \"linecolor\": \"white\", \"ticks\": \"\"}, \"bgcolor\": \"#E5ECF6\", \"radialaxis\": {\"gridcolor\": \"white\", \"linecolor\": \"white\", \"ticks\": \"\"}}, \"scene\": {\"xaxis\": {\"backgroundcolor\": \"#E5ECF6\", \"gridcolor\": \"white\", \"gridwidth\": 2, \"linecolor\": \"white\", \"showbackground\": true, \"ticks\": \"\", \"zerolinecolor\": \"white\"}, \"yaxis\": {\"backgroundcolor\": \"#E5ECF6\", \"gridcolor\": \"white\", \"gridwidth\": 2, \"linecolor\": \"white\", \"showbackground\": true, \"ticks\": \"\", \"zerolinecolor\": \"white\"}, \"zaxis\": {\"backgroundcolor\": \"#E5ECF6\", \"gridcolor\": \"white\", \"gridwidth\": 2, \"linecolor\": \"white\", \"showbackground\": true, \"ticks\": \"\", \"zerolinecolor\": \"white\"}}, \"shapedefaults\": {\"line\": {\"color\": \"#2a3f5f\"}}, \"ternary\": {\"aaxis\": {\"gridcolor\": \"white\", \"linecolor\": \"white\", \"ticks\": \"\"}, \"baxis\": {\"gridcolor\": \"white\", \"linecolor\": \"white\", \"ticks\": \"\"}, \"bgcolor\": \"#E5ECF6\", \"caxis\": {\"gridcolor\": \"white\", \"linecolor\": \"white\", \"ticks\": \"\"}}, \"title\": {\"x\": 0.05}, \"xaxis\": {\"automargin\": true, \"gridcolor\": \"white\", \"linecolor\": \"white\", \"ticks\": \"\", \"title\": {\"standoff\": 15}, \"zerolinecolor\": \"white\", \"zerolinewidth\": 2}, \"yaxis\": {\"automargin\": true, \"gridcolor\": \"white\", \"linecolor\": \"white\", \"ticks\": \"\", \"title\": {\"standoff\": 15}, \"zerolinecolor\": \"white\", \"zerolinewidth\": 2}}}},\n",
              "                        {\"responsive\": true}\n",
              "                    ).then(function(){\n",
              "                            \n",
              "var gd = document.getElementById('8e8b435e-7bd9-4e05-ad0e-2a0e00522ac3');\n",
              "var x = new MutationObserver(function (mutations, observer) {{\n",
              "        var display = window.getComputedStyle(gd).display;\n",
              "        if (!display || display === 'none') {{\n",
              "            console.log([gd, 'removed!']);\n",
              "            Plotly.purge(gd);\n",
              "            observer.disconnect();\n",
              "        }}\n",
              "}});\n",
              "\n",
              "// Listen for the removal of the full notebook cells\n",
              "var notebookContainer = gd.closest('#notebook-container');\n",
              "if (notebookContainer) {{\n",
              "    x.observe(notebookContainer, {childList: true});\n",
              "}}\n",
              "\n",
              "// Listen for the clearing of the current output cell\n",
              "var outputEl = gd.closest('.output');\n",
              "if (outputEl) {{\n",
              "    x.observe(outputEl, {childList: true});\n",
              "}}\n",
              "\n",
              "                        })\n",
              "                };\n",
              "                \n",
              "            </script>\n",
              "        </div>\n",
              "</body>\n",
              "</html>"
            ]
          },
          "metadata": {
            "tags": []
          }
        }
      ]
    },
    {
      "cell_type": "code",
      "metadata": {
        "id": "K1oQOFC_wwwi",
        "colab_type": "code",
        "colab": {}
      },
      "source": [
        ""
      ],
      "execution_count": null,
      "outputs": []
    }
  ]
}