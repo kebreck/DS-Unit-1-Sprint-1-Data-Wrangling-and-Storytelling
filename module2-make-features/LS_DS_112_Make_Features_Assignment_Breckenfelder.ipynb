{
  "nbformat": 4,
  "nbformat_minor": 0,
  "metadata": {
    "colab": {
      "name": "LS_DS_112_Make_Features_Assignment.ipynb",
      "provenance": [],
      "collapsed_sections": []
    },
    "kernelspec": {
      "display_name": "Python 3",
      "language": "python",
      "name": "python3"
    },
    "language_info": {
      "codemirror_mode": {
        "name": "ipython",
        "version": 3
      },
      "file_extension": ".py",
      "mimetype": "text/x-python",
      "name": "python",
      "nbconvert_exporter": "python",
      "pygments_lexer": "ipython3",
      "version": "3.7.1"
    }
  },
  "cells": [
    {
      "cell_type": "markdown",
      "metadata": {
        "id": "SnDJqBLi0FYW"
      },
      "source": [
        "<img align=\"left\" src=\"https://lever-client-logos.s3.amazonaws.com/864372b1-534c-480e-acd5-9711f850815c-1524247202159.png\" width=200> "
      ]
    },
    {
      "cell_type": "markdown",
      "metadata": {
        "id": "W5GjI1z5yNG4"
      },
      "source": [
        "# Assignment:\n",
        "\n",
        "- Replicate the lesson code.\n",
        "\n",
        " - This means that if you haven't followed along already, type out the things that we did in class. Forcing your fingers to hit each key will help you internalize the syntax of what we're doing. Make sure you understand each line of code that you're writing, google things that you don't fully understand.\n",
        " - [Lambda Learning Method for DS - By Ryan Herr](https://docs.google.com/document/d/1ubOw9B3Hfip27hF2ZFnW3a3z9xAgrUDRReOEo-FHCVs/edit?usp=sharing)\n",
        "- Convert the `term` column from string to integer.\n",
        "- Make a column named `loan_status_is_great`. It should contain the integer 1 if `loan_status` is \"Current\" or \"Fully Paid.\" Else it should contain the integer 0.\n",
        "- Make `last_pymnt_d_month` and `last_pymnt_d_year` columns."
      ]
    },
    {
      "cell_type": "markdown",
      "metadata": {
        "id": "bUB6JSgLTQ4l"
      },
      "source": [
        "# Ames Iowa Housing Dataset"
      ]
    },
    {
      "cell_type": "markdown",
      "metadata": {
        "id": "8oW8HKFUvY6i"
      },
      "source": [
        "## Exploratory Data Analysis"
      ]
    },
    {
      "cell_type": "code",
      "metadata": {
        "id": "Tu62kb8i3SOF"
      },
      "source": [
        "import pandas as pd"
      ],
      "execution_count": 113,
      "outputs": []
    },
    {
      "cell_type": "code",
      "metadata": {
        "id": "TQKdpojK3Xfu"
      },
      "source": [
        "# Load Ames Iowa Housing Dataset\r\n",
        "\r\n",
        "iowa_df = pd.read_csv('https://raw.githubusercontent.com/ryanleeallred/datasets/master/Ames%20Housing%20Data/train.csv')"
      ],
      "execution_count": 114,
      "outputs": []
    },
    {
      "cell_type": "code",
      "metadata": {
        "id": "cIvHlLKd3jop",
        "outputId": "8f81d89b-ccdc-4103-8e4f-8c4ce5db7ecd",
        "colab": {
          "base_uri": "https://localhost:8080/",
          "height": 0
        }
      },
      "source": [
        "iowa_df.head()"
      ],
      "execution_count": 115,
      "outputs": [
        {
          "output_type": "execute_result",
          "data": {
            "text/html": [
              "<div>\n",
              "<style scoped>\n",
              "    .dataframe tbody tr th:only-of-type {\n",
              "        vertical-align: middle;\n",
              "    }\n",
              "\n",
              "    .dataframe tbody tr th {\n",
              "        vertical-align: top;\n",
              "    }\n",
              "\n",
              "    .dataframe thead th {\n",
              "        text-align: right;\n",
              "    }\n",
              "</style>\n",
              "<table border=\"1\" class=\"dataframe\">\n",
              "  <thead>\n",
              "    <tr style=\"text-align: right;\">\n",
              "      <th></th>\n",
              "      <th>Id</th>\n",
              "      <th>MSSubClass</th>\n",
              "      <th>MSZoning</th>\n",
              "      <th>LotFrontage</th>\n",
              "      <th>LotArea</th>\n",
              "      <th>Street</th>\n",
              "      <th>Alley</th>\n",
              "      <th>LotShape</th>\n",
              "      <th>LandContour</th>\n",
              "      <th>Utilities</th>\n",
              "      <th>LotConfig</th>\n",
              "      <th>LandSlope</th>\n",
              "      <th>Neighborhood</th>\n",
              "      <th>Condition1</th>\n",
              "      <th>Condition2</th>\n",
              "      <th>BldgType</th>\n",
              "      <th>HouseStyle</th>\n",
              "      <th>OverallQual</th>\n",
              "      <th>OverallCond</th>\n",
              "      <th>YearBuilt</th>\n",
              "      <th>YearRemodAdd</th>\n",
              "      <th>RoofStyle</th>\n",
              "      <th>RoofMatl</th>\n",
              "      <th>Exterior1st</th>\n",
              "      <th>Exterior2nd</th>\n",
              "      <th>MasVnrType</th>\n",
              "      <th>MasVnrArea</th>\n",
              "      <th>ExterQual</th>\n",
              "      <th>ExterCond</th>\n",
              "      <th>Foundation</th>\n",
              "      <th>BsmtQual</th>\n",
              "      <th>BsmtCond</th>\n",
              "      <th>BsmtExposure</th>\n",
              "      <th>BsmtFinType1</th>\n",
              "      <th>BsmtFinSF1</th>\n",
              "      <th>BsmtFinType2</th>\n",
              "      <th>BsmtFinSF2</th>\n",
              "      <th>BsmtUnfSF</th>\n",
              "      <th>TotalBsmtSF</th>\n",
              "      <th>Heating</th>\n",
              "      <th>...</th>\n",
              "      <th>CentralAir</th>\n",
              "      <th>Electrical</th>\n",
              "      <th>1stFlrSF</th>\n",
              "      <th>2ndFlrSF</th>\n",
              "      <th>LowQualFinSF</th>\n",
              "      <th>GrLivArea</th>\n",
              "      <th>BsmtFullBath</th>\n",
              "      <th>BsmtHalfBath</th>\n",
              "      <th>FullBath</th>\n",
              "      <th>HalfBath</th>\n",
              "      <th>BedroomAbvGr</th>\n",
              "      <th>KitchenAbvGr</th>\n",
              "      <th>KitchenQual</th>\n",
              "      <th>TotRmsAbvGrd</th>\n",
              "      <th>Functional</th>\n",
              "      <th>Fireplaces</th>\n",
              "      <th>FireplaceQu</th>\n",
              "      <th>GarageType</th>\n",
              "      <th>GarageYrBlt</th>\n",
              "      <th>GarageFinish</th>\n",
              "      <th>GarageCars</th>\n",
              "      <th>GarageArea</th>\n",
              "      <th>GarageQual</th>\n",
              "      <th>GarageCond</th>\n",
              "      <th>PavedDrive</th>\n",
              "      <th>WoodDeckSF</th>\n",
              "      <th>OpenPorchSF</th>\n",
              "      <th>EnclosedPorch</th>\n",
              "      <th>3SsnPorch</th>\n",
              "      <th>ScreenPorch</th>\n",
              "      <th>PoolArea</th>\n",
              "      <th>PoolQC</th>\n",
              "      <th>Fence</th>\n",
              "      <th>MiscFeature</th>\n",
              "      <th>MiscVal</th>\n",
              "      <th>MoSold</th>\n",
              "      <th>YrSold</th>\n",
              "      <th>SaleType</th>\n",
              "      <th>SaleCondition</th>\n",
              "      <th>SalePrice</th>\n",
              "    </tr>\n",
              "  </thead>\n",
              "  <tbody>\n",
              "    <tr>\n",
              "      <th>0</th>\n",
              "      <td>1</td>\n",
              "      <td>60</td>\n",
              "      <td>RL</td>\n",
              "      <td>65.0</td>\n",
              "      <td>8450</td>\n",
              "      <td>Pave</td>\n",
              "      <td>NaN</td>\n",
              "      <td>Reg</td>\n",
              "      <td>Lvl</td>\n",
              "      <td>AllPub</td>\n",
              "      <td>Inside</td>\n",
              "      <td>Gtl</td>\n",
              "      <td>CollgCr</td>\n",
              "      <td>Norm</td>\n",
              "      <td>Norm</td>\n",
              "      <td>1Fam</td>\n",
              "      <td>2Story</td>\n",
              "      <td>7</td>\n",
              "      <td>5</td>\n",
              "      <td>2003</td>\n",
              "      <td>2003</td>\n",
              "      <td>Gable</td>\n",
              "      <td>CompShg</td>\n",
              "      <td>VinylSd</td>\n",
              "      <td>VinylSd</td>\n",
              "      <td>BrkFace</td>\n",
              "      <td>196.0</td>\n",
              "      <td>Gd</td>\n",
              "      <td>TA</td>\n",
              "      <td>PConc</td>\n",
              "      <td>Gd</td>\n",
              "      <td>TA</td>\n",
              "      <td>No</td>\n",
              "      <td>GLQ</td>\n",
              "      <td>706</td>\n",
              "      <td>Unf</td>\n",
              "      <td>0</td>\n",
              "      <td>150</td>\n",
              "      <td>856</td>\n",
              "      <td>GasA</td>\n",
              "      <td>...</td>\n",
              "      <td>Y</td>\n",
              "      <td>SBrkr</td>\n",
              "      <td>856</td>\n",
              "      <td>854</td>\n",
              "      <td>0</td>\n",
              "      <td>1710</td>\n",
              "      <td>1</td>\n",
              "      <td>0</td>\n",
              "      <td>2</td>\n",
              "      <td>1</td>\n",
              "      <td>3</td>\n",
              "      <td>1</td>\n",
              "      <td>Gd</td>\n",
              "      <td>8</td>\n",
              "      <td>Typ</td>\n",
              "      <td>0</td>\n",
              "      <td>NaN</td>\n",
              "      <td>Attchd</td>\n",
              "      <td>2003.0</td>\n",
              "      <td>RFn</td>\n",
              "      <td>2</td>\n",
              "      <td>548</td>\n",
              "      <td>TA</td>\n",
              "      <td>TA</td>\n",
              "      <td>Y</td>\n",
              "      <td>0</td>\n",
              "      <td>61</td>\n",
              "      <td>0</td>\n",
              "      <td>0</td>\n",
              "      <td>0</td>\n",
              "      <td>0</td>\n",
              "      <td>NaN</td>\n",
              "      <td>NaN</td>\n",
              "      <td>NaN</td>\n",
              "      <td>0</td>\n",
              "      <td>2</td>\n",
              "      <td>2008</td>\n",
              "      <td>WD</td>\n",
              "      <td>Normal</td>\n",
              "      <td>208500</td>\n",
              "    </tr>\n",
              "    <tr>\n",
              "      <th>1</th>\n",
              "      <td>2</td>\n",
              "      <td>20</td>\n",
              "      <td>RL</td>\n",
              "      <td>80.0</td>\n",
              "      <td>9600</td>\n",
              "      <td>Pave</td>\n",
              "      <td>NaN</td>\n",
              "      <td>Reg</td>\n",
              "      <td>Lvl</td>\n",
              "      <td>AllPub</td>\n",
              "      <td>FR2</td>\n",
              "      <td>Gtl</td>\n",
              "      <td>Veenker</td>\n",
              "      <td>Feedr</td>\n",
              "      <td>Norm</td>\n",
              "      <td>1Fam</td>\n",
              "      <td>1Story</td>\n",
              "      <td>6</td>\n",
              "      <td>8</td>\n",
              "      <td>1976</td>\n",
              "      <td>1976</td>\n",
              "      <td>Gable</td>\n",
              "      <td>CompShg</td>\n",
              "      <td>MetalSd</td>\n",
              "      <td>MetalSd</td>\n",
              "      <td>None</td>\n",
              "      <td>0.0</td>\n",
              "      <td>TA</td>\n",
              "      <td>TA</td>\n",
              "      <td>CBlock</td>\n",
              "      <td>Gd</td>\n",
              "      <td>TA</td>\n",
              "      <td>Gd</td>\n",
              "      <td>ALQ</td>\n",
              "      <td>978</td>\n",
              "      <td>Unf</td>\n",
              "      <td>0</td>\n",
              "      <td>284</td>\n",
              "      <td>1262</td>\n",
              "      <td>GasA</td>\n",
              "      <td>...</td>\n",
              "      <td>Y</td>\n",
              "      <td>SBrkr</td>\n",
              "      <td>1262</td>\n",
              "      <td>0</td>\n",
              "      <td>0</td>\n",
              "      <td>1262</td>\n",
              "      <td>0</td>\n",
              "      <td>1</td>\n",
              "      <td>2</td>\n",
              "      <td>0</td>\n",
              "      <td>3</td>\n",
              "      <td>1</td>\n",
              "      <td>TA</td>\n",
              "      <td>6</td>\n",
              "      <td>Typ</td>\n",
              "      <td>1</td>\n",
              "      <td>TA</td>\n",
              "      <td>Attchd</td>\n",
              "      <td>1976.0</td>\n",
              "      <td>RFn</td>\n",
              "      <td>2</td>\n",
              "      <td>460</td>\n",
              "      <td>TA</td>\n",
              "      <td>TA</td>\n",
              "      <td>Y</td>\n",
              "      <td>298</td>\n",
              "      <td>0</td>\n",
              "      <td>0</td>\n",
              "      <td>0</td>\n",
              "      <td>0</td>\n",
              "      <td>0</td>\n",
              "      <td>NaN</td>\n",
              "      <td>NaN</td>\n",
              "      <td>NaN</td>\n",
              "      <td>0</td>\n",
              "      <td>5</td>\n",
              "      <td>2007</td>\n",
              "      <td>WD</td>\n",
              "      <td>Normal</td>\n",
              "      <td>181500</td>\n",
              "    </tr>\n",
              "    <tr>\n",
              "      <th>2</th>\n",
              "      <td>3</td>\n",
              "      <td>60</td>\n",
              "      <td>RL</td>\n",
              "      <td>68.0</td>\n",
              "      <td>11250</td>\n",
              "      <td>Pave</td>\n",
              "      <td>NaN</td>\n",
              "      <td>IR1</td>\n",
              "      <td>Lvl</td>\n",
              "      <td>AllPub</td>\n",
              "      <td>Inside</td>\n",
              "      <td>Gtl</td>\n",
              "      <td>CollgCr</td>\n",
              "      <td>Norm</td>\n",
              "      <td>Norm</td>\n",
              "      <td>1Fam</td>\n",
              "      <td>2Story</td>\n",
              "      <td>7</td>\n",
              "      <td>5</td>\n",
              "      <td>2001</td>\n",
              "      <td>2002</td>\n",
              "      <td>Gable</td>\n",
              "      <td>CompShg</td>\n",
              "      <td>VinylSd</td>\n",
              "      <td>VinylSd</td>\n",
              "      <td>BrkFace</td>\n",
              "      <td>162.0</td>\n",
              "      <td>Gd</td>\n",
              "      <td>TA</td>\n",
              "      <td>PConc</td>\n",
              "      <td>Gd</td>\n",
              "      <td>TA</td>\n",
              "      <td>Mn</td>\n",
              "      <td>GLQ</td>\n",
              "      <td>486</td>\n",
              "      <td>Unf</td>\n",
              "      <td>0</td>\n",
              "      <td>434</td>\n",
              "      <td>920</td>\n",
              "      <td>GasA</td>\n",
              "      <td>...</td>\n",
              "      <td>Y</td>\n",
              "      <td>SBrkr</td>\n",
              "      <td>920</td>\n",
              "      <td>866</td>\n",
              "      <td>0</td>\n",
              "      <td>1786</td>\n",
              "      <td>1</td>\n",
              "      <td>0</td>\n",
              "      <td>2</td>\n",
              "      <td>1</td>\n",
              "      <td>3</td>\n",
              "      <td>1</td>\n",
              "      <td>Gd</td>\n",
              "      <td>6</td>\n",
              "      <td>Typ</td>\n",
              "      <td>1</td>\n",
              "      <td>TA</td>\n",
              "      <td>Attchd</td>\n",
              "      <td>2001.0</td>\n",
              "      <td>RFn</td>\n",
              "      <td>2</td>\n",
              "      <td>608</td>\n",
              "      <td>TA</td>\n",
              "      <td>TA</td>\n",
              "      <td>Y</td>\n",
              "      <td>0</td>\n",
              "      <td>42</td>\n",
              "      <td>0</td>\n",
              "      <td>0</td>\n",
              "      <td>0</td>\n",
              "      <td>0</td>\n",
              "      <td>NaN</td>\n",
              "      <td>NaN</td>\n",
              "      <td>NaN</td>\n",
              "      <td>0</td>\n",
              "      <td>9</td>\n",
              "      <td>2008</td>\n",
              "      <td>WD</td>\n",
              "      <td>Normal</td>\n",
              "      <td>223500</td>\n",
              "    </tr>\n",
              "    <tr>\n",
              "      <th>3</th>\n",
              "      <td>4</td>\n",
              "      <td>70</td>\n",
              "      <td>RL</td>\n",
              "      <td>60.0</td>\n",
              "      <td>9550</td>\n",
              "      <td>Pave</td>\n",
              "      <td>NaN</td>\n",
              "      <td>IR1</td>\n",
              "      <td>Lvl</td>\n",
              "      <td>AllPub</td>\n",
              "      <td>Corner</td>\n",
              "      <td>Gtl</td>\n",
              "      <td>Crawfor</td>\n",
              "      <td>Norm</td>\n",
              "      <td>Norm</td>\n",
              "      <td>1Fam</td>\n",
              "      <td>2Story</td>\n",
              "      <td>7</td>\n",
              "      <td>5</td>\n",
              "      <td>1915</td>\n",
              "      <td>1970</td>\n",
              "      <td>Gable</td>\n",
              "      <td>CompShg</td>\n",
              "      <td>Wd Sdng</td>\n",
              "      <td>Wd Shng</td>\n",
              "      <td>None</td>\n",
              "      <td>0.0</td>\n",
              "      <td>TA</td>\n",
              "      <td>TA</td>\n",
              "      <td>BrkTil</td>\n",
              "      <td>TA</td>\n",
              "      <td>Gd</td>\n",
              "      <td>No</td>\n",
              "      <td>ALQ</td>\n",
              "      <td>216</td>\n",
              "      <td>Unf</td>\n",
              "      <td>0</td>\n",
              "      <td>540</td>\n",
              "      <td>756</td>\n",
              "      <td>GasA</td>\n",
              "      <td>...</td>\n",
              "      <td>Y</td>\n",
              "      <td>SBrkr</td>\n",
              "      <td>961</td>\n",
              "      <td>756</td>\n",
              "      <td>0</td>\n",
              "      <td>1717</td>\n",
              "      <td>1</td>\n",
              "      <td>0</td>\n",
              "      <td>1</td>\n",
              "      <td>0</td>\n",
              "      <td>3</td>\n",
              "      <td>1</td>\n",
              "      <td>Gd</td>\n",
              "      <td>7</td>\n",
              "      <td>Typ</td>\n",
              "      <td>1</td>\n",
              "      <td>Gd</td>\n",
              "      <td>Detchd</td>\n",
              "      <td>1998.0</td>\n",
              "      <td>Unf</td>\n",
              "      <td>3</td>\n",
              "      <td>642</td>\n",
              "      <td>TA</td>\n",
              "      <td>TA</td>\n",
              "      <td>Y</td>\n",
              "      <td>0</td>\n",
              "      <td>35</td>\n",
              "      <td>272</td>\n",
              "      <td>0</td>\n",
              "      <td>0</td>\n",
              "      <td>0</td>\n",
              "      <td>NaN</td>\n",
              "      <td>NaN</td>\n",
              "      <td>NaN</td>\n",
              "      <td>0</td>\n",
              "      <td>2</td>\n",
              "      <td>2006</td>\n",
              "      <td>WD</td>\n",
              "      <td>Abnorml</td>\n",
              "      <td>140000</td>\n",
              "    </tr>\n",
              "    <tr>\n",
              "      <th>4</th>\n",
              "      <td>5</td>\n",
              "      <td>60</td>\n",
              "      <td>RL</td>\n",
              "      <td>84.0</td>\n",
              "      <td>14260</td>\n",
              "      <td>Pave</td>\n",
              "      <td>NaN</td>\n",
              "      <td>IR1</td>\n",
              "      <td>Lvl</td>\n",
              "      <td>AllPub</td>\n",
              "      <td>FR2</td>\n",
              "      <td>Gtl</td>\n",
              "      <td>NoRidge</td>\n",
              "      <td>Norm</td>\n",
              "      <td>Norm</td>\n",
              "      <td>1Fam</td>\n",
              "      <td>2Story</td>\n",
              "      <td>8</td>\n",
              "      <td>5</td>\n",
              "      <td>2000</td>\n",
              "      <td>2000</td>\n",
              "      <td>Gable</td>\n",
              "      <td>CompShg</td>\n",
              "      <td>VinylSd</td>\n",
              "      <td>VinylSd</td>\n",
              "      <td>BrkFace</td>\n",
              "      <td>350.0</td>\n",
              "      <td>Gd</td>\n",
              "      <td>TA</td>\n",
              "      <td>PConc</td>\n",
              "      <td>Gd</td>\n",
              "      <td>TA</td>\n",
              "      <td>Av</td>\n",
              "      <td>GLQ</td>\n",
              "      <td>655</td>\n",
              "      <td>Unf</td>\n",
              "      <td>0</td>\n",
              "      <td>490</td>\n",
              "      <td>1145</td>\n",
              "      <td>GasA</td>\n",
              "      <td>...</td>\n",
              "      <td>Y</td>\n",
              "      <td>SBrkr</td>\n",
              "      <td>1145</td>\n",
              "      <td>1053</td>\n",
              "      <td>0</td>\n",
              "      <td>2198</td>\n",
              "      <td>1</td>\n",
              "      <td>0</td>\n",
              "      <td>2</td>\n",
              "      <td>1</td>\n",
              "      <td>4</td>\n",
              "      <td>1</td>\n",
              "      <td>Gd</td>\n",
              "      <td>9</td>\n",
              "      <td>Typ</td>\n",
              "      <td>1</td>\n",
              "      <td>TA</td>\n",
              "      <td>Attchd</td>\n",
              "      <td>2000.0</td>\n",
              "      <td>RFn</td>\n",
              "      <td>3</td>\n",
              "      <td>836</td>\n",
              "      <td>TA</td>\n",
              "      <td>TA</td>\n",
              "      <td>Y</td>\n",
              "      <td>192</td>\n",
              "      <td>84</td>\n",
              "      <td>0</td>\n",
              "      <td>0</td>\n",
              "      <td>0</td>\n",
              "      <td>0</td>\n",
              "      <td>NaN</td>\n",
              "      <td>NaN</td>\n",
              "      <td>NaN</td>\n",
              "      <td>0</td>\n",
              "      <td>12</td>\n",
              "      <td>2008</td>\n",
              "      <td>WD</td>\n",
              "      <td>Normal</td>\n",
              "      <td>250000</td>\n",
              "    </tr>\n",
              "  </tbody>\n",
              "</table>\n",
              "<p>5 rows × 81 columns</p>\n",
              "</div>"
            ],
            "text/plain": [
              "   Id  MSSubClass MSZoning  ...  SaleType  SaleCondition SalePrice\n",
              "0   1          60       RL  ...        WD         Normal    208500\n",
              "1   2          20       RL  ...        WD         Normal    181500\n",
              "2   3          60       RL  ...        WD         Normal    223500\n",
              "3   4          70       RL  ...        WD        Abnorml    140000\n",
              "4   5          60       RL  ...        WD         Normal    250000\n",
              "\n",
              "[5 rows x 81 columns]"
            ]
          },
          "metadata": {
            "tags": []
          },
          "execution_count": 115
        }
      ]
    },
    {
      "cell_type": "code",
      "metadata": {
        "id": "cxrGoSuY3rSH",
        "outputId": "52444fb1-9ade-46e0-da8b-72e3bac3bb40",
        "colab": {
          "base_uri": "https://localhost:8080/"
        }
      },
      "source": [
        "pd.set_option('display.max_rows', 100)\r\n",
        "iowa_df.dtypes[:5]"
      ],
      "execution_count": 116,
      "outputs": [
        {
          "output_type": "execute_result",
          "data": {
            "text/plain": [
              "Id               int64\n",
              "MSSubClass       int64\n",
              "MSZoning        object\n",
              "LotFrontage    float64\n",
              "LotArea          int64\n",
              "dtype: object"
            ]
          },
          "metadata": {
            "tags": []
          },
          "execution_count": 116
        }
      ]
    },
    {
      "cell_type": "code",
      "metadata": {
        "id": "a4CXilTD4DrG",
        "outputId": "bbe6019f-e3fb-4acc-e44b-d345d2856c88",
        "colab": {
          "base_uri": "https://localhost:8080/",
          "height": 0
        }
      },
      "source": [
        "iowa_df[['BedroomAbvGr', 'Fireplaces']].head(1)"
      ],
      "execution_count": 117,
      "outputs": [
        {
          "output_type": "execute_result",
          "data": {
            "text/html": [
              "<div>\n",
              "<style scoped>\n",
              "    .dataframe tbody tr th:only-of-type {\n",
              "        vertical-align: middle;\n",
              "    }\n",
              "\n",
              "    .dataframe tbody tr th {\n",
              "        vertical-align: top;\n",
              "    }\n",
              "\n",
              "    .dataframe thead th {\n",
              "        text-align: right;\n",
              "    }\n",
              "</style>\n",
              "<table border=\"1\" class=\"dataframe\">\n",
              "  <thead>\n",
              "    <tr style=\"text-align: right;\">\n",
              "      <th></th>\n",
              "      <th>BedroomAbvGr</th>\n",
              "      <th>Fireplaces</th>\n",
              "    </tr>\n",
              "  </thead>\n",
              "  <tbody>\n",
              "    <tr>\n",
              "      <th>0</th>\n",
              "      <td>3</td>\n",
              "      <td>0</td>\n",
              "    </tr>\n",
              "  </tbody>\n",
              "</table>\n",
              "</div>"
            ],
            "text/plain": [
              "   BedroomAbvGr  Fireplaces\n",
              "0             3           0"
            ]
          },
          "metadata": {
            "tags": []
          },
          "execution_count": 117
        }
      ]
    },
    {
      "cell_type": "code",
      "metadata": {
        "id": "bpNPUDKl4V9Z",
        "outputId": "1e912a15-a331-4253-ab20-288de8ea92c3",
        "colab": {
          "base_uri": "https://localhost:8080/"
        }
      },
      "source": [
        "iowa_df.BedroomAbvGr.head(10)"
      ],
      "execution_count": 118,
      "outputs": [
        {
          "output_type": "execute_result",
          "data": {
            "text/plain": [
              "0    3\n",
              "1    3\n",
              "2    3\n",
              "3    3\n",
              "4    4\n",
              "5    1\n",
              "6    3\n",
              "7    3\n",
              "8    2\n",
              "9    2\n",
              "Name: BedroomAbvGr, dtype: int64"
            ]
          },
          "metadata": {
            "tags": []
          },
          "execution_count": 118
        }
      ]
    },
    {
      "cell_type": "code",
      "metadata": {
        "id": "wqJfqKCm4a0y",
        "outputId": "8ef6a216-f916-4efc-f5c0-acf4f2207132",
        "colab": {
          "base_uri": "https://localhost:8080/"
        }
      },
      "source": [
        "iowa_df['LotFrontage'].head(10)"
      ],
      "execution_count": 119,
      "outputs": [
        {
          "output_type": "execute_result",
          "data": {
            "text/plain": [
              "0    65.0\n",
              "1    80.0\n",
              "2    68.0\n",
              "3    60.0\n",
              "4    84.0\n",
              "5    85.0\n",
              "6    75.0\n",
              "7     NaN\n",
              "8    51.0\n",
              "9    50.0\n",
              "Name: LotFrontage, dtype: float64"
            ]
          },
          "metadata": {
            "tags": []
          },
          "execution_count": 119
        }
      ]
    },
    {
      "cell_type": "code",
      "metadata": {
        "id": "9tRrA5p04mXL",
        "outputId": "13896da6-3ec9-456a-df7a-1a3b0a536885",
        "colab": {
          "base_uri": "https://localhost:8080/"
        }
      },
      "source": [
        "iowa_df['LotFrontage'].value_counts(dropna=False)"
      ],
      "execution_count": 120,
      "outputs": [
        {
          "output_type": "execute_result",
          "data": {
            "text/plain": [
              "NaN      259\n",
              "60.0     143\n",
              "70.0      70\n",
              "80.0      69\n",
              "50.0      57\n",
              "        ... \n",
              "106.0      1\n",
              "38.0       1\n",
              "138.0      1\n",
              "140.0      1\n",
              "137.0      1\n",
              "Name: LotFrontage, Length: 111, dtype: int64"
            ]
          },
          "metadata": {
            "tags": []
          },
          "execution_count": 120
        }
      ]
    },
    {
      "cell_type": "code",
      "metadata": {
        "id": "rFImJpJZNBz_"
      },
      "source": [
        "import numpy as np"
      ],
      "execution_count": 121,
      "outputs": []
    },
    {
      "cell_type": "code",
      "metadata": {
        "id": "ILAHAtZ_NEw2",
        "outputId": "c143aa7e-f9dc-404e-cd1e-34ae4aeb2b7f",
        "colab": {
          "base_uri": "https://localhost:8080/"
        }
      },
      "source": [
        "type(np.nan)"
      ],
      "execution_count": 122,
      "outputs": [
        {
          "output_type": "execute_result",
          "data": {
            "text/plain": [
              "float"
            ]
          },
          "metadata": {
            "tags": []
          },
          "execution_count": 122
        }
      ]
    },
    {
      "cell_type": "code",
      "metadata": {
        "id": "kYZa_XLgNP6W",
        "outputId": "a81871e6-0fc6-45ab-a962-95ea65560d6f",
        "colab": {
          "base_uri": "https://localhost:8080/"
        }
      },
      "source": [
        "iowa_df['LotFrontage'].isnull().sum()"
      ],
      "execution_count": 123,
      "outputs": [
        {
          "output_type": "execute_result",
          "data": {
            "text/plain": [
              "259"
            ]
          },
          "metadata": {
            "tags": []
          },
          "execution_count": 123
        }
      ]
    },
    {
      "cell_type": "code",
      "metadata": {
        "id": "cyunjJ05NmaZ"
      },
      "source": [
        "iowa_df['LotFrontage'].dropna(inplace=True)"
      ],
      "execution_count": 124,
      "outputs": []
    },
    {
      "cell_type": "code",
      "metadata": {
        "id": "2aWms9fANu5y",
        "outputId": "e20124b6-0e68-4a5d-e420-92981ea8842e",
        "colab": {
          "base_uri": "https://localhost:8080/"
        }
      },
      "source": [
        "# Why does this return 259 after running the \"dropna\" function?\r\n",
        "# It should be 0\r\n",
        "\r\n",
        "iowa_df['LotFrontage'].isnull().sum()"
      ],
      "execution_count": 125,
      "outputs": [
        {
          "output_type": "execute_result",
          "data": {
            "text/plain": [
              "259"
            ]
          },
          "metadata": {
            "tags": []
          },
          "execution_count": 125
        }
      ]
    },
    {
      "cell_type": "code",
      "metadata": {
        "id": "wje2oL4gPDpB",
        "outputId": "0eadbfef-d40c-4ed1-eb25-81fc8ac30a3a",
        "colab": {
          "base_uri": "https://localhost:8080/"
        }
      },
      "source": [
        "iowa_df['LotFrontage'].value_counts()"
      ],
      "execution_count": 126,
      "outputs": [
        {
          "output_type": "execute_result",
          "data": {
            "text/plain": [
              "60.0     143\n",
              "70.0      70\n",
              "80.0      69\n",
              "50.0      57\n",
              "75.0      53\n",
              "        ... \n",
              "106.0      1\n",
              "38.0       1\n",
              "138.0      1\n",
              "140.0      1\n",
              "137.0      1\n",
              "Name: LotFrontage, Length: 110, dtype: int64"
            ]
          },
          "metadata": {
            "tags": []
          },
          "execution_count": 126
        }
      ]
    },
    {
      "cell_type": "markdown",
      "metadata": {
        "id": "Owe-_3XsvP5q"
      },
      "source": [
        "## Creating a new column"
      ]
    },
    {
      "cell_type": "code",
      "metadata": {
        "id": "DTb0qqhON7UN",
        "outputId": "05ccb8b8-9ca4-4f07-d209-0548a347e982",
        "colab": {
          "base_uri": "https://localhost:8080/",
          "height": 0
        }
      },
      "source": [
        "small_df = iowa_df[['TotalBsmtSF', '1stFlrSF', '2ndFlrSF', 'SalePrice']].copy()\r\n",
        "small_df.head()"
      ],
      "execution_count": 127,
      "outputs": [
        {
          "output_type": "execute_result",
          "data": {
            "text/html": [
              "<div>\n",
              "<style scoped>\n",
              "    .dataframe tbody tr th:only-of-type {\n",
              "        vertical-align: middle;\n",
              "    }\n",
              "\n",
              "    .dataframe tbody tr th {\n",
              "        vertical-align: top;\n",
              "    }\n",
              "\n",
              "    .dataframe thead th {\n",
              "        text-align: right;\n",
              "    }\n",
              "</style>\n",
              "<table border=\"1\" class=\"dataframe\">\n",
              "  <thead>\n",
              "    <tr style=\"text-align: right;\">\n",
              "      <th></th>\n",
              "      <th>TotalBsmtSF</th>\n",
              "      <th>1stFlrSF</th>\n",
              "      <th>2ndFlrSF</th>\n",
              "      <th>SalePrice</th>\n",
              "    </tr>\n",
              "  </thead>\n",
              "  <tbody>\n",
              "    <tr>\n",
              "      <th>0</th>\n",
              "      <td>856</td>\n",
              "      <td>856</td>\n",
              "      <td>854</td>\n",
              "      <td>208500</td>\n",
              "    </tr>\n",
              "    <tr>\n",
              "      <th>1</th>\n",
              "      <td>1262</td>\n",
              "      <td>1262</td>\n",
              "      <td>0</td>\n",
              "      <td>181500</td>\n",
              "    </tr>\n",
              "    <tr>\n",
              "      <th>2</th>\n",
              "      <td>920</td>\n",
              "      <td>920</td>\n",
              "      <td>866</td>\n",
              "      <td>223500</td>\n",
              "    </tr>\n",
              "    <tr>\n",
              "      <th>3</th>\n",
              "      <td>756</td>\n",
              "      <td>961</td>\n",
              "      <td>756</td>\n",
              "      <td>140000</td>\n",
              "    </tr>\n",
              "    <tr>\n",
              "      <th>4</th>\n",
              "      <td>1145</td>\n",
              "      <td>1145</td>\n",
              "      <td>1053</td>\n",
              "      <td>250000</td>\n",
              "    </tr>\n",
              "  </tbody>\n",
              "</table>\n",
              "</div>"
            ],
            "text/plain": [
              "   TotalBsmtSF  1stFlrSF  2ndFlrSF  SalePrice\n",
              "0          856       856       854     208500\n",
              "1         1262      1262         0     181500\n",
              "2          920       920       866     223500\n",
              "3          756       961       756     140000\n",
              "4         1145      1145      1053     250000"
            ]
          },
          "metadata": {
            "tags": []
          },
          "execution_count": 127
        }
      ]
    },
    {
      "cell_type": "code",
      "metadata": {
        "id": "ltTOqyAJP06q",
        "outputId": "cd428ba2-2e10-4ff4-f29e-744ab8926f2d",
        "colab": {
          "base_uri": "https://localhost:8080/",
          "height": 0
        }
      },
      "source": [
        "small_df['TotalSquareFootage'] = small_df['TotalBsmtSF'] + iowa_df['1stFlrSF'] + iowa_df['2ndFlrSF']\r\n",
        "small_df.head()"
      ],
      "execution_count": 128,
      "outputs": [
        {
          "output_type": "execute_result",
          "data": {
            "text/html": [
              "<div>\n",
              "<style scoped>\n",
              "    .dataframe tbody tr th:only-of-type {\n",
              "        vertical-align: middle;\n",
              "    }\n",
              "\n",
              "    .dataframe tbody tr th {\n",
              "        vertical-align: top;\n",
              "    }\n",
              "\n",
              "    .dataframe thead th {\n",
              "        text-align: right;\n",
              "    }\n",
              "</style>\n",
              "<table border=\"1\" class=\"dataframe\">\n",
              "  <thead>\n",
              "    <tr style=\"text-align: right;\">\n",
              "      <th></th>\n",
              "      <th>TotalBsmtSF</th>\n",
              "      <th>1stFlrSF</th>\n",
              "      <th>2ndFlrSF</th>\n",
              "      <th>SalePrice</th>\n",
              "      <th>TotalSquareFootage</th>\n",
              "    </tr>\n",
              "  </thead>\n",
              "  <tbody>\n",
              "    <tr>\n",
              "      <th>0</th>\n",
              "      <td>856</td>\n",
              "      <td>856</td>\n",
              "      <td>854</td>\n",
              "      <td>208500</td>\n",
              "      <td>2566</td>\n",
              "    </tr>\n",
              "    <tr>\n",
              "      <th>1</th>\n",
              "      <td>1262</td>\n",
              "      <td>1262</td>\n",
              "      <td>0</td>\n",
              "      <td>181500</td>\n",
              "      <td>2524</td>\n",
              "    </tr>\n",
              "    <tr>\n",
              "      <th>2</th>\n",
              "      <td>920</td>\n",
              "      <td>920</td>\n",
              "      <td>866</td>\n",
              "      <td>223500</td>\n",
              "      <td>2706</td>\n",
              "    </tr>\n",
              "    <tr>\n",
              "      <th>3</th>\n",
              "      <td>756</td>\n",
              "      <td>961</td>\n",
              "      <td>756</td>\n",
              "      <td>140000</td>\n",
              "      <td>2473</td>\n",
              "    </tr>\n",
              "    <tr>\n",
              "      <th>4</th>\n",
              "      <td>1145</td>\n",
              "      <td>1145</td>\n",
              "      <td>1053</td>\n",
              "      <td>250000</td>\n",
              "      <td>3343</td>\n",
              "    </tr>\n",
              "  </tbody>\n",
              "</table>\n",
              "</div>"
            ],
            "text/plain": [
              "   TotalBsmtSF  1stFlrSF  2ndFlrSF  SalePrice  TotalSquareFootage\n",
              "0          856       856       854     208500                2566\n",
              "1         1262      1262         0     181500                2524\n",
              "2          920       920       866     223500                2706\n",
              "3          756       961       756     140000                2473\n",
              "4         1145      1145      1053     250000                3343"
            ]
          },
          "metadata": {
            "tags": []
          },
          "execution_count": 128
        }
      ]
    },
    {
      "cell_type": "code",
      "metadata": {
        "id": "lYoNAe0SPp3M",
        "outputId": "458913c0-991c-4931-c62b-b5fad5c1f4f1",
        "colab": {
          "base_uri": "https://localhost:8080/",
          "height": 0
        }
      },
      "source": [
        "small_df['PricePerSqFt'] = small_df['SalePrice'] / small_df['TotalSquareFootage']\r\n",
        "small_df.head()"
      ],
      "execution_count": 129,
      "outputs": [
        {
          "output_type": "execute_result",
          "data": {
            "text/html": [
              "<div>\n",
              "<style scoped>\n",
              "    .dataframe tbody tr th:only-of-type {\n",
              "        vertical-align: middle;\n",
              "    }\n",
              "\n",
              "    .dataframe tbody tr th {\n",
              "        vertical-align: top;\n",
              "    }\n",
              "\n",
              "    .dataframe thead th {\n",
              "        text-align: right;\n",
              "    }\n",
              "</style>\n",
              "<table border=\"1\" class=\"dataframe\">\n",
              "  <thead>\n",
              "    <tr style=\"text-align: right;\">\n",
              "      <th></th>\n",
              "      <th>TotalBsmtSF</th>\n",
              "      <th>1stFlrSF</th>\n",
              "      <th>2ndFlrSF</th>\n",
              "      <th>SalePrice</th>\n",
              "      <th>TotalSquareFootage</th>\n",
              "      <th>PricePerSqFt</th>\n",
              "    </tr>\n",
              "  </thead>\n",
              "  <tbody>\n",
              "    <tr>\n",
              "      <th>0</th>\n",
              "      <td>856</td>\n",
              "      <td>856</td>\n",
              "      <td>854</td>\n",
              "      <td>208500</td>\n",
              "      <td>2566</td>\n",
              "      <td>81.254871</td>\n",
              "    </tr>\n",
              "    <tr>\n",
              "      <th>1</th>\n",
              "      <td>1262</td>\n",
              "      <td>1262</td>\n",
              "      <td>0</td>\n",
              "      <td>181500</td>\n",
              "      <td>2524</td>\n",
              "      <td>71.909667</td>\n",
              "    </tr>\n",
              "    <tr>\n",
              "      <th>2</th>\n",
              "      <td>920</td>\n",
              "      <td>920</td>\n",
              "      <td>866</td>\n",
              "      <td>223500</td>\n",
              "      <td>2706</td>\n",
              "      <td>82.594235</td>\n",
              "    </tr>\n",
              "    <tr>\n",
              "      <th>3</th>\n",
              "      <td>756</td>\n",
              "      <td>961</td>\n",
              "      <td>756</td>\n",
              "      <td>140000</td>\n",
              "      <td>2473</td>\n",
              "      <td>56.611403</td>\n",
              "    </tr>\n",
              "    <tr>\n",
              "      <th>4</th>\n",
              "      <td>1145</td>\n",
              "      <td>1145</td>\n",
              "      <td>1053</td>\n",
              "      <td>250000</td>\n",
              "      <td>3343</td>\n",
              "      <td>74.783129</td>\n",
              "    </tr>\n",
              "  </tbody>\n",
              "</table>\n",
              "</div>"
            ],
            "text/plain": [
              "   TotalBsmtSF  1stFlrSF  2ndFlrSF  SalePrice  TotalSquareFootage  PricePerSqFt\n",
              "0          856       856       854     208500                2566     81.254871\n",
              "1         1262      1262         0     181500                2524     71.909667\n",
              "2          920       920       866     223500                2706     82.594235\n",
              "3          756       961       756     140000                2473     56.611403\n",
              "4         1145      1145      1053     250000                3343     74.783129"
            ]
          },
          "metadata": {
            "tags": []
          },
          "execution_count": 129
        }
      ]
    },
    {
      "cell_type": "code",
      "metadata": {
        "id": "f0n09yQURRWI",
        "outputId": "79f524cd-92e5-446e-8c41-9ef74f661352",
        "colab": {
          "base_uri": "https://localhost:8080/",
          "height": 0
        }
      },
      "source": [
        "iowa_df.head()"
      ],
      "execution_count": 130,
      "outputs": [
        {
          "output_type": "execute_result",
          "data": {
            "text/html": [
              "<div>\n",
              "<style scoped>\n",
              "    .dataframe tbody tr th:only-of-type {\n",
              "        vertical-align: middle;\n",
              "    }\n",
              "\n",
              "    .dataframe tbody tr th {\n",
              "        vertical-align: top;\n",
              "    }\n",
              "\n",
              "    .dataframe thead th {\n",
              "        text-align: right;\n",
              "    }\n",
              "</style>\n",
              "<table border=\"1\" class=\"dataframe\">\n",
              "  <thead>\n",
              "    <tr style=\"text-align: right;\">\n",
              "      <th></th>\n",
              "      <th>Id</th>\n",
              "      <th>MSSubClass</th>\n",
              "      <th>MSZoning</th>\n",
              "      <th>LotFrontage</th>\n",
              "      <th>LotArea</th>\n",
              "      <th>Street</th>\n",
              "      <th>Alley</th>\n",
              "      <th>LotShape</th>\n",
              "      <th>LandContour</th>\n",
              "      <th>Utilities</th>\n",
              "      <th>LotConfig</th>\n",
              "      <th>LandSlope</th>\n",
              "      <th>Neighborhood</th>\n",
              "      <th>Condition1</th>\n",
              "      <th>Condition2</th>\n",
              "      <th>BldgType</th>\n",
              "      <th>HouseStyle</th>\n",
              "      <th>OverallQual</th>\n",
              "      <th>OverallCond</th>\n",
              "      <th>YearBuilt</th>\n",
              "      <th>YearRemodAdd</th>\n",
              "      <th>RoofStyle</th>\n",
              "      <th>RoofMatl</th>\n",
              "      <th>Exterior1st</th>\n",
              "      <th>Exterior2nd</th>\n",
              "      <th>MasVnrType</th>\n",
              "      <th>MasVnrArea</th>\n",
              "      <th>ExterQual</th>\n",
              "      <th>ExterCond</th>\n",
              "      <th>Foundation</th>\n",
              "      <th>BsmtQual</th>\n",
              "      <th>BsmtCond</th>\n",
              "      <th>BsmtExposure</th>\n",
              "      <th>BsmtFinType1</th>\n",
              "      <th>BsmtFinSF1</th>\n",
              "      <th>BsmtFinType2</th>\n",
              "      <th>BsmtFinSF2</th>\n",
              "      <th>BsmtUnfSF</th>\n",
              "      <th>TotalBsmtSF</th>\n",
              "      <th>Heating</th>\n",
              "      <th>...</th>\n",
              "      <th>CentralAir</th>\n",
              "      <th>Electrical</th>\n",
              "      <th>1stFlrSF</th>\n",
              "      <th>2ndFlrSF</th>\n",
              "      <th>LowQualFinSF</th>\n",
              "      <th>GrLivArea</th>\n",
              "      <th>BsmtFullBath</th>\n",
              "      <th>BsmtHalfBath</th>\n",
              "      <th>FullBath</th>\n",
              "      <th>HalfBath</th>\n",
              "      <th>BedroomAbvGr</th>\n",
              "      <th>KitchenAbvGr</th>\n",
              "      <th>KitchenQual</th>\n",
              "      <th>TotRmsAbvGrd</th>\n",
              "      <th>Functional</th>\n",
              "      <th>Fireplaces</th>\n",
              "      <th>FireplaceQu</th>\n",
              "      <th>GarageType</th>\n",
              "      <th>GarageYrBlt</th>\n",
              "      <th>GarageFinish</th>\n",
              "      <th>GarageCars</th>\n",
              "      <th>GarageArea</th>\n",
              "      <th>GarageQual</th>\n",
              "      <th>GarageCond</th>\n",
              "      <th>PavedDrive</th>\n",
              "      <th>WoodDeckSF</th>\n",
              "      <th>OpenPorchSF</th>\n",
              "      <th>EnclosedPorch</th>\n",
              "      <th>3SsnPorch</th>\n",
              "      <th>ScreenPorch</th>\n",
              "      <th>PoolArea</th>\n",
              "      <th>PoolQC</th>\n",
              "      <th>Fence</th>\n",
              "      <th>MiscFeature</th>\n",
              "      <th>MiscVal</th>\n",
              "      <th>MoSold</th>\n",
              "      <th>YrSold</th>\n",
              "      <th>SaleType</th>\n",
              "      <th>SaleCondition</th>\n",
              "      <th>SalePrice</th>\n",
              "    </tr>\n",
              "  </thead>\n",
              "  <tbody>\n",
              "    <tr>\n",
              "      <th>0</th>\n",
              "      <td>1</td>\n",
              "      <td>60</td>\n",
              "      <td>RL</td>\n",
              "      <td>65.0</td>\n",
              "      <td>8450</td>\n",
              "      <td>Pave</td>\n",
              "      <td>NaN</td>\n",
              "      <td>Reg</td>\n",
              "      <td>Lvl</td>\n",
              "      <td>AllPub</td>\n",
              "      <td>Inside</td>\n",
              "      <td>Gtl</td>\n",
              "      <td>CollgCr</td>\n",
              "      <td>Norm</td>\n",
              "      <td>Norm</td>\n",
              "      <td>1Fam</td>\n",
              "      <td>2Story</td>\n",
              "      <td>7</td>\n",
              "      <td>5</td>\n",
              "      <td>2003</td>\n",
              "      <td>2003</td>\n",
              "      <td>Gable</td>\n",
              "      <td>CompShg</td>\n",
              "      <td>VinylSd</td>\n",
              "      <td>VinylSd</td>\n",
              "      <td>BrkFace</td>\n",
              "      <td>196.0</td>\n",
              "      <td>Gd</td>\n",
              "      <td>TA</td>\n",
              "      <td>PConc</td>\n",
              "      <td>Gd</td>\n",
              "      <td>TA</td>\n",
              "      <td>No</td>\n",
              "      <td>GLQ</td>\n",
              "      <td>706</td>\n",
              "      <td>Unf</td>\n",
              "      <td>0</td>\n",
              "      <td>150</td>\n",
              "      <td>856</td>\n",
              "      <td>GasA</td>\n",
              "      <td>...</td>\n",
              "      <td>Y</td>\n",
              "      <td>SBrkr</td>\n",
              "      <td>856</td>\n",
              "      <td>854</td>\n",
              "      <td>0</td>\n",
              "      <td>1710</td>\n",
              "      <td>1</td>\n",
              "      <td>0</td>\n",
              "      <td>2</td>\n",
              "      <td>1</td>\n",
              "      <td>3</td>\n",
              "      <td>1</td>\n",
              "      <td>Gd</td>\n",
              "      <td>8</td>\n",
              "      <td>Typ</td>\n",
              "      <td>0</td>\n",
              "      <td>NaN</td>\n",
              "      <td>Attchd</td>\n",
              "      <td>2003.0</td>\n",
              "      <td>RFn</td>\n",
              "      <td>2</td>\n",
              "      <td>548</td>\n",
              "      <td>TA</td>\n",
              "      <td>TA</td>\n",
              "      <td>Y</td>\n",
              "      <td>0</td>\n",
              "      <td>61</td>\n",
              "      <td>0</td>\n",
              "      <td>0</td>\n",
              "      <td>0</td>\n",
              "      <td>0</td>\n",
              "      <td>NaN</td>\n",
              "      <td>NaN</td>\n",
              "      <td>NaN</td>\n",
              "      <td>0</td>\n",
              "      <td>2</td>\n",
              "      <td>2008</td>\n",
              "      <td>WD</td>\n",
              "      <td>Normal</td>\n",
              "      <td>208500</td>\n",
              "    </tr>\n",
              "    <tr>\n",
              "      <th>1</th>\n",
              "      <td>2</td>\n",
              "      <td>20</td>\n",
              "      <td>RL</td>\n",
              "      <td>80.0</td>\n",
              "      <td>9600</td>\n",
              "      <td>Pave</td>\n",
              "      <td>NaN</td>\n",
              "      <td>Reg</td>\n",
              "      <td>Lvl</td>\n",
              "      <td>AllPub</td>\n",
              "      <td>FR2</td>\n",
              "      <td>Gtl</td>\n",
              "      <td>Veenker</td>\n",
              "      <td>Feedr</td>\n",
              "      <td>Norm</td>\n",
              "      <td>1Fam</td>\n",
              "      <td>1Story</td>\n",
              "      <td>6</td>\n",
              "      <td>8</td>\n",
              "      <td>1976</td>\n",
              "      <td>1976</td>\n",
              "      <td>Gable</td>\n",
              "      <td>CompShg</td>\n",
              "      <td>MetalSd</td>\n",
              "      <td>MetalSd</td>\n",
              "      <td>None</td>\n",
              "      <td>0.0</td>\n",
              "      <td>TA</td>\n",
              "      <td>TA</td>\n",
              "      <td>CBlock</td>\n",
              "      <td>Gd</td>\n",
              "      <td>TA</td>\n",
              "      <td>Gd</td>\n",
              "      <td>ALQ</td>\n",
              "      <td>978</td>\n",
              "      <td>Unf</td>\n",
              "      <td>0</td>\n",
              "      <td>284</td>\n",
              "      <td>1262</td>\n",
              "      <td>GasA</td>\n",
              "      <td>...</td>\n",
              "      <td>Y</td>\n",
              "      <td>SBrkr</td>\n",
              "      <td>1262</td>\n",
              "      <td>0</td>\n",
              "      <td>0</td>\n",
              "      <td>1262</td>\n",
              "      <td>0</td>\n",
              "      <td>1</td>\n",
              "      <td>2</td>\n",
              "      <td>0</td>\n",
              "      <td>3</td>\n",
              "      <td>1</td>\n",
              "      <td>TA</td>\n",
              "      <td>6</td>\n",
              "      <td>Typ</td>\n",
              "      <td>1</td>\n",
              "      <td>TA</td>\n",
              "      <td>Attchd</td>\n",
              "      <td>1976.0</td>\n",
              "      <td>RFn</td>\n",
              "      <td>2</td>\n",
              "      <td>460</td>\n",
              "      <td>TA</td>\n",
              "      <td>TA</td>\n",
              "      <td>Y</td>\n",
              "      <td>298</td>\n",
              "      <td>0</td>\n",
              "      <td>0</td>\n",
              "      <td>0</td>\n",
              "      <td>0</td>\n",
              "      <td>0</td>\n",
              "      <td>NaN</td>\n",
              "      <td>NaN</td>\n",
              "      <td>NaN</td>\n",
              "      <td>0</td>\n",
              "      <td>5</td>\n",
              "      <td>2007</td>\n",
              "      <td>WD</td>\n",
              "      <td>Normal</td>\n",
              "      <td>181500</td>\n",
              "    </tr>\n",
              "    <tr>\n",
              "      <th>2</th>\n",
              "      <td>3</td>\n",
              "      <td>60</td>\n",
              "      <td>RL</td>\n",
              "      <td>68.0</td>\n",
              "      <td>11250</td>\n",
              "      <td>Pave</td>\n",
              "      <td>NaN</td>\n",
              "      <td>IR1</td>\n",
              "      <td>Lvl</td>\n",
              "      <td>AllPub</td>\n",
              "      <td>Inside</td>\n",
              "      <td>Gtl</td>\n",
              "      <td>CollgCr</td>\n",
              "      <td>Norm</td>\n",
              "      <td>Norm</td>\n",
              "      <td>1Fam</td>\n",
              "      <td>2Story</td>\n",
              "      <td>7</td>\n",
              "      <td>5</td>\n",
              "      <td>2001</td>\n",
              "      <td>2002</td>\n",
              "      <td>Gable</td>\n",
              "      <td>CompShg</td>\n",
              "      <td>VinylSd</td>\n",
              "      <td>VinylSd</td>\n",
              "      <td>BrkFace</td>\n",
              "      <td>162.0</td>\n",
              "      <td>Gd</td>\n",
              "      <td>TA</td>\n",
              "      <td>PConc</td>\n",
              "      <td>Gd</td>\n",
              "      <td>TA</td>\n",
              "      <td>Mn</td>\n",
              "      <td>GLQ</td>\n",
              "      <td>486</td>\n",
              "      <td>Unf</td>\n",
              "      <td>0</td>\n",
              "      <td>434</td>\n",
              "      <td>920</td>\n",
              "      <td>GasA</td>\n",
              "      <td>...</td>\n",
              "      <td>Y</td>\n",
              "      <td>SBrkr</td>\n",
              "      <td>920</td>\n",
              "      <td>866</td>\n",
              "      <td>0</td>\n",
              "      <td>1786</td>\n",
              "      <td>1</td>\n",
              "      <td>0</td>\n",
              "      <td>2</td>\n",
              "      <td>1</td>\n",
              "      <td>3</td>\n",
              "      <td>1</td>\n",
              "      <td>Gd</td>\n",
              "      <td>6</td>\n",
              "      <td>Typ</td>\n",
              "      <td>1</td>\n",
              "      <td>TA</td>\n",
              "      <td>Attchd</td>\n",
              "      <td>2001.0</td>\n",
              "      <td>RFn</td>\n",
              "      <td>2</td>\n",
              "      <td>608</td>\n",
              "      <td>TA</td>\n",
              "      <td>TA</td>\n",
              "      <td>Y</td>\n",
              "      <td>0</td>\n",
              "      <td>42</td>\n",
              "      <td>0</td>\n",
              "      <td>0</td>\n",
              "      <td>0</td>\n",
              "      <td>0</td>\n",
              "      <td>NaN</td>\n",
              "      <td>NaN</td>\n",
              "      <td>NaN</td>\n",
              "      <td>0</td>\n",
              "      <td>9</td>\n",
              "      <td>2008</td>\n",
              "      <td>WD</td>\n",
              "      <td>Normal</td>\n",
              "      <td>223500</td>\n",
              "    </tr>\n",
              "    <tr>\n",
              "      <th>3</th>\n",
              "      <td>4</td>\n",
              "      <td>70</td>\n",
              "      <td>RL</td>\n",
              "      <td>60.0</td>\n",
              "      <td>9550</td>\n",
              "      <td>Pave</td>\n",
              "      <td>NaN</td>\n",
              "      <td>IR1</td>\n",
              "      <td>Lvl</td>\n",
              "      <td>AllPub</td>\n",
              "      <td>Corner</td>\n",
              "      <td>Gtl</td>\n",
              "      <td>Crawfor</td>\n",
              "      <td>Norm</td>\n",
              "      <td>Norm</td>\n",
              "      <td>1Fam</td>\n",
              "      <td>2Story</td>\n",
              "      <td>7</td>\n",
              "      <td>5</td>\n",
              "      <td>1915</td>\n",
              "      <td>1970</td>\n",
              "      <td>Gable</td>\n",
              "      <td>CompShg</td>\n",
              "      <td>Wd Sdng</td>\n",
              "      <td>Wd Shng</td>\n",
              "      <td>None</td>\n",
              "      <td>0.0</td>\n",
              "      <td>TA</td>\n",
              "      <td>TA</td>\n",
              "      <td>BrkTil</td>\n",
              "      <td>TA</td>\n",
              "      <td>Gd</td>\n",
              "      <td>No</td>\n",
              "      <td>ALQ</td>\n",
              "      <td>216</td>\n",
              "      <td>Unf</td>\n",
              "      <td>0</td>\n",
              "      <td>540</td>\n",
              "      <td>756</td>\n",
              "      <td>GasA</td>\n",
              "      <td>...</td>\n",
              "      <td>Y</td>\n",
              "      <td>SBrkr</td>\n",
              "      <td>961</td>\n",
              "      <td>756</td>\n",
              "      <td>0</td>\n",
              "      <td>1717</td>\n",
              "      <td>1</td>\n",
              "      <td>0</td>\n",
              "      <td>1</td>\n",
              "      <td>0</td>\n",
              "      <td>3</td>\n",
              "      <td>1</td>\n",
              "      <td>Gd</td>\n",
              "      <td>7</td>\n",
              "      <td>Typ</td>\n",
              "      <td>1</td>\n",
              "      <td>Gd</td>\n",
              "      <td>Detchd</td>\n",
              "      <td>1998.0</td>\n",
              "      <td>Unf</td>\n",
              "      <td>3</td>\n",
              "      <td>642</td>\n",
              "      <td>TA</td>\n",
              "      <td>TA</td>\n",
              "      <td>Y</td>\n",
              "      <td>0</td>\n",
              "      <td>35</td>\n",
              "      <td>272</td>\n",
              "      <td>0</td>\n",
              "      <td>0</td>\n",
              "      <td>0</td>\n",
              "      <td>NaN</td>\n",
              "      <td>NaN</td>\n",
              "      <td>NaN</td>\n",
              "      <td>0</td>\n",
              "      <td>2</td>\n",
              "      <td>2006</td>\n",
              "      <td>WD</td>\n",
              "      <td>Abnorml</td>\n",
              "      <td>140000</td>\n",
              "    </tr>\n",
              "    <tr>\n",
              "      <th>4</th>\n",
              "      <td>5</td>\n",
              "      <td>60</td>\n",
              "      <td>RL</td>\n",
              "      <td>84.0</td>\n",
              "      <td>14260</td>\n",
              "      <td>Pave</td>\n",
              "      <td>NaN</td>\n",
              "      <td>IR1</td>\n",
              "      <td>Lvl</td>\n",
              "      <td>AllPub</td>\n",
              "      <td>FR2</td>\n",
              "      <td>Gtl</td>\n",
              "      <td>NoRidge</td>\n",
              "      <td>Norm</td>\n",
              "      <td>Norm</td>\n",
              "      <td>1Fam</td>\n",
              "      <td>2Story</td>\n",
              "      <td>8</td>\n",
              "      <td>5</td>\n",
              "      <td>2000</td>\n",
              "      <td>2000</td>\n",
              "      <td>Gable</td>\n",
              "      <td>CompShg</td>\n",
              "      <td>VinylSd</td>\n",
              "      <td>VinylSd</td>\n",
              "      <td>BrkFace</td>\n",
              "      <td>350.0</td>\n",
              "      <td>Gd</td>\n",
              "      <td>TA</td>\n",
              "      <td>PConc</td>\n",
              "      <td>Gd</td>\n",
              "      <td>TA</td>\n",
              "      <td>Av</td>\n",
              "      <td>GLQ</td>\n",
              "      <td>655</td>\n",
              "      <td>Unf</td>\n",
              "      <td>0</td>\n",
              "      <td>490</td>\n",
              "      <td>1145</td>\n",
              "      <td>GasA</td>\n",
              "      <td>...</td>\n",
              "      <td>Y</td>\n",
              "      <td>SBrkr</td>\n",
              "      <td>1145</td>\n",
              "      <td>1053</td>\n",
              "      <td>0</td>\n",
              "      <td>2198</td>\n",
              "      <td>1</td>\n",
              "      <td>0</td>\n",
              "      <td>2</td>\n",
              "      <td>1</td>\n",
              "      <td>4</td>\n",
              "      <td>1</td>\n",
              "      <td>Gd</td>\n",
              "      <td>9</td>\n",
              "      <td>Typ</td>\n",
              "      <td>1</td>\n",
              "      <td>TA</td>\n",
              "      <td>Attchd</td>\n",
              "      <td>2000.0</td>\n",
              "      <td>RFn</td>\n",
              "      <td>3</td>\n",
              "      <td>836</td>\n",
              "      <td>TA</td>\n",
              "      <td>TA</td>\n",
              "      <td>Y</td>\n",
              "      <td>192</td>\n",
              "      <td>84</td>\n",
              "      <td>0</td>\n",
              "      <td>0</td>\n",
              "      <td>0</td>\n",
              "      <td>0</td>\n",
              "      <td>NaN</td>\n",
              "      <td>NaN</td>\n",
              "      <td>NaN</td>\n",
              "      <td>0</td>\n",
              "      <td>12</td>\n",
              "      <td>2008</td>\n",
              "      <td>WD</td>\n",
              "      <td>Normal</td>\n",
              "      <td>250000</td>\n",
              "    </tr>\n",
              "  </tbody>\n",
              "</table>\n",
              "<p>5 rows × 81 columns</p>\n",
              "</div>"
            ],
            "text/plain": [
              "   Id  MSSubClass MSZoning  ...  SaleType  SaleCondition SalePrice\n",
              "0   1          60       RL  ...        WD         Normal    208500\n",
              "1   2          20       RL  ...        WD         Normal    181500\n",
              "2   3          60       RL  ...        WD         Normal    223500\n",
              "3   4          70       RL  ...        WD        Abnorml    140000\n",
              "4   5          60       RL  ...        WD         Normal    250000\n",
              "\n",
              "[5 rows x 81 columns]"
            ]
          },
          "metadata": {
            "tags": []
          },
          "execution_count": 130
        }
      ]
    },
    {
      "cell_type": "code",
      "metadata": {
        "id": "DKmp1oM8RT5B",
        "outputId": "8607486b-9d9e-4dbd-e4d9-46ffbf2ed294",
        "colab": {
          "base_uri": "https://localhost:8080/"
        }
      },
      "source": [
        "iowa_df['LotShape'].value_counts()"
      ],
      "execution_count": 131,
      "outputs": [
        {
          "output_type": "execute_result",
          "data": {
            "text/plain": [
              "Reg    925\n",
              "IR1    484\n",
              "IR2     41\n",
              "IR3     10\n",
              "Name: LotShape, dtype: int64"
            ]
          },
          "metadata": {
            "tags": []
          },
          "execution_count": 131
        }
      ]
    },
    {
      "cell_type": "code",
      "metadata": {
        "id": "un8CPYXlRfNw",
        "outputId": "f561e63c-8c7d-4910-9aa6-a65588c1cbb9",
        "colab": {
          "base_uri": "https://localhost:8080/"
        }
      },
      "source": [
        "iowa_df['Alley'].value_counts()"
      ],
      "execution_count": 132,
      "outputs": [
        {
          "output_type": "execute_result",
          "data": {
            "text/plain": [
              "Grvl    50\n",
              "Pave    41\n",
              "Name: Alley, dtype: int64"
            ]
          },
          "metadata": {
            "tags": []
          },
          "execution_count": 132
        }
      ]
    },
    {
      "cell_type": "code",
      "metadata": {
        "id": "KA7NGTjvRmUr",
        "outputId": "739abb9c-764b-429c-a8de-5e2f52ce700d",
        "colab": {
          "base_uri": "https://localhost:8080/",
          "height": 0
        }
      },
      "source": [
        "pd.crosstab(iowa_df['Alley'], iowa_df['LotShape'])"
      ],
      "execution_count": 133,
      "outputs": [
        {
          "output_type": "execute_result",
          "data": {
            "text/html": [
              "<div>\n",
              "<style scoped>\n",
              "    .dataframe tbody tr th:only-of-type {\n",
              "        vertical-align: middle;\n",
              "    }\n",
              "\n",
              "    .dataframe tbody tr th {\n",
              "        vertical-align: top;\n",
              "    }\n",
              "\n",
              "    .dataframe thead th {\n",
              "        text-align: right;\n",
              "    }\n",
              "</style>\n",
              "<table border=\"1\" class=\"dataframe\">\n",
              "  <thead>\n",
              "    <tr style=\"text-align: right;\">\n",
              "      <th>LotShape</th>\n",
              "      <th>IR1</th>\n",
              "      <th>IR2</th>\n",
              "      <th>IR3</th>\n",
              "      <th>Reg</th>\n",
              "    </tr>\n",
              "    <tr>\n",
              "      <th>Alley</th>\n",
              "      <th></th>\n",
              "      <th></th>\n",
              "      <th></th>\n",
              "      <th></th>\n",
              "    </tr>\n",
              "  </thead>\n",
              "  <tbody>\n",
              "    <tr>\n",
              "      <th>Grvl</th>\n",
              "      <td>4</td>\n",
              "      <td>0</td>\n",
              "      <td>1</td>\n",
              "      <td>45</td>\n",
              "    </tr>\n",
              "    <tr>\n",
              "      <th>Pave</th>\n",
              "      <td>7</td>\n",
              "      <td>2</td>\n",
              "      <td>0</td>\n",
              "      <td>32</td>\n",
              "    </tr>\n",
              "  </tbody>\n",
              "</table>\n",
              "</div>"
            ],
            "text/plain": [
              "LotShape  IR1  IR2  IR3  Reg\n",
              "Alley                       \n",
              "Grvl        4    0    1   45\n",
              "Pave        7    2    0   32"
            ]
          },
          "metadata": {
            "tags": []
          },
          "execution_count": 133
        }
      ]
    },
    {
      "cell_type": "code",
      "metadata": {
        "id": "xXDP37ZrRzbP",
        "outputId": "497d9346-3886-492e-c1bd-f950fcb75b49",
        "colab": {
          "base_uri": "https://localhost:8080/",
          "height": 0
        }
      },
      "source": [
        "pd.crosstab(iowa_df['Alley'], iowa_df['LotShape'], margins=True)"
      ],
      "execution_count": 134,
      "outputs": [
        {
          "output_type": "execute_result",
          "data": {
            "text/html": [
              "<div>\n",
              "<style scoped>\n",
              "    .dataframe tbody tr th:only-of-type {\n",
              "        vertical-align: middle;\n",
              "    }\n",
              "\n",
              "    .dataframe tbody tr th {\n",
              "        vertical-align: top;\n",
              "    }\n",
              "\n",
              "    .dataframe thead th {\n",
              "        text-align: right;\n",
              "    }\n",
              "</style>\n",
              "<table border=\"1\" class=\"dataframe\">\n",
              "  <thead>\n",
              "    <tr style=\"text-align: right;\">\n",
              "      <th>LotShape</th>\n",
              "      <th>IR1</th>\n",
              "      <th>IR2</th>\n",
              "      <th>IR3</th>\n",
              "      <th>Reg</th>\n",
              "      <th>All</th>\n",
              "    </tr>\n",
              "    <tr>\n",
              "      <th>Alley</th>\n",
              "      <th></th>\n",
              "      <th></th>\n",
              "      <th></th>\n",
              "      <th></th>\n",
              "      <th></th>\n",
              "    </tr>\n",
              "  </thead>\n",
              "  <tbody>\n",
              "    <tr>\n",
              "      <th>Grvl</th>\n",
              "      <td>4</td>\n",
              "      <td>0</td>\n",
              "      <td>1</td>\n",
              "      <td>45</td>\n",
              "      <td>50</td>\n",
              "    </tr>\n",
              "    <tr>\n",
              "      <th>Pave</th>\n",
              "      <td>7</td>\n",
              "      <td>2</td>\n",
              "      <td>0</td>\n",
              "      <td>32</td>\n",
              "      <td>41</td>\n",
              "    </tr>\n",
              "    <tr>\n",
              "      <th>All</th>\n",
              "      <td>11</td>\n",
              "      <td>2</td>\n",
              "      <td>1</td>\n",
              "      <td>77</td>\n",
              "      <td>91</td>\n",
              "    </tr>\n",
              "  </tbody>\n",
              "</table>\n",
              "</div>"
            ],
            "text/plain": [
              "LotShape  IR1  IR2  IR3  Reg  All\n",
              "Alley                            \n",
              "Grvl        4    0    1   45   50\n",
              "Pave        7    2    0   32   41\n",
              "All        11    2    1   77   91"
            ]
          },
          "metadata": {
            "tags": []
          },
          "execution_count": 134
        }
      ]
    },
    {
      "cell_type": "code",
      "metadata": {
        "id": "4_k4nsJHSHLG",
        "outputId": "7ad5709d-a40a-402a-fd46-75a9599848ae",
        "colab": {
          "base_uri": "https://localhost:8080/",
          "height": 0
        }
      },
      "source": [
        "pd.crosstab(iowa_df['Alley'], iowa_df['LotShape'], margins=True, normalize='index')"
      ],
      "execution_count": 135,
      "outputs": [
        {
          "output_type": "execute_result",
          "data": {
            "text/html": [
              "<div>\n",
              "<style scoped>\n",
              "    .dataframe tbody tr th:only-of-type {\n",
              "        vertical-align: middle;\n",
              "    }\n",
              "\n",
              "    .dataframe tbody tr th {\n",
              "        vertical-align: top;\n",
              "    }\n",
              "\n",
              "    .dataframe thead th {\n",
              "        text-align: right;\n",
              "    }\n",
              "</style>\n",
              "<table border=\"1\" class=\"dataframe\">\n",
              "  <thead>\n",
              "    <tr style=\"text-align: right;\">\n",
              "      <th>LotShape</th>\n",
              "      <th>IR1</th>\n",
              "      <th>IR2</th>\n",
              "      <th>IR3</th>\n",
              "      <th>Reg</th>\n",
              "    </tr>\n",
              "    <tr>\n",
              "      <th>Alley</th>\n",
              "      <th></th>\n",
              "      <th></th>\n",
              "      <th></th>\n",
              "      <th></th>\n",
              "    </tr>\n",
              "  </thead>\n",
              "  <tbody>\n",
              "    <tr>\n",
              "      <th>Grvl</th>\n",
              "      <td>0.080000</td>\n",
              "      <td>0.000000</td>\n",
              "      <td>0.020000</td>\n",
              "      <td>0.900000</td>\n",
              "    </tr>\n",
              "    <tr>\n",
              "      <th>Pave</th>\n",
              "      <td>0.170732</td>\n",
              "      <td>0.048780</td>\n",
              "      <td>0.000000</td>\n",
              "      <td>0.780488</td>\n",
              "    </tr>\n",
              "    <tr>\n",
              "      <th>All</th>\n",
              "      <td>0.120879</td>\n",
              "      <td>0.021978</td>\n",
              "      <td>0.010989</td>\n",
              "      <td>0.846154</td>\n",
              "    </tr>\n",
              "  </tbody>\n",
              "</table>\n",
              "</div>"
            ],
            "text/plain": [
              "LotShape       IR1       IR2       IR3       Reg\n",
              "Alley                                           \n",
              "Grvl      0.080000  0.000000  0.020000  0.900000\n",
              "Pave      0.170732  0.048780  0.000000  0.780488\n",
              "All       0.120879  0.021978  0.010989  0.846154"
            ]
          },
          "metadata": {
            "tags": []
          },
          "execution_count": 135
        }
      ]
    },
    {
      "cell_type": "code",
      "metadata": {
        "id": "S2cNJBemSbQ2",
        "outputId": "2ff553ef-d106-4630-b9a5-3647bead9843",
        "colab": {
          "base_uri": "https://localhost:8080/",
          "height": 0
        }
      },
      "source": [
        "results = pd.crosstab(iowa_df['Alley'], iowa_df['LotShape'])\r\n",
        "results.plot(kind='bar');"
      ],
      "execution_count": 136,
      "outputs": [
        {
          "output_type": "display_data",
          "data": {
            "image/png": "[encoded data removed]",
            "text/plain": [
              "<Figure size 432x288 with 1 Axes>"
            ]
          },
          "metadata": {
            "tags": [],
            "needs_background": "light"
          }
        }
      ]
    },
    {
      "cell_type": "code",
      "metadata": {
        "id": "zGM33t58SvML",
        "outputId": "08e5a5d8-3684-4e36-a5cb-a06420331c0d",
        "colab": {
          "base_uri": "https://localhost:8080/",
          "height": 0
        }
      },
      "source": [
        "results = pd.crosstab(iowa_df['LotShape'], iowa_df['Alley'])\r\n",
        "results.plot(kind='barh');"
      ],
      "execution_count": 137,
      "outputs": [
        {
          "output_type": "display_data",
          "data": {
            "image/png": "[encoded data removed]",
            "text/plain": [
              "<Figure size 432x288 with 1 Axes>"
            ]
          },
          "metadata": {
            "tags": [],
            "needs_background": "light"
          }
        }
      ]
    },
    {
      "cell_type": "markdown",
      "metadata": {
        "id": "XknlAGToTbOa"
      },
      "source": [
        "# LendingClub Dataset"
      ]
    },
    {
      "cell_type": "markdown",
      "metadata": {
        "id": "OY6HHWIAshpZ"
      },
      "source": [
        "## Load Data and Drop Null Values"
      ]
    },
    {
      "cell_type": "code",
      "metadata": {
        "id": "v9wxg-fBThEh",
        "outputId": "89611c68-c6c8-4b52-c57e-7dcc72213fdf",
        "colab": {
          "base_uri": "https://localhost:8080/"
        }
      },
      "source": [
        "! wget https://resources.lendingclub.com/LoanStats_2018Q4.csv.zip"
      ],
      "execution_count": 138,
      "outputs": [
        {
          "output_type": "stream",
          "text": [
            "--2021-01-02 21:55:06--  https://resources.lendingclub.com/LoanStats_2018Q4.csv.zip\n",
            "Resolving resources.lendingclub.com (resources.lendingclub.com)... 54.201.80.203, 44.241.68.111, 54.202.200.60\n",
            "Connecting to resources.lendingclub.com (resources.lendingclub.com)|54.201.80.203|:443... connected.\n",
            "HTTP request sent, awaiting response... 200 OK\n",
            "Length: unspecified [application/zip]\n",
            "Saving to: ‘LoanStats_2018Q4.csv.zip.1’\n",
            "\n",
            "LoanStats_2018Q4.cs     [              <=>   ]  22.39M  5.98MB/s    in 4.1s    \n",
            "\n",
            "2021-01-02 21:55:10 (5.49 MB/s) - ‘LoanStats_2018Q4.csv.zip.1’ saved [23477897]\n",
            "\n"
          ],
          "name": "stdout"
        }
      ]
    },
    {
      "cell_type": "code",
      "metadata": {
        "id": "hpH_5p_gTm6Y",
        "outputId": "3e90ace6-a4b7-4d8c-d95a-ea251583796f",
        "colab": {
          "base_uri": "https://localhost:8080/"
        }
      },
      "source": [
        "! unzip LoanStats_2018Q4.csv.zip"
      ],
      "execution_count": 139,
      "outputs": [
        {
          "output_type": "stream",
          "text": [
            "Archive:  LoanStats_2018Q4.csv.zip\n",
            "replace LoanStats_2018Q4.csv? [y]es, [n]o, [A]ll, [N]one, [r]ename: "
          ],
          "name": "stdout"
        }
      ]
    },
    {
      "cell_type": "code",
      "metadata": {
        "id": "WDMsMNgyTrZ6",
        "outputId": "3652effe-6634-4733-abc5-5a9b344b1292",
        "colab": {
          "base_uri": "https://localhost:8080/"
        }
      },
      "source": [
        "df = pd.read_csv('LoanStats_2018Q4.csv', header=1, skipfooter=2, engine='python')\r\n",
        "df.shape"
      ],
      "execution_count": 201,
      "outputs": [
        {
          "output_type": "execute_result",
          "data": {
            "text/plain": [
              "(128412, 144)"
            ]
          },
          "metadata": {
            "tags": []
          },
          "execution_count": 201
        }
      ]
    },
    {
      "cell_type": "code",
      "metadata": {
        "id": "Rpk84f8pUEu9",
        "outputId": "6f1a9ea6-541b-4eee-f48c-bf5ff4cfc611",
        "colab": {
          "base_uri": "https://localhost:8080/",
          "height": 338
        }
      },
      "source": [
        "df.head()"
      ],
      "execution_count": 202,
      "outputs": [
        {
          "output_type": "execute_result",
          "data": {
            "text/html": [
              "<div>\n",
              "<style scoped>\n",
              "    .dataframe tbody tr th:only-of-type {\n",
              "        vertical-align: middle;\n",
              "    }\n",
              "\n",
              "    .dataframe tbody tr th {\n",
              "        vertical-align: top;\n",
              "    }\n",
              "\n",
              "    .dataframe thead th {\n",
              "        text-align: right;\n",
              "    }\n",
              "</style>\n",
              "<table border=\"1\" class=\"dataframe\">\n",
              "  <thead>\n",
              "    <tr style=\"text-align: right;\">\n",
              "      <th></th>\n",
              "      <th>id</th>\n",
              "      <th>member_id</th>\n",
              "      <th>loan_amnt</th>\n",
              "      <th>funded_amnt</th>\n",
              "      <th>funded_amnt_inv</th>\n",
              "      <th>term</th>\n",
              "      <th>int_rate</th>\n",
              "      <th>installment</th>\n",
              "      <th>grade</th>\n",
              "      <th>sub_grade</th>\n",
              "      <th>emp_title</th>\n",
              "      <th>emp_length</th>\n",
              "      <th>home_ownership</th>\n",
              "      <th>annual_inc</th>\n",
              "      <th>verification_status</th>\n",
              "      <th>issue_d</th>\n",
              "      <th>loan_status</th>\n",
              "      <th>pymnt_plan</th>\n",
              "      <th>url</th>\n",
              "      <th>desc</th>\n",
              "      <th>purpose</th>\n",
              "      <th>title</th>\n",
              "      <th>zip_code</th>\n",
              "      <th>addr_state</th>\n",
              "      <th>dti</th>\n",
              "      <th>delinq_2yrs</th>\n",
              "      <th>earliest_cr_line</th>\n",
              "      <th>inq_last_6mths</th>\n",
              "      <th>mths_since_last_delinq</th>\n",
              "      <th>mths_since_last_record</th>\n",
              "      <th>open_acc</th>\n",
              "      <th>pub_rec</th>\n",
              "      <th>revol_bal</th>\n",
              "      <th>revol_util</th>\n",
              "      <th>total_acc</th>\n",
              "      <th>initial_list_status</th>\n",
              "      <th>out_prncp</th>\n",
              "      <th>out_prncp_inv</th>\n",
              "      <th>total_pymnt</th>\n",
              "      <th>total_pymnt_inv</th>\n",
              "      <th>...</th>\n",
              "      <th>percent_bc_gt_75</th>\n",
              "      <th>pub_rec_bankruptcies</th>\n",
              "      <th>tax_liens</th>\n",
              "      <th>tot_hi_cred_lim</th>\n",
              "      <th>total_bal_ex_mort</th>\n",
              "      <th>total_bc_limit</th>\n",
              "      <th>total_il_high_credit_limit</th>\n",
              "      <th>revol_bal_joint</th>\n",
              "      <th>sec_app_earliest_cr_line</th>\n",
              "      <th>sec_app_inq_last_6mths</th>\n",
              "      <th>sec_app_mort_acc</th>\n",
              "      <th>sec_app_open_acc</th>\n",
              "      <th>sec_app_revol_util</th>\n",
              "      <th>sec_app_open_act_il</th>\n",
              "      <th>sec_app_num_rev_accts</th>\n",
              "      <th>sec_app_chargeoff_within_12_mths</th>\n",
              "      <th>sec_app_collections_12_mths_ex_med</th>\n",
              "      <th>sec_app_mths_since_last_major_derog</th>\n",
              "      <th>hardship_flag</th>\n",
              "      <th>hardship_type</th>\n",
              "      <th>hardship_reason</th>\n",
              "      <th>hardship_status</th>\n",
              "      <th>deferral_term</th>\n",
              "      <th>hardship_amount</th>\n",
              "      <th>hardship_start_date</th>\n",
              "      <th>hardship_end_date</th>\n",
              "      <th>payment_plan_start_date</th>\n",
              "      <th>hardship_length</th>\n",
              "      <th>hardship_dpd</th>\n",
              "      <th>hardship_loan_status</th>\n",
              "      <th>orig_projected_additional_accrued_interest</th>\n",
              "      <th>hardship_payoff_balance_amount</th>\n",
              "      <th>hardship_last_payment_amount</th>\n",
              "      <th>debt_settlement_flag</th>\n",
              "      <th>debt_settlement_flag_date</th>\n",
              "      <th>settlement_status</th>\n",
              "      <th>settlement_date</th>\n",
              "      <th>settlement_amount</th>\n",
              "      <th>settlement_percentage</th>\n",
              "      <th>settlement_term</th>\n",
              "    </tr>\n",
              "  </thead>\n",
              "  <tbody>\n",
              "    <tr>\n",
              "      <th>0</th>\n",
              "      <td>NaN</td>\n",
              "      <td>NaN</td>\n",
              "      <td>3300</td>\n",
              "      <td>3300</td>\n",
              "      <td>3300.0</td>\n",
              "      <td>36 months</td>\n",
              "      <td>23.40%</td>\n",
              "      <td>128.44</td>\n",
              "      <td>E</td>\n",
              "      <td>E1</td>\n",
              "      <td>Program Manager</td>\n",
              "      <td>3 years</td>\n",
              "      <td>RENT</td>\n",
              "      <td>49700.0</td>\n",
              "      <td>Source Verified</td>\n",
              "      <td>Dec-2018</td>\n",
              "      <td>Current</td>\n",
              "      <td>n</td>\n",
              "      <td>NaN</td>\n",
              "      <td>NaN</td>\n",
              "      <td>vacation</td>\n",
              "      <td>Vacation</td>\n",
              "      <td>310xx</td>\n",
              "      <td>GA</td>\n",
              "      <td>14.32</td>\n",
              "      <td>0</td>\n",
              "      <td>Nov-2006</td>\n",
              "      <td>1</td>\n",
              "      <td>43.0</td>\n",
              "      <td>NaN</td>\n",
              "      <td>6</td>\n",
              "      <td>0</td>\n",
              "      <td>2358</td>\n",
              "      <td>26.5%</td>\n",
              "      <td>46</td>\n",
              "      <td>w</td>\n",
              "      <td>1361.55</td>\n",
              "      <td>1361.55</td>\n",
              "      <td>3076.12</td>\n",
              "      <td>3076.12</td>\n",
              "      <td>...</td>\n",
              "      <td>50.0</td>\n",
              "      <td>0</td>\n",
              "      <td>0</td>\n",
              "      <td>170985</td>\n",
              "      <td>166884</td>\n",
              "      <td>2800</td>\n",
              "      <td>162085</td>\n",
              "      <td>NaN</td>\n",
              "      <td>NaN</td>\n",
              "      <td>NaN</td>\n",
              "      <td>NaN</td>\n",
              "      <td>NaN</td>\n",
              "      <td>NaN</td>\n",
              "      <td>NaN</td>\n",
              "      <td>NaN</td>\n",
              "      <td>NaN</td>\n",
              "      <td>NaN</td>\n",
              "      <td>NaN</td>\n",
              "      <td>N</td>\n",
              "      <td>NaN</td>\n",
              "      <td>NaN</td>\n",
              "      <td>NaN</td>\n",
              "      <td>NaN</td>\n",
              "      <td>NaN</td>\n",
              "      <td>NaN</td>\n",
              "      <td>NaN</td>\n",
              "      <td>NaN</td>\n",
              "      <td>NaN</td>\n",
              "      <td>NaN</td>\n",
              "      <td>NaN</td>\n",
              "      <td>NaN</td>\n",
              "      <td>NaN</td>\n",
              "      <td>NaN</td>\n",
              "      <td>N</td>\n",
              "      <td>NaN</td>\n",
              "      <td>NaN</td>\n",
              "      <td>NaN</td>\n",
              "      <td>NaN</td>\n",
              "      <td>NaN</td>\n",
              "      <td>NaN</td>\n",
              "    </tr>\n",
              "    <tr>\n",
              "      <th>1</th>\n",
              "      <td>NaN</td>\n",
              "      <td>NaN</td>\n",
              "      <td>8500</td>\n",
              "      <td>8500</td>\n",
              "      <td>8500.0</td>\n",
              "      <td>36 months</td>\n",
              "      <td>16.14%</td>\n",
              "      <td>299.43</td>\n",
              "      <td>C</td>\n",
              "      <td>C4</td>\n",
              "      <td>Asst. Manager</td>\n",
              "      <td>8 years</td>\n",
              "      <td>MORTGAGE</td>\n",
              "      <td>80000.0</td>\n",
              "      <td>Not Verified</td>\n",
              "      <td>Dec-2018</td>\n",
              "      <td>Current</td>\n",
              "      <td>n</td>\n",
              "      <td>NaN</td>\n",
              "      <td>NaN</td>\n",
              "      <td>home_improvement</td>\n",
              "      <td>Home improvement</td>\n",
              "      <td>756xx</td>\n",
              "      <td>TX</td>\n",
              "      <td>16.59</td>\n",
              "      <td>0</td>\n",
              "      <td>Mar-2006</td>\n",
              "      <td>1</td>\n",
              "      <td>48.0</td>\n",
              "      <td>NaN</td>\n",
              "      <td>11</td>\n",
              "      <td>0</td>\n",
              "      <td>683</td>\n",
              "      <td>8.2%</td>\n",
              "      <td>15</td>\n",
              "      <td>w</td>\n",
              "      <td>3296.63</td>\n",
              "      <td>3296.63</td>\n",
              "      <td>7174.89</td>\n",
              "      <td>7174.89</td>\n",
              "      <td>...</td>\n",
              "      <td>0.0</td>\n",
              "      <td>0</td>\n",
              "      <td>0</td>\n",
              "      <td>59470</td>\n",
              "      <td>41877</td>\n",
              "      <td>6200</td>\n",
              "      <td>30998</td>\n",
              "      <td>NaN</td>\n",
              "      <td>NaN</td>\n",
              "      <td>NaN</td>\n",
              "      <td>NaN</td>\n",
              "      <td>NaN</td>\n",
              "      <td>NaN</td>\n",
              "      <td>NaN</td>\n",
              "      <td>NaN</td>\n",
              "      <td>NaN</td>\n",
              "      <td>NaN</td>\n",
              "      <td>NaN</td>\n",
              "      <td>N</td>\n",
              "      <td>NaN</td>\n",
              "      <td>NaN</td>\n",
              "      <td>NaN</td>\n",
              "      <td>NaN</td>\n",
              "      <td>NaN</td>\n",
              "      <td>NaN</td>\n",
              "      <td>NaN</td>\n",
              "      <td>NaN</td>\n",
              "      <td>NaN</td>\n",
              "      <td>NaN</td>\n",
              "      <td>NaN</td>\n",
              "      <td>NaN</td>\n",
              "      <td>NaN</td>\n",
              "      <td>NaN</td>\n",
              "      <td>N</td>\n",
              "      <td>NaN</td>\n",
              "      <td>NaN</td>\n",
              "      <td>NaN</td>\n",
              "      <td>NaN</td>\n",
              "      <td>NaN</td>\n",
              "      <td>NaN</td>\n",
              "    </tr>\n",
              "    <tr>\n",
              "      <th>2</th>\n",
              "      <td>NaN</td>\n",
              "      <td>NaN</td>\n",
              "      <td>2200</td>\n",
              "      <td>2200</td>\n",
              "      <td>2200.0</td>\n",
              "      <td>36 months</td>\n",
              "      <td>15.02%</td>\n",
              "      <td>76.29</td>\n",
              "      <td>C</td>\n",
              "      <td>C3</td>\n",
              "      <td>NaN</td>\n",
              "      <td>NaN</td>\n",
              "      <td>RENT</td>\n",
              "      <td>70000.0</td>\n",
              "      <td>Not Verified</td>\n",
              "      <td>Dec-2018</td>\n",
              "      <td>Current</td>\n",
              "      <td>n</td>\n",
              "      <td>NaN</td>\n",
              "      <td>NaN</td>\n",
              "      <td>debt_consolidation</td>\n",
              "      <td>Debt consolidation</td>\n",
              "      <td>871xx</td>\n",
              "      <td>NM</td>\n",
              "      <td>14.16</td>\n",
              "      <td>1</td>\n",
              "      <td>Feb-2006</td>\n",
              "      <td>0</td>\n",
              "      <td>7.0</td>\n",
              "      <td>NaN</td>\n",
              "      <td>7</td>\n",
              "      <td>0</td>\n",
              "      <td>1012</td>\n",
              "      <td>77.8%</td>\n",
              "      <td>12</td>\n",
              "      <td>w</td>\n",
              "      <td>0.00</td>\n",
              "      <td>0.00</td>\n",
              "      <td>2668.46</td>\n",
              "      <td>2668.46</td>\n",
              "      <td>...</td>\n",
              "      <td>100.0</td>\n",
              "      <td>0</td>\n",
              "      <td>0</td>\n",
              "      <td>228937</td>\n",
              "      <td>17314</td>\n",
              "      <td>1300</td>\n",
              "      <td>29137</td>\n",
              "      <td>NaN</td>\n",
              "      <td>NaN</td>\n",
              "      <td>NaN</td>\n",
              "      <td>NaN</td>\n",
              "      <td>NaN</td>\n",
              "      <td>NaN</td>\n",
              "      <td>NaN</td>\n",
              "      <td>NaN</td>\n",
              "      <td>NaN</td>\n",
              "      <td>NaN</td>\n",
              "      <td>NaN</td>\n",
              "      <td>N</td>\n",
              "      <td>NaN</td>\n",
              "      <td>NaN</td>\n",
              "      <td>NaN</td>\n",
              "      <td>NaN</td>\n",
              "      <td>NaN</td>\n",
              "      <td>NaN</td>\n",
              "      <td>NaN</td>\n",
              "      <td>NaN</td>\n",
              "      <td>NaN</td>\n",
              "      <td>NaN</td>\n",
              "      <td>NaN</td>\n",
              "      <td>NaN</td>\n",
              "      <td>NaN</td>\n",
              "      <td>NaN</td>\n",
              "      <td>N</td>\n",
              "      <td>NaN</td>\n",
              "      <td>NaN</td>\n",
              "      <td>NaN</td>\n",
              "      <td>NaN</td>\n",
              "      <td>NaN</td>\n",
              "      <td>NaN</td>\n",
              "    </tr>\n",
              "    <tr>\n",
              "      <th>3</th>\n",
              "      <td>NaN</td>\n",
              "      <td>NaN</td>\n",
              "      <td>5000</td>\n",
              "      <td>5000</td>\n",
              "      <td>5000.0</td>\n",
              "      <td>36 months</td>\n",
              "      <td>17.97%</td>\n",
              "      <td>180.69</td>\n",
              "      <td>D</td>\n",
              "      <td>D1</td>\n",
              "      <td>Legal Assistant III</td>\n",
              "      <td>10+ years</td>\n",
              "      <td>MORTGAGE</td>\n",
              "      <td>53580.0</td>\n",
              "      <td>Source Verified</td>\n",
              "      <td>Dec-2018</td>\n",
              "      <td>Current</td>\n",
              "      <td>n</td>\n",
              "      <td>NaN</td>\n",
              "      <td>NaN</td>\n",
              "      <td>debt_consolidation</td>\n",
              "      <td>Debt consolidation</td>\n",
              "      <td>327xx</td>\n",
              "      <td>FL</td>\n",
              "      <td>21.16</td>\n",
              "      <td>0</td>\n",
              "      <td>Aug-1998</td>\n",
              "      <td>1</td>\n",
              "      <td>32.0</td>\n",
              "      <td>NaN</td>\n",
              "      <td>8</td>\n",
              "      <td>0</td>\n",
              "      <td>8018</td>\n",
              "      <td>35.2%</td>\n",
              "      <td>38</td>\n",
              "      <td>w</td>\n",
              "      <td>1970.46</td>\n",
              "      <td>1970.46</td>\n",
              "      <td>4329.07</td>\n",
              "      <td>4329.07</td>\n",
              "      <td>...</td>\n",
              "      <td>60.0</td>\n",
              "      <td>0</td>\n",
              "      <td>0</td>\n",
              "      <td>57426</td>\n",
              "      <td>41882</td>\n",
              "      <td>21500</td>\n",
              "      <td>34626</td>\n",
              "      <td>NaN</td>\n",
              "      <td>NaN</td>\n",
              "      <td>NaN</td>\n",
              "      <td>NaN</td>\n",
              "      <td>NaN</td>\n",
              "      <td>NaN</td>\n",
              "      <td>NaN</td>\n",
              "      <td>NaN</td>\n",
              "      <td>NaN</td>\n",
              "      <td>NaN</td>\n",
              "      <td>NaN</td>\n",
              "      <td>N</td>\n",
              "      <td>NaN</td>\n",
              "      <td>NaN</td>\n",
              "      <td>NaN</td>\n",
              "      <td>NaN</td>\n",
              "      <td>NaN</td>\n",
              "      <td>NaN</td>\n",
              "      <td>NaN</td>\n",
              "      <td>NaN</td>\n",
              "      <td>NaN</td>\n",
              "      <td>NaN</td>\n",
              "      <td>NaN</td>\n",
              "      <td>NaN</td>\n",
              "      <td>NaN</td>\n",
              "      <td>NaN</td>\n",
              "      <td>N</td>\n",
              "      <td>NaN</td>\n",
              "      <td>NaN</td>\n",
              "      <td>NaN</td>\n",
              "      <td>NaN</td>\n",
              "      <td>NaN</td>\n",
              "      <td>NaN</td>\n",
              "    </tr>\n",
              "    <tr>\n",
              "      <th>4</th>\n",
              "      <td>NaN</td>\n",
              "      <td>NaN</td>\n",
              "      <td>17100</td>\n",
              "      <td>17100</td>\n",
              "      <td>17100.0</td>\n",
              "      <td>36 months</td>\n",
              "      <td>18.94%</td>\n",
              "      <td>626.30</td>\n",
              "      <td>D</td>\n",
              "      <td>D2</td>\n",
              "      <td>Receptionist</td>\n",
              "      <td>10+ years</td>\n",
              "      <td>RENT</td>\n",
              "      <td>38000.0</td>\n",
              "      <td>Verified</td>\n",
              "      <td>Dec-2018</td>\n",
              "      <td>Current</td>\n",
              "      <td>n</td>\n",
              "      <td>NaN</td>\n",
              "      <td>NaN</td>\n",
              "      <td>debt_consolidation</td>\n",
              "      <td>Debt consolidation</td>\n",
              "      <td>150xx</td>\n",
              "      <td>PA</td>\n",
              "      <td>38.09</td>\n",
              "      <td>0</td>\n",
              "      <td>Mar-1998</td>\n",
              "      <td>1</td>\n",
              "      <td>47.0</td>\n",
              "      <td>NaN</td>\n",
              "      <td>14</td>\n",
              "      <td>0</td>\n",
              "      <td>15323</td>\n",
              "      <td>53%</td>\n",
              "      <td>21</td>\n",
              "      <td>w</td>\n",
              "      <td>6795.94</td>\n",
              "      <td>6795.94</td>\n",
              "      <td>15004.21</td>\n",
              "      <td>15004.21</td>\n",
              "      <td>...</td>\n",
              "      <td>75.0</td>\n",
              "      <td>0</td>\n",
              "      <td>0</td>\n",
              "      <td>70954</td>\n",
              "      <td>43351</td>\n",
              "      <td>16600</td>\n",
              "      <td>41784</td>\n",
              "      <td>NaN</td>\n",
              "      <td>NaN</td>\n",
              "      <td>NaN</td>\n",
              "      <td>NaN</td>\n",
              "      <td>NaN</td>\n",
              "      <td>NaN</td>\n",
              "      <td>NaN</td>\n",
              "      <td>NaN</td>\n",
              "      <td>NaN</td>\n",
              "      <td>NaN</td>\n",
              "      <td>NaN</td>\n",
              "      <td>N</td>\n",
              "      <td>NaN</td>\n",
              "      <td>NaN</td>\n",
              "      <td>NaN</td>\n",
              "      <td>NaN</td>\n",
              "      <td>NaN</td>\n",
              "      <td>NaN</td>\n",
              "      <td>NaN</td>\n",
              "      <td>NaN</td>\n",
              "      <td>NaN</td>\n",
              "      <td>NaN</td>\n",
              "      <td>NaN</td>\n",
              "      <td>NaN</td>\n",
              "      <td>NaN</td>\n",
              "      <td>NaN</td>\n",
              "      <td>N</td>\n",
              "      <td>NaN</td>\n",
              "      <td>NaN</td>\n",
              "      <td>NaN</td>\n",
              "      <td>NaN</td>\n",
              "      <td>NaN</td>\n",
              "      <td>NaN</td>\n",
              "    </tr>\n",
              "  </tbody>\n",
              "</table>\n",
              "<p>5 rows × 144 columns</p>\n",
              "</div>"
            ],
            "text/plain": [
              "   id  member_id  ...  settlement_percentage  settlement_term\n",
              "0 NaN        NaN  ...                    NaN              NaN\n",
              "1 NaN        NaN  ...                    NaN              NaN\n",
              "2 NaN        NaN  ...                    NaN              NaN\n",
              "3 NaN        NaN  ...                    NaN              NaN\n",
              "4 NaN        NaN  ...                    NaN              NaN\n",
              "\n",
              "[5 rows x 144 columns]"
            ]
          },
          "metadata": {
            "tags": []
          },
          "execution_count": 202
        }
      ]
    },
    {
      "cell_type": "code",
      "metadata": {
        "id": "E1UeVp76qb1w",
        "outputId": "579e74d3-f580-4d8f-9f82-26b3dd5a29ef",
        "colab": {
          "base_uri": "https://localhost:8080/"
        }
      },
      "source": [
        "pd.set_option('display.max_rows', 200)\r\n",
        "df.isnull().sum().sort_values(ascending=True)"
      ],
      "execution_count": 203,
      "outputs": [
        {
          "output_type": "execute_result",
          "data": {
            "text/plain": [
              "inq_fi                                             0\n",
              "mo_sin_old_rev_tl_op                               0\n",
              "delinq_amnt                                        0\n",
              "chargeoff_within_12_mths                           0\n",
              "acc_open_past_24mths                               0\n",
              "inq_last_12m                                       0\n",
              "total_cu_tl                                        0\n",
              "total_rev_hi_lim                                   0\n",
              "open_rv_24m                                        0\n",
              "open_rv_12m                                        0\n",
              "total_bal_il                                       0\n",
              "open_il_24m                                        0\n",
              "open_il_12m                                        0\n",
              "open_act_il                                        0\n",
              "open_acc_6m                                        0\n",
              "tot_cur_bal                                        0\n",
              "tot_coll_amt                                       0\n",
              "acc_now_delinq                                     0\n",
              "application_type                                   0\n",
              "policy_code                                        0\n",
              "mo_sin_rcnt_rev_tl_op                              0\n",
              "collections_12_mths_ex_med                         0\n",
              "mo_sin_rcnt_tl                                     0\n",
              "num_accts_ever_120_pd                              0\n",
              "total_il_high_credit_limit                         0\n",
              "total_bc_limit                                     0\n",
              "total_bal_ex_mort                                  0\n",
              "tot_hi_cred_lim                                    0\n",
              "tax_liens                                          0\n",
              "pub_rec_bankruptcies                               0\n",
              "pct_tl_nvr_dlq                                     0\n",
              "num_tl_op_past_12m                                 0\n",
              "num_tl_90g_dpd_24m                                 0\n",
              "num_tl_30dpd                                       0\n",
              "num_sats                                           0\n",
              "num_rev_tl_bal_gt_0                                0\n",
              "num_rev_accts                                      0\n",
              "num_op_rev_tl                                      0\n",
              "num_il_tl                                          0\n",
              "num_bc_tl                                          0\n",
              "num_bc_sats                                        0\n",
              "num_actv_rev_tl                                    0\n",
              "num_actv_bc_tl                                     0\n",
              "mort_acc                                           0\n",
              "last_pymnt_amnt                                    0\n",
              "max_bal_bc                                         0\n",
              "collection_recovery_fee                            0\n",
              "earliest_cr_line                                   0\n",
              "delinq_2yrs                                        0\n",
              "addr_state                                         0\n",
              "zip_code                                           0\n",
              "title                                              0\n",
              "purpose                                            0\n",
              "pymnt_plan                                         0\n",
              "loan_status                                        0\n",
              "issue_d                                            0\n",
              "inq_last_6mths                                     0\n",
              "verification_status                                0\n",
              "home_ownership                                     0\n",
              "sub_grade                                          0\n",
              "grade                                              0\n",
              "installment                                        0\n",
              "int_rate                                           0\n",
              "term                                               0\n",
              "funded_amnt_inv                                    0\n",
              "funded_amnt                                        0\n",
              "loan_amnt                                          0\n",
              "annual_inc                                         0\n",
              "open_acc                                           0\n",
              "debt_settlement_flag                               0\n",
              "total_rec_int                                      0\n",
              "total_rec_prncp                                    0\n",
              "total_pymnt_inv                                    0\n",
              "total_pymnt                                        0\n",
              "pub_rec                                            0\n",
              "out_prncp_inv                                      0\n",
              "out_prncp                                          0\n",
              "initial_list_status                                0\n",
              "revol_bal                                          0\n",
              "total_rec_late_fee                                 0\n",
              "recoveries                                         0\n",
              "total_acc                                          0\n",
              "last_credit_pull_d                                 1\n",
              "avg_cur_bal                                       13\n",
              "all_util                                          37\n",
              "revol_util                                       156\n",
              "last_pymnt_d                                     159\n",
              "dti                                              237\n",
              "mths_since_recent_bc                            1591\n",
              "bc_open_to_buy                                  1691\n",
              "percent_bc_gt_75                                1692\n",
              "bc_util                                         1754\n",
              "num_tl_120dpd_2m                                2859\n",
              "mo_sin_old_il_acct                              4478\n",
              "mths_since_rcnt_il                              4478\n",
              "hardship_flag                                   6905\n",
              "emp_length                                     11704\n",
              "mths_since_recent_inq                          16047\n",
              "il_util                                        20274\n",
              "emp_title                                      20947\n",
              "next_pymnt_d                                   55321\n",
              "mths_since_last_delinq                         72196\n",
              "mths_since_recent_revol_delinq                 91630\n",
              "mths_since_last_major_derog                    99232\n",
              "mths_since_recent_bc_dlq                      103243\n",
              "hardship_amount                               107685\n",
              "hardship_payoff_balance_amount                107685\n",
              "hardship_last_payment_amount                  107685\n",
              "orig_projected_additional_accrued_interest    107695\n",
              "annual_inc_joint                              111630\n",
              "sec_app_collections_12_mths_ex_med            111630\n",
              "sec_app_chargeoff_within_12_mths              111630\n",
              "sec_app_num_rev_accts                         111630\n",
              "sec_app_open_act_il                           111630\n",
              "sec_app_open_acc                              111630\n",
              "dti_joint                                     111630\n",
              "sec_app_inq_last_6mths                        111630\n",
              "sec_app_earliest_cr_line                      111630\n",
              "revol_bal_joint                               111630\n",
              "sec_app_mort_acc                              111630\n",
              "sec_app_revol_util                            111888\n",
              "mths_since_last_record                        112962\n",
              "verification_status_joint                     113564\n",
              "hardship_length                               114591\n",
              "hardship_end_date                             114591\n",
              "hardship_start_date                           114591\n",
              "hardship_status                               114591\n",
              "deferral_term                                 114591\n",
              "hardship_reason                               114592\n",
              "hardship_dpd                                  114592\n",
              "payment_plan_start_date                       114604\n",
              "hardship_type                                 114605\n",
              "hardship_loan_status                          117789\n",
              "sec_app_mths_since_last_major_derog           123258\n",
              "debt_settlement_flag_date                     127475\n",
              "settlement_status                             127475\n",
              "settlement_amount                             127475\n",
              "settlement_date                               127475\n",
              "settlement_term                               127475\n",
              "settlement_percentage                         127475\n",
              "desc                                          128412\n",
              "url                                           128412\n",
              "member_id                                     128412\n",
              "id                                            128412\n",
              "dtype: int64"
            ]
          },
          "metadata": {
            "tags": []
          },
          "execution_count": 203
        }
      ]
    },
    {
      "cell_type": "code",
      "metadata": {
        "id": "8VeZWXjbqql_"
      },
      "source": [
        "df = df.drop(['url', 'member_id', 'desc', 'id'], axis=1)"
      ],
      "execution_count": 204,
      "outputs": []
    },
    {
      "cell_type": "markdown",
      "metadata": {
        "id": "U1ElEA5MsPrC"
      },
      "source": [
        "## String Cleaning"
      ]
    },
    {
      "cell_type": "code",
      "metadata": {
        "id": "bcUDP06NrGL2",
        "outputId": "159e93ff-0f63-443b-abd5-98d7b57a7094",
        "colab": {
          "base_uri": "https://localhost:8080/"
        }
      },
      "source": [
        "df['int_rate'].head(10)"
      ],
      "execution_count": 205,
      "outputs": [
        {
          "output_type": "execute_result",
          "data": {
            "text/plain": [
              "0     23.40%\n",
              "1     16.14%\n",
              "2     15.02%\n",
              "3     17.97%\n",
              "4     18.94%\n",
              "5     16.14%\n",
              "6     18.94%\n",
              "7     16.91%\n",
              "8     12.98%\n",
              "9     11.80%\n",
              "Name: int_rate, dtype: object"
            ]
          },
          "metadata": {
            "tags": []
          },
          "execution_count": 205
        }
      ]
    },
    {
      "cell_type": "code",
      "metadata": {
        "id": "GZV9l4SorMB5",
        "outputId": "145e796a-d727-4b1e-84a7-dd35333abebe",
        "colab": {
          "base_uri": "https://localhost:8080/",
          "height": 35
        }
      },
      "source": [
        "df['int_rate'][3]"
      ],
      "execution_count": 206,
      "outputs": [
        {
          "output_type": "execute_result",
          "data": {
            "application/vnd.google.colaboratory.intrinsic+json": {
              "type": "string"
            },
            "text/plain": [
              "' 17.97%'"
            ]
          },
          "metadata": {
            "tags": []
          },
          "execution_count": 206
        }
      ]
    },
    {
      "cell_type": "code",
      "metadata": {
        "id": "j6a9j58drXBa",
        "outputId": "a7365cf2-d9bc-4c70-d330-36df98e0443b",
        "colab": {
          "base_uri": "https://localhost:8080/"
        }
      },
      "source": [
        "type(df['int_rate'][3])"
      ],
      "execution_count": 207,
      "outputs": [
        {
          "output_type": "execute_result",
          "data": {
            "text/plain": [
              "str"
            ]
          },
          "metadata": {
            "tags": []
          },
          "execution_count": 207
        }
      ]
    },
    {
      "cell_type": "code",
      "metadata": {
        "id": "jkCKybImrdzG"
      },
      "source": [
        "int_rate = ' 12.98%'"
      ],
      "execution_count": 208,
      "outputs": []
    },
    {
      "cell_type": "code",
      "metadata": {
        "id": "GSR-OOdYrjbg",
        "outputId": "9c191f74-8754-46cf-ed2b-b4a5967364c6",
        "colab": {
          "base_uri": "https://localhost:8080/",
          "height": 35
        }
      },
      "source": [
        "# Strip leading space\r\n",
        "\r\n",
        "int_rate.strip()"
      ],
      "execution_count": 209,
      "outputs": [
        {
          "output_type": "execute_result",
          "data": {
            "application/vnd.google.colaboratory.intrinsic+json": {
              "type": "string"
            },
            "text/plain": [
              "'12.98%'"
            ]
          },
          "metadata": {
            "tags": []
          },
          "execution_count": 209
        }
      ]
    },
    {
      "cell_type": "code",
      "metadata": {
        "id": "hL9lKzCvrtgp",
        "outputId": "5c3ab0f7-efa1-4482-d4dc-17467be91537",
        "colab": {
          "base_uri": "https://localhost:8080/",
          "height": 35
        }
      },
      "source": [
        "# Remove both\r\n",
        "\r\n",
        "int_rate.strip().strip('%')"
      ],
      "execution_count": 210,
      "outputs": [
        {
          "output_type": "execute_result",
          "data": {
            "application/vnd.google.colaboratory.intrinsic+json": {
              "type": "string"
            },
            "text/plain": [
              "'12.98'"
            ]
          },
          "metadata": {
            "tags": []
          },
          "execution_count": 210
        }
      ]
    },
    {
      "cell_type": "code",
      "metadata": {
        "id": "Vs-tuLH8r3ED",
        "outputId": "07ecffd5-53ae-4a84-9470-2211c7998e28",
        "colab": {
          "base_uri": "https://localhost:8080/"
        }
      },
      "source": [
        "# Cast a string value to a float\r\n",
        "\r\n",
        "float('12.98')"
      ],
      "execution_count": 211,
      "outputs": [
        {
          "output_type": "execute_result",
          "data": {
            "text/plain": [
              "12.98"
            ]
          },
          "metadata": {
            "tags": []
          },
          "execution_count": 211
        }
      ]
    },
    {
      "cell_type": "code",
      "metadata": {
        "id": "D4qOxSBwr8uy",
        "outputId": "fb1fc429-8370-42dc-d22e-ab482d0ab542",
        "colab": {
          "base_uri": "https://localhost:8080/"
        }
      },
      "source": [
        "float(int_rate.strip().strip('%'))"
      ],
      "execution_count": 212,
      "outputs": [
        {
          "output_type": "execute_result",
          "data": {
            "text/plain": [
              "12.98"
            ]
          },
          "metadata": {
            "tags": []
          },
          "execution_count": 212
        }
      ]
    },
    {
      "cell_type": "code",
      "metadata": {
        "id": "KiIwnLoAsGSF",
        "outputId": "f1c3c25e-35cb-476e-ecc8-024dd212649e",
        "colab": {
          "base_uri": "https://localhost:8080/"
        }
      },
      "source": [
        "type(float(int_rate.strip().strip('%')))"
      ],
      "execution_count": 213,
      "outputs": [
        {
          "output_type": "execute_result",
          "data": {
            "text/plain": [
              "float"
            ]
          },
          "metadata": {
            "tags": []
          },
          "execution_count": 213
        }
      ]
    },
    {
      "cell_type": "markdown",
      "metadata": {
        "id": "7iMnDtlQsvg8"
      },
      "source": [
        "### String Cleaning Function"
      ]
    },
    {
      "cell_type": "code",
      "metadata": {
        "id": "FN7ZUkwUsyXR"
      },
      "source": [
        "def myfunc(cell_contents):\r\n",
        "  return float(cell_contents.strip().strip('%'))"
      ],
      "execution_count": 214,
      "outputs": []
    },
    {
      "cell_type": "code",
      "metadata": {
        "id": "43w18arts_h1",
        "outputId": "3cdacc52-3080-4d00-ce1b-0838174f9135",
        "colab": {
          "base_uri": "https://localhost:8080/"
        }
      },
      "source": [
        "myfunc(int_rate)"
      ],
      "execution_count": 215,
      "outputs": [
        {
          "output_type": "execute_result",
          "data": {
            "text/plain": [
              "12.98"
            ]
          },
          "metadata": {
            "tags": []
          },
          "execution_count": 215
        }
      ]
    },
    {
      "cell_type": "code",
      "metadata": {
        "id": "QtpPs3_DtZ7B",
        "outputId": "df8abc0a-c0bf-46c1-c851-7914c5490ab4",
        "colab": {
          "base_uri": "https://localhost:8080/"
        }
      },
      "source": [
        "type(myfunc(int_rate))"
      ],
      "execution_count": 216,
      "outputs": [
        {
          "output_type": "execute_result",
          "data": {
            "text/plain": [
              "float"
            ]
          },
          "metadata": {
            "tags": []
          },
          "execution_count": 216
        }
      ]
    },
    {
      "cell_type": "code",
      "metadata": {
        "id": "uGtbIHKktvEQ"
      },
      "source": [
        "# Apply the function to every cell in a column\r\n",
        "\r\n",
        "new_list = []"
      ],
      "execution_count": 217,
      "outputs": []
    },
    {
      "cell_type": "code",
      "metadata": {
        "id": "5RiTDcnite9a"
      },
      "source": [
        "#Fill list with desired values\r\n",
        "\r\n",
        "for cell in df['int_rate']:\r\n",
        "  new_list.append(myfunc(cell))"
      ],
      "execution_count": 218,
      "outputs": []
    },
    {
      "cell_type": "code",
      "metadata": {
        "id": "MkKQQaS6tteW",
        "outputId": "76fb6d0e-1742-45cc-bf57-efa3014a8891",
        "colab": {
          "base_uri": "https://localhost:8080/"
        }
      },
      "source": [
        "new_list[:10]"
      ],
      "execution_count": 219,
      "outputs": [
        {
          "output_type": "execute_result",
          "data": {
            "text/plain": [
              "[23.4, 16.14, 15.02, 17.97, 18.94, 16.14, 18.94, 16.91, 12.98, 11.8]"
            ]
          },
          "metadata": {
            "tags": []
          },
          "execution_count": 219
        }
      ]
    },
    {
      "cell_type": "code",
      "metadata": {
        "id": "lV6Jc61zt45h",
        "outputId": "95c96afc-855e-442d-dd50-085c15bfe184",
        "colab": {
          "base_uri": "https://localhost:8080/",
          "height": 338
        }
      },
      "source": [
        "# Convert list into a new column\r\n",
        "\r\n",
        "df['int_rate_cleaned'] = pd.Series(new_list)\r\n",
        "df.head()"
      ],
      "execution_count": 220,
      "outputs": [
        {
          "output_type": "execute_result",
          "data": {
            "text/html": [
              "<div>\n",
              "<style scoped>\n",
              "    .dataframe tbody tr th:only-of-type {\n",
              "        vertical-align: middle;\n",
              "    }\n",
              "\n",
              "    .dataframe tbody tr th {\n",
              "        vertical-align: top;\n",
              "    }\n",
              "\n",
              "    .dataframe thead th {\n",
              "        text-align: right;\n",
              "    }\n",
              "</style>\n",
              "<table border=\"1\" class=\"dataframe\">\n",
              "  <thead>\n",
              "    <tr style=\"text-align: right;\">\n",
              "      <th></th>\n",
              "      <th>loan_amnt</th>\n",
              "      <th>funded_amnt</th>\n",
              "      <th>funded_amnt_inv</th>\n",
              "      <th>term</th>\n",
              "      <th>int_rate</th>\n",
              "      <th>installment</th>\n",
              "      <th>grade</th>\n",
              "      <th>sub_grade</th>\n",
              "      <th>emp_title</th>\n",
              "      <th>emp_length</th>\n",
              "      <th>home_ownership</th>\n",
              "      <th>annual_inc</th>\n",
              "      <th>verification_status</th>\n",
              "      <th>issue_d</th>\n",
              "      <th>loan_status</th>\n",
              "      <th>pymnt_plan</th>\n",
              "      <th>purpose</th>\n",
              "      <th>title</th>\n",
              "      <th>zip_code</th>\n",
              "      <th>addr_state</th>\n",
              "      <th>dti</th>\n",
              "      <th>delinq_2yrs</th>\n",
              "      <th>earliest_cr_line</th>\n",
              "      <th>inq_last_6mths</th>\n",
              "      <th>mths_since_last_delinq</th>\n",
              "      <th>mths_since_last_record</th>\n",
              "      <th>open_acc</th>\n",
              "      <th>pub_rec</th>\n",
              "      <th>revol_bal</th>\n",
              "      <th>revol_util</th>\n",
              "      <th>total_acc</th>\n",
              "      <th>initial_list_status</th>\n",
              "      <th>out_prncp</th>\n",
              "      <th>out_prncp_inv</th>\n",
              "      <th>total_pymnt</th>\n",
              "      <th>total_pymnt_inv</th>\n",
              "      <th>total_rec_prncp</th>\n",
              "      <th>total_rec_int</th>\n",
              "      <th>total_rec_late_fee</th>\n",
              "      <th>recoveries</th>\n",
              "      <th>...</th>\n",
              "      <th>pub_rec_bankruptcies</th>\n",
              "      <th>tax_liens</th>\n",
              "      <th>tot_hi_cred_lim</th>\n",
              "      <th>total_bal_ex_mort</th>\n",
              "      <th>total_bc_limit</th>\n",
              "      <th>total_il_high_credit_limit</th>\n",
              "      <th>revol_bal_joint</th>\n",
              "      <th>sec_app_earliest_cr_line</th>\n",
              "      <th>sec_app_inq_last_6mths</th>\n",
              "      <th>sec_app_mort_acc</th>\n",
              "      <th>sec_app_open_acc</th>\n",
              "      <th>sec_app_revol_util</th>\n",
              "      <th>sec_app_open_act_il</th>\n",
              "      <th>sec_app_num_rev_accts</th>\n",
              "      <th>sec_app_chargeoff_within_12_mths</th>\n",
              "      <th>sec_app_collections_12_mths_ex_med</th>\n",
              "      <th>sec_app_mths_since_last_major_derog</th>\n",
              "      <th>hardship_flag</th>\n",
              "      <th>hardship_type</th>\n",
              "      <th>hardship_reason</th>\n",
              "      <th>hardship_status</th>\n",
              "      <th>deferral_term</th>\n",
              "      <th>hardship_amount</th>\n",
              "      <th>hardship_start_date</th>\n",
              "      <th>hardship_end_date</th>\n",
              "      <th>payment_plan_start_date</th>\n",
              "      <th>hardship_length</th>\n",
              "      <th>hardship_dpd</th>\n",
              "      <th>hardship_loan_status</th>\n",
              "      <th>orig_projected_additional_accrued_interest</th>\n",
              "      <th>hardship_payoff_balance_amount</th>\n",
              "      <th>hardship_last_payment_amount</th>\n",
              "      <th>debt_settlement_flag</th>\n",
              "      <th>debt_settlement_flag_date</th>\n",
              "      <th>settlement_status</th>\n",
              "      <th>settlement_date</th>\n",
              "      <th>settlement_amount</th>\n",
              "      <th>settlement_percentage</th>\n",
              "      <th>settlement_term</th>\n",
              "      <th>int_rate_cleaned</th>\n",
              "    </tr>\n",
              "  </thead>\n",
              "  <tbody>\n",
              "    <tr>\n",
              "      <th>0</th>\n",
              "      <td>3300</td>\n",
              "      <td>3300</td>\n",
              "      <td>3300.0</td>\n",
              "      <td>36 months</td>\n",
              "      <td>23.40%</td>\n",
              "      <td>128.44</td>\n",
              "      <td>E</td>\n",
              "      <td>E1</td>\n",
              "      <td>Program Manager</td>\n",
              "      <td>3 years</td>\n",
              "      <td>RENT</td>\n",
              "      <td>49700.0</td>\n",
              "      <td>Source Verified</td>\n",
              "      <td>Dec-2018</td>\n",
              "      <td>Current</td>\n",
              "      <td>n</td>\n",
              "      <td>vacation</td>\n",
              "      <td>Vacation</td>\n",
              "      <td>310xx</td>\n",
              "      <td>GA</td>\n",
              "      <td>14.32</td>\n",
              "      <td>0</td>\n",
              "      <td>Nov-2006</td>\n",
              "      <td>1</td>\n",
              "      <td>43.0</td>\n",
              "      <td>NaN</td>\n",
              "      <td>6</td>\n",
              "      <td>0</td>\n",
              "      <td>2358</td>\n",
              "      <td>26.5%</td>\n",
              "      <td>46</td>\n",
              "      <td>w</td>\n",
              "      <td>1361.55</td>\n",
              "      <td>1361.55</td>\n",
              "      <td>3076.12</td>\n",
              "      <td>3076.12</td>\n",
              "      <td>1938.45</td>\n",
              "      <td>1137.67</td>\n",
              "      <td>0.0</td>\n",
              "      <td>0.0</td>\n",
              "      <td>...</td>\n",
              "      <td>0</td>\n",
              "      <td>0</td>\n",
              "      <td>170985</td>\n",
              "      <td>166884</td>\n",
              "      <td>2800</td>\n",
              "      <td>162085</td>\n",
              "      <td>NaN</td>\n",
              "      <td>NaN</td>\n",
              "      <td>NaN</td>\n",
              "      <td>NaN</td>\n",
              "      <td>NaN</td>\n",
              "      <td>NaN</td>\n",
              "      <td>NaN</td>\n",
              "      <td>NaN</td>\n",
              "      <td>NaN</td>\n",
              "      <td>NaN</td>\n",
              "      <td>NaN</td>\n",
              "      <td>N</td>\n",
              "      <td>NaN</td>\n",
              "      <td>NaN</td>\n",
              "      <td>NaN</td>\n",
              "      <td>NaN</td>\n",
              "      <td>NaN</td>\n",
              "      <td>NaN</td>\n",
              "      <td>NaN</td>\n",
              "      <td>NaN</td>\n",
              "      <td>NaN</td>\n",
              "      <td>NaN</td>\n",
              "      <td>NaN</td>\n",
              "      <td>NaN</td>\n",
              "      <td>NaN</td>\n",
              "      <td>NaN</td>\n",
              "      <td>N</td>\n",
              "      <td>NaN</td>\n",
              "      <td>NaN</td>\n",
              "      <td>NaN</td>\n",
              "      <td>NaN</td>\n",
              "      <td>NaN</td>\n",
              "      <td>NaN</td>\n",
              "      <td>23.40</td>\n",
              "    </tr>\n",
              "    <tr>\n",
              "      <th>1</th>\n",
              "      <td>8500</td>\n",
              "      <td>8500</td>\n",
              "      <td>8500.0</td>\n",
              "      <td>36 months</td>\n",
              "      <td>16.14%</td>\n",
              "      <td>299.43</td>\n",
              "      <td>C</td>\n",
              "      <td>C4</td>\n",
              "      <td>Asst. Manager</td>\n",
              "      <td>8 years</td>\n",
              "      <td>MORTGAGE</td>\n",
              "      <td>80000.0</td>\n",
              "      <td>Not Verified</td>\n",
              "      <td>Dec-2018</td>\n",
              "      <td>Current</td>\n",
              "      <td>n</td>\n",
              "      <td>home_improvement</td>\n",
              "      <td>Home improvement</td>\n",
              "      <td>756xx</td>\n",
              "      <td>TX</td>\n",
              "      <td>16.59</td>\n",
              "      <td>0</td>\n",
              "      <td>Mar-2006</td>\n",
              "      <td>1</td>\n",
              "      <td>48.0</td>\n",
              "      <td>NaN</td>\n",
              "      <td>11</td>\n",
              "      <td>0</td>\n",
              "      <td>683</td>\n",
              "      <td>8.2%</td>\n",
              "      <td>15</td>\n",
              "      <td>w</td>\n",
              "      <td>3296.63</td>\n",
              "      <td>3296.63</td>\n",
              "      <td>7174.89</td>\n",
              "      <td>7174.89</td>\n",
              "      <td>5203.37</td>\n",
              "      <td>1971.52</td>\n",
              "      <td>0.0</td>\n",
              "      <td>0.0</td>\n",
              "      <td>...</td>\n",
              "      <td>0</td>\n",
              "      <td>0</td>\n",
              "      <td>59470</td>\n",
              "      <td>41877</td>\n",
              "      <td>6200</td>\n",
              "      <td>30998</td>\n",
              "      <td>NaN</td>\n",
              "      <td>NaN</td>\n",
              "      <td>NaN</td>\n",
              "      <td>NaN</td>\n",
              "      <td>NaN</td>\n",
              "      <td>NaN</td>\n",
              "      <td>NaN</td>\n",
              "      <td>NaN</td>\n",
              "      <td>NaN</td>\n",
              "      <td>NaN</td>\n",
              "      <td>NaN</td>\n",
              "      <td>N</td>\n",
              "      <td>NaN</td>\n",
              "      <td>NaN</td>\n",
              "      <td>NaN</td>\n",
              "      <td>NaN</td>\n",
              "      <td>NaN</td>\n",
              "      <td>NaN</td>\n",
              "      <td>NaN</td>\n",
              "      <td>NaN</td>\n",
              "      <td>NaN</td>\n",
              "      <td>NaN</td>\n",
              "      <td>NaN</td>\n",
              "      <td>NaN</td>\n",
              "      <td>NaN</td>\n",
              "      <td>NaN</td>\n",
              "      <td>N</td>\n",
              "      <td>NaN</td>\n",
              "      <td>NaN</td>\n",
              "      <td>NaN</td>\n",
              "      <td>NaN</td>\n",
              "      <td>NaN</td>\n",
              "      <td>NaN</td>\n",
              "      <td>16.14</td>\n",
              "    </tr>\n",
              "    <tr>\n",
              "      <th>2</th>\n",
              "      <td>2200</td>\n",
              "      <td>2200</td>\n",
              "      <td>2200.0</td>\n",
              "      <td>36 months</td>\n",
              "      <td>15.02%</td>\n",
              "      <td>76.29</td>\n",
              "      <td>C</td>\n",
              "      <td>C3</td>\n",
              "      <td>NaN</td>\n",
              "      <td>NaN</td>\n",
              "      <td>RENT</td>\n",
              "      <td>70000.0</td>\n",
              "      <td>Not Verified</td>\n",
              "      <td>Dec-2018</td>\n",
              "      <td>Current</td>\n",
              "      <td>n</td>\n",
              "      <td>debt_consolidation</td>\n",
              "      <td>Debt consolidation</td>\n",
              "      <td>871xx</td>\n",
              "      <td>NM</td>\n",
              "      <td>14.16</td>\n",
              "      <td>1</td>\n",
              "      <td>Feb-2006</td>\n",
              "      <td>0</td>\n",
              "      <td>7.0</td>\n",
              "      <td>NaN</td>\n",
              "      <td>7</td>\n",
              "      <td>0</td>\n",
              "      <td>1012</td>\n",
              "      <td>77.8%</td>\n",
              "      <td>12</td>\n",
              "      <td>w</td>\n",
              "      <td>0.00</td>\n",
              "      <td>0.00</td>\n",
              "      <td>2668.46</td>\n",
              "      <td>2668.46</td>\n",
              "      <td>2200.00</td>\n",
              "      <td>468.46</td>\n",
              "      <td>0.0</td>\n",
              "      <td>0.0</td>\n",
              "      <td>...</td>\n",
              "      <td>0</td>\n",
              "      <td>0</td>\n",
              "      <td>228937</td>\n",
              "      <td>17314</td>\n",
              "      <td>1300</td>\n",
              "      <td>29137</td>\n",
              "      <td>NaN</td>\n",
              "      <td>NaN</td>\n",
              "      <td>NaN</td>\n",
              "      <td>NaN</td>\n",
              "      <td>NaN</td>\n",
              "      <td>NaN</td>\n",
              "      <td>NaN</td>\n",
              "      <td>NaN</td>\n",
              "      <td>NaN</td>\n",
              "      <td>NaN</td>\n",
              "      <td>NaN</td>\n",
              "      <td>N</td>\n",
              "      <td>NaN</td>\n",
              "      <td>NaN</td>\n",
              "      <td>NaN</td>\n",
              "      <td>NaN</td>\n",
              "      <td>NaN</td>\n",
              "      <td>NaN</td>\n",
              "      <td>NaN</td>\n",
              "      <td>NaN</td>\n",
              "      <td>NaN</td>\n",
              "      <td>NaN</td>\n",
              "      <td>NaN</td>\n",
              "      <td>NaN</td>\n",
              "      <td>NaN</td>\n",
              "      <td>NaN</td>\n",
              "      <td>N</td>\n",
              "      <td>NaN</td>\n",
              "      <td>NaN</td>\n",
              "      <td>NaN</td>\n",
              "      <td>NaN</td>\n",
              "      <td>NaN</td>\n",
              "      <td>NaN</td>\n",
              "      <td>15.02</td>\n",
              "    </tr>\n",
              "    <tr>\n",
              "      <th>3</th>\n",
              "      <td>5000</td>\n",
              "      <td>5000</td>\n",
              "      <td>5000.0</td>\n",
              "      <td>36 months</td>\n",
              "      <td>17.97%</td>\n",
              "      <td>180.69</td>\n",
              "      <td>D</td>\n",
              "      <td>D1</td>\n",
              "      <td>Legal Assistant III</td>\n",
              "      <td>10+ years</td>\n",
              "      <td>MORTGAGE</td>\n",
              "      <td>53580.0</td>\n",
              "      <td>Source Verified</td>\n",
              "      <td>Dec-2018</td>\n",
              "      <td>Current</td>\n",
              "      <td>n</td>\n",
              "      <td>debt_consolidation</td>\n",
              "      <td>Debt consolidation</td>\n",
              "      <td>327xx</td>\n",
              "      <td>FL</td>\n",
              "      <td>21.16</td>\n",
              "      <td>0</td>\n",
              "      <td>Aug-1998</td>\n",
              "      <td>1</td>\n",
              "      <td>32.0</td>\n",
              "      <td>NaN</td>\n",
              "      <td>8</td>\n",
              "      <td>0</td>\n",
              "      <td>8018</td>\n",
              "      <td>35.2%</td>\n",
              "      <td>38</td>\n",
              "      <td>w</td>\n",
              "      <td>1970.46</td>\n",
              "      <td>1970.46</td>\n",
              "      <td>4329.07</td>\n",
              "      <td>4329.07</td>\n",
              "      <td>3029.54</td>\n",
              "      <td>1299.53</td>\n",
              "      <td>0.0</td>\n",
              "      <td>0.0</td>\n",
              "      <td>...</td>\n",
              "      <td>0</td>\n",
              "      <td>0</td>\n",
              "      <td>57426</td>\n",
              "      <td>41882</td>\n",
              "      <td>21500</td>\n",
              "      <td>34626</td>\n",
              "      <td>NaN</td>\n",
              "      <td>NaN</td>\n",
              "      <td>NaN</td>\n",
              "      <td>NaN</td>\n",
              "      <td>NaN</td>\n",
              "      <td>NaN</td>\n",
              "      <td>NaN</td>\n",
              "      <td>NaN</td>\n",
              "      <td>NaN</td>\n",
              "      <td>NaN</td>\n",
              "      <td>NaN</td>\n",
              "      <td>N</td>\n",
              "      <td>NaN</td>\n",
              "      <td>NaN</td>\n",
              "      <td>NaN</td>\n",
              "      <td>NaN</td>\n",
              "      <td>NaN</td>\n",
              "      <td>NaN</td>\n",
              "      <td>NaN</td>\n",
              "      <td>NaN</td>\n",
              "      <td>NaN</td>\n",
              "      <td>NaN</td>\n",
              "      <td>NaN</td>\n",
              "      <td>NaN</td>\n",
              "      <td>NaN</td>\n",
              "      <td>NaN</td>\n",
              "      <td>N</td>\n",
              "      <td>NaN</td>\n",
              "      <td>NaN</td>\n",
              "      <td>NaN</td>\n",
              "      <td>NaN</td>\n",
              "      <td>NaN</td>\n",
              "      <td>NaN</td>\n",
              "      <td>17.97</td>\n",
              "    </tr>\n",
              "    <tr>\n",
              "      <th>4</th>\n",
              "      <td>17100</td>\n",
              "      <td>17100</td>\n",
              "      <td>17100.0</td>\n",
              "      <td>36 months</td>\n",
              "      <td>18.94%</td>\n",
              "      <td>626.30</td>\n",
              "      <td>D</td>\n",
              "      <td>D2</td>\n",
              "      <td>Receptionist</td>\n",
              "      <td>10+ years</td>\n",
              "      <td>RENT</td>\n",
              "      <td>38000.0</td>\n",
              "      <td>Verified</td>\n",
              "      <td>Dec-2018</td>\n",
              "      <td>Current</td>\n",
              "      <td>n</td>\n",
              "      <td>debt_consolidation</td>\n",
              "      <td>Debt consolidation</td>\n",
              "      <td>150xx</td>\n",
              "      <td>PA</td>\n",
              "      <td>38.09</td>\n",
              "      <td>0</td>\n",
              "      <td>Mar-1998</td>\n",
              "      <td>1</td>\n",
              "      <td>47.0</td>\n",
              "      <td>NaN</td>\n",
              "      <td>14</td>\n",
              "      <td>0</td>\n",
              "      <td>15323</td>\n",
              "      <td>53%</td>\n",
              "      <td>21</td>\n",
              "      <td>w</td>\n",
              "      <td>6795.94</td>\n",
              "      <td>6795.94</td>\n",
              "      <td>15004.21</td>\n",
              "      <td>15004.21</td>\n",
              "      <td>10304.06</td>\n",
              "      <td>4700.15</td>\n",
              "      <td>0.0</td>\n",
              "      <td>0.0</td>\n",
              "      <td>...</td>\n",
              "      <td>0</td>\n",
              "      <td>0</td>\n",
              "      <td>70954</td>\n",
              "      <td>43351</td>\n",
              "      <td>16600</td>\n",
              "      <td>41784</td>\n",
              "      <td>NaN</td>\n",
              "      <td>NaN</td>\n",
              "      <td>NaN</td>\n",
              "      <td>NaN</td>\n",
              "      <td>NaN</td>\n",
              "      <td>NaN</td>\n",
              "      <td>NaN</td>\n",
              "      <td>NaN</td>\n",
              "      <td>NaN</td>\n",
              "      <td>NaN</td>\n",
              "      <td>NaN</td>\n",
              "      <td>N</td>\n",
              "      <td>NaN</td>\n",
              "      <td>NaN</td>\n",
              "      <td>NaN</td>\n",
              "      <td>NaN</td>\n",
              "      <td>NaN</td>\n",
              "      <td>NaN</td>\n",
              "      <td>NaN</td>\n",
              "      <td>NaN</td>\n",
              "      <td>NaN</td>\n",
              "      <td>NaN</td>\n",
              "      <td>NaN</td>\n",
              "      <td>NaN</td>\n",
              "      <td>NaN</td>\n",
              "      <td>NaN</td>\n",
              "      <td>N</td>\n",
              "      <td>NaN</td>\n",
              "      <td>NaN</td>\n",
              "      <td>NaN</td>\n",
              "      <td>NaN</td>\n",
              "      <td>NaN</td>\n",
              "      <td>NaN</td>\n",
              "      <td>18.94</td>\n",
              "    </tr>\n",
              "  </tbody>\n",
              "</table>\n",
              "<p>5 rows × 141 columns</p>\n",
              "</div>"
            ],
            "text/plain": [
              "   loan_amnt  funded_amnt  ...  settlement_term int_rate_cleaned\n",
              "0       3300         3300  ...              NaN            23.40\n",
              "1       8500         8500  ...              NaN            16.14\n",
              "2       2200         2200  ...              NaN            15.02\n",
              "3       5000         5000  ...              NaN            17.97\n",
              "4      17100        17100  ...              NaN            18.94\n",
              "\n",
              "[5 rows x 141 columns]"
            ]
          },
          "metadata": {
            "tags": []
          },
          "execution_count": 220
        }
      ]
    },
    {
      "cell_type": "code",
      "metadata": {
        "id": "rg2EIyBbuOGc",
        "outputId": "e68d64d3-a676-4bd8-f1b1-aa6752bec63f",
        "colab": {
          "base_uri": "https://localhost:8080/"
        }
      },
      "source": [
        "df.dtypes"
      ],
      "execution_count": 221,
      "outputs": [
        {
          "output_type": "execute_result",
          "data": {
            "text/plain": [
              "loan_amnt                                       int64\n",
              "funded_amnt                                     int64\n",
              "funded_amnt_inv                               float64\n",
              "term                                           object\n",
              "int_rate                                       object\n",
              "installment                                   float64\n",
              "grade                                          object\n",
              "sub_grade                                      object\n",
              "emp_title                                      object\n",
              "emp_length                                     object\n",
              "home_ownership                                 object\n",
              "annual_inc                                    float64\n",
              "verification_status                            object\n",
              "issue_d                                        object\n",
              "loan_status                                    object\n",
              "pymnt_plan                                     object\n",
              "purpose                                        object\n",
              "title                                          object\n",
              "zip_code                                       object\n",
              "addr_state                                     object\n",
              "dti                                           float64\n",
              "delinq_2yrs                                     int64\n",
              "earliest_cr_line                               object\n",
              "inq_last_6mths                                  int64\n",
              "mths_since_last_delinq                        float64\n",
              "mths_since_last_record                        float64\n",
              "open_acc                                        int64\n",
              "pub_rec                                         int64\n",
              "revol_bal                                       int64\n",
              "revol_util                                     object\n",
              "total_acc                                       int64\n",
              "initial_list_status                            object\n",
              "out_prncp                                     float64\n",
              "out_prncp_inv                                 float64\n",
              "total_pymnt                                   float64\n",
              "total_pymnt_inv                               float64\n",
              "total_rec_prncp                               float64\n",
              "total_rec_int                                 float64\n",
              "total_rec_late_fee                            float64\n",
              "recoveries                                    float64\n",
              "collection_recovery_fee                       float64\n",
              "last_pymnt_d                                   object\n",
              "last_pymnt_amnt                               float64\n",
              "next_pymnt_d                                   object\n",
              "last_credit_pull_d                             object\n",
              "collections_12_mths_ex_med                      int64\n",
              "mths_since_last_major_derog                   float64\n",
              "policy_code                                     int64\n",
              "application_type                               object\n",
              "annual_inc_joint                              float64\n",
              "dti_joint                                     float64\n",
              "verification_status_joint                      object\n",
              "acc_now_delinq                                  int64\n",
              "tot_coll_amt                                    int64\n",
              "tot_cur_bal                                     int64\n",
              "open_acc_6m                                     int64\n",
              "open_act_il                                     int64\n",
              "open_il_12m                                     int64\n",
              "open_il_24m                                     int64\n",
              "mths_since_rcnt_il                            float64\n",
              "total_bal_il                                    int64\n",
              "il_util                                       float64\n",
              "open_rv_12m                                     int64\n",
              "open_rv_24m                                     int64\n",
              "max_bal_bc                                      int64\n",
              "all_util                                      float64\n",
              "total_rev_hi_lim                                int64\n",
              "inq_fi                                          int64\n",
              "total_cu_tl                                     int64\n",
              "inq_last_12m                                    int64\n",
              "acc_open_past_24mths                            int64\n",
              "avg_cur_bal                                   float64\n",
              "bc_open_to_buy                                float64\n",
              "bc_util                                       float64\n",
              "chargeoff_within_12_mths                        int64\n",
              "delinq_amnt                                     int64\n",
              "mo_sin_old_il_acct                            float64\n",
              "mo_sin_old_rev_tl_op                            int64\n",
              "mo_sin_rcnt_rev_tl_op                           int64\n",
              "mo_sin_rcnt_tl                                  int64\n",
              "mort_acc                                        int64\n",
              "mths_since_recent_bc                          float64\n",
              "mths_since_recent_bc_dlq                      float64\n",
              "mths_since_recent_inq                         float64\n",
              "mths_since_recent_revol_delinq                float64\n",
              "num_accts_ever_120_pd                           int64\n",
              "num_actv_bc_tl                                  int64\n",
              "num_actv_rev_tl                                 int64\n",
              "num_bc_sats                                     int64\n",
              "num_bc_tl                                       int64\n",
              "num_il_tl                                       int64\n",
              "num_op_rev_tl                                   int64\n",
              "num_rev_accts                                   int64\n",
              "num_rev_tl_bal_gt_0                             int64\n",
              "num_sats                                        int64\n",
              "num_tl_120dpd_2m                              float64\n",
              "num_tl_30dpd                                    int64\n",
              "num_tl_90g_dpd_24m                              int64\n",
              "num_tl_op_past_12m                              int64\n",
              "pct_tl_nvr_dlq                                float64\n",
              "percent_bc_gt_75                              float64\n",
              "pub_rec_bankruptcies                            int64\n",
              "tax_liens                                       int64\n",
              "tot_hi_cred_lim                                 int64\n",
              "total_bal_ex_mort                               int64\n",
              "total_bc_limit                                  int64\n",
              "total_il_high_credit_limit                      int64\n",
              "revol_bal_joint                               float64\n",
              "sec_app_earliest_cr_line                       object\n",
              "sec_app_inq_last_6mths                        float64\n",
              "sec_app_mort_acc                              float64\n",
              "sec_app_open_acc                              float64\n",
              "sec_app_revol_util                            float64\n",
              "sec_app_open_act_il                           float64\n",
              "sec_app_num_rev_accts                         float64\n",
              "sec_app_chargeoff_within_12_mths              float64\n",
              "sec_app_collections_12_mths_ex_med            float64\n",
              "sec_app_mths_since_last_major_derog           float64\n",
              "hardship_flag                                  object\n",
              "hardship_type                                  object\n",
              "hardship_reason                                object\n",
              "hardship_status                                object\n",
              "deferral_term                                 float64\n",
              "hardship_amount                               float64\n",
              "hardship_start_date                            object\n",
              "hardship_end_date                              object\n",
              "payment_plan_start_date                        object\n",
              "hardship_length                               float64\n",
              "hardship_dpd                                  float64\n",
              "hardship_loan_status                           object\n",
              "orig_projected_additional_accrued_interest    float64\n",
              "hardship_payoff_balance_amount                float64\n",
              "hardship_last_payment_amount                  float64\n",
              "debt_settlement_flag                           object\n",
              "debt_settlement_flag_date                      object\n",
              "settlement_status                              object\n",
              "settlement_date                                object\n",
              "settlement_amount                             float64\n",
              "settlement_percentage                         float64\n",
              "settlement_term                               float64\n",
              "int_rate_cleaned                              float64\n",
              "dtype: object"
            ]
          },
          "metadata": {
            "tags": []
          },
          "execution_count": 221
        }
      ]
    },
    {
      "cell_type": "markdown",
      "metadata": {
        "id": "2yBIDstQutJD"
      },
      "source": [
        "### Utilizing the function we created with the .apply function"
      ]
    },
    {
      "cell_type": "code",
      "metadata": {
        "id": "M_x_Y53Fu11A",
        "outputId": "6f5d6c66-c099-48e2-a8bd-24e7d243f93e",
        "colab": {
          "base_uri": "https://localhost:8080/"
        }
      },
      "source": [
        "df['int_rate_cleaned2'] = df['int_rate'].apply(myfunc)\r\n",
        "df['int_rate_cleaned2'].head()"
      ],
      "execution_count": 222,
      "outputs": [
        {
          "output_type": "execute_result",
          "data": {
            "text/plain": [
              "0    23.40\n",
              "1    16.14\n",
              "2    15.02\n",
              "3    17.97\n",
              "4    18.94\n",
              "Name: int_rate_cleaned2, dtype: float64"
            ]
          },
          "metadata": {
            "tags": []
          },
          "execution_count": 222
        }
      ]
    },
    {
      "cell_type": "markdown",
      "metadata": {
        "id": "w6uFmJaJvw9y"
      },
      "source": [
        "### Cleaning the 'emp_title' column"
      ]
    },
    {
      "cell_type": "code",
      "metadata": {
        "id": "DBfBbcO0v8VV",
        "outputId": "927da1ac-c258-4d18-992f-bf74d0d1ff5d",
        "colab": {
          "base_uri": "https://localhost:8080/"
        }
      },
      "source": [
        "df['emp_title'].value_counts(dropna=False)[:20]"
      ],
      "execution_count": 223,
      "outputs": [
        {
          "output_type": "execute_result",
          "data": {
            "text/plain": [
              "NaN                   20947\n",
              "Teacher                2090\n",
              "Manager                1773\n",
              "Registered Nurse        952\n",
              "Driver                  924\n",
              "RN                      726\n",
              "Supervisor              697\n",
              "Sales                   580\n",
              "Project Manager         526\n",
              "General Manager         523\n",
              "Office Manager          521\n",
              "Owner                   420\n",
              "Director                402\n",
              "Operations Manager      387\n",
              "Truck Driver            387\n",
              "Nurse                   326\n",
              "Engineer                325\n",
              "Sales Manager           304\n",
              "manager                 301\n",
              "Supervisor              270\n",
              "Name: emp_title, dtype: int64"
            ]
          },
          "metadata": {
            "tags": []
          },
          "execution_count": 223
        }
      ]
    },
    {
      "cell_type": "code",
      "metadata": {
        "id": "XEwjIZ4vwFJ5",
        "outputId": "94513628-834a-46a8-c746-43fef1dd15f9",
        "colab": {
          "base_uri": "https://localhost:8080/"
        }
      },
      "source": [
        "# Number of different employment titles\r\n",
        "\r\n",
        "len(df['emp_title'].unique())"
      ],
      "execution_count": 224,
      "outputs": [
        {
          "output_type": "execute_result",
          "data": {
            "text/plain": [
              "43893"
            ]
          },
          "metadata": {
            "tags": []
          },
          "execution_count": 224
        }
      ]
    },
    {
      "cell_type": "code",
      "metadata": {
        "id": "lj4L6EVjwc0s",
        "outputId": "3b96bd53-ff35-4630-96f9-681d61cca35e",
        "colab": {
          "base_uri": "https://localhost:8080/"
        }
      },
      "source": [
        "# Number of nulls in the column\r\n",
        "\r\n",
        "df['emp_title'].isnull().sum()"
      ],
      "execution_count": 225,
      "outputs": [
        {
          "output_type": "execute_result",
          "data": {
            "text/plain": [
              "20947"
            ]
          },
          "metadata": {
            "tags": []
          },
          "execution_count": 225
        }
      ]
    },
    {
      "cell_type": "code",
      "metadata": {
        "id": "mRlAe6fmwoXg"
      },
      "source": [
        "# Create some examples that represent the cases that we want to clean up\r\n",
        "\r\n",
        "examples = ['owner', 'Supervisor', ' Project Manager', np.nan]"
      ],
      "execution_count": 226,
      "outputs": []
    },
    {
      "cell_type": "code",
      "metadata": {
        "id": "RdUzxY8TwqzI"
      },
      "source": [
        "# Function to clean up and make this column uniform\r\n",
        "\r\n",
        "def clean_title(job_title):\r\n",
        "  if isinstance(job_title, str):\r\n",
        "    return job_title.title().strip()\r\n",
        "  else:\r\n",
        "    return \"Unknown\""
      ],
      "execution_count": 227,
      "outputs": []
    },
    {
      "cell_type": "code",
      "metadata": {
        "id": "4v5mtzxoxIJ_"
      },
      "source": [
        "empty_list = []\r\n",
        "\r\n",
        "for title in examples:\r\n",
        "  empty_list.append(clean_title(title))"
      ],
      "execution_count": 228,
      "outputs": []
    },
    {
      "cell_type": "code",
      "metadata": {
        "id": "W3AgzeYR-4LX",
        "outputId": "64b003dd-ea25-48fc-dba0-f69d295a03dc",
        "colab": {
          "base_uri": "https://localhost:8080/"
        }
      },
      "source": [
        "empty_list"
      ],
      "execution_count": 229,
      "outputs": [
        {
          "output_type": "execute_result",
          "data": {
            "text/plain": [
              "['Owner', 'Supervisor', 'Project Manager', 'Unknown']"
            ]
          },
          "metadata": {
            "tags": []
          },
          "execution_count": 229
        }
      ]
    },
    {
      "cell_type": "code",
      "metadata": {
        "id": "f6PC_fsq_Ajb",
        "outputId": "067f8644-4849-4c03-ab34-d3165b886831",
        "colab": {
          "base_uri": "https://localhost:8080/"
        }
      },
      "source": [
        "# list comprehensions can combine function calls and for loops over lists\r\n",
        "# into one succinct and fairly readable single line of code.\r\n",
        "\r\n",
        "# This didn't work for me ****\r\n",
        "\r\n",
        "[clean_title(title) for title in examples]"
      ],
      "execution_count": 230,
      "outputs": [
        {
          "output_type": "execute_result",
          "data": {
            "text/plain": [
              "['Owner', 'Supervisor', 'Project Manager', 'Unknown']"
            ]
          },
          "metadata": {
            "tags": []
          },
          "execution_count": 230
        }
      ]
    },
    {
      "cell_type": "code",
      "metadata": {
        "id": "vUC9p3G9_r0_",
        "outputId": "156ffa72-fbfd-4ab3-9a7e-16b349224eaf",
        "colab": {
          "base_uri": "https://localhost:8080/",
          "height": 0
        }
      },
      "source": [
        "df['emp_title'] = df['emp_title'].apply(clean_title)\r\n",
        "df.head()"
      ],
      "execution_count": 231,
      "outputs": [
        {
          "output_type": "execute_result",
          "data": {
            "text/html": [
              "<div>\n",
              "<style scoped>\n",
              "    .dataframe tbody tr th:only-of-type {\n",
              "        vertical-align: middle;\n",
              "    }\n",
              "\n",
              "    .dataframe tbody tr th {\n",
              "        vertical-align: top;\n",
              "    }\n",
              "\n",
              "    .dataframe thead th {\n",
              "        text-align: right;\n",
              "    }\n",
              "</style>\n",
              "<table border=\"1\" class=\"dataframe\">\n",
              "  <thead>\n",
              "    <tr style=\"text-align: right;\">\n",
              "      <th></th>\n",
              "      <th>loan_amnt</th>\n",
              "      <th>funded_amnt</th>\n",
              "      <th>funded_amnt_inv</th>\n",
              "      <th>term</th>\n",
              "      <th>int_rate</th>\n",
              "      <th>installment</th>\n",
              "      <th>grade</th>\n",
              "      <th>sub_grade</th>\n",
              "      <th>emp_title</th>\n",
              "      <th>emp_length</th>\n",
              "      <th>home_ownership</th>\n",
              "      <th>annual_inc</th>\n",
              "      <th>verification_status</th>\n",
              "      <th>issue_d</th>\n",
              "      <th>loan_status</th>\n",
              "      <th>pymnt_plan</th>\n",
              "      <th>purpose</th>\n",
              "      <th>title</th>\n",
              "      <th>zip_code</th>\n",
              "      <th>addr_state</th>\n",
              "      <th>dti</th>\n",
              "      <th>delinq_2yrs</th>\n",
              "      <th>earliest_cr_line</th>\n",
              "      <th>inq_last_6mths</th>\n",
              "      <th>mths_since_last_delinq</th>\n",
              "      <th>mths_since_last_record</th>\n",
              "      <th>open_acc</th>\n",
              "      <th>pub_rec</th>\n",
              "      <th>revol_bal</th>\n",
              "      <th>revol_util</th>\n",
              "      <th>total_acc</th>\n",
              "      <th>initial_list_status</th>\n",
              "      <th>out_prncp</th>\n",
              "      <th>out_prncp_inv</th>\n",
              "      <th>total_pymnt</th>\n",
              "      <th>total_pymnt_inv</th>\n",
              "      <th>total_rec_prncp</th>\n",
              "      <th>total_rec_int</th>\n",
              "      <th>total_rec_late_fee</th>\n",
              "      <th>recoveries</th>\n",
              "      <th>...</th>\n",
              "      <th>tax_liens</th>\n",
              "      <th>tot_hi_cred_lim</th>\n",
              "      <th>total_bal_ex_mort</th>\n",
              "      <th>total_bc_limit</th>\n",
              "      <th>total_il_high_credit_limit</th>\n",
              "      <th>revol_bal_joint</th>\n",
              "      <th>sec_app_earliest_cr_line</th>\n",
              "      <th>sec_app_inq_last_6mths</th>\n",
              "      <th>sec_app_mort_acc</th>\n",
              "      <th>sec_app_open_acc</th>\n",
              "      <th>sec_app_revol_util</th>\n",
              "      <th>sec_app_open_act_il</th>\n",
              "      <th>sec_app_num_rev_accts</th>\n",
              "      <th>sec_app_chargeoff_within_12_mths</th>\n",
              "      <th>sec_app_collections_12_mths_ex_med</th>\n",
              "      <th>sec_app_mths_since_last_major_derog</th>\n",
              "      <th>hardship_flag</th>\n",
              "      <th>hardship_type</th>\n",
              "      <th>hardship_reason</th>\n",
              "      <th>hardship_status</th>\n",
              "      <th>deferral_term</th>\n",
              "      <th>hardship_amount</th>\n",
              "      <th>hardship_start_date</th>\n",
              "      <th>hardship_end_date</th>\n",
              "      <th>payment_plan_start_date</th>\n",
              "      <th>hardship_length</th>\n",
              "      <th>hardship_dpd</th>\n",
              "      <th>hardship_loan_status</th>\n",
              "      <th>orig_projected_additional_accrued_interest</th>\n",
              "      <th>hardship_payoff_balance_amount</th>\n",
              "      <th>hardship_last_payment_amount</th>\n",
              "      <th>debt_settlement_flag</th>\n",
              "      <th>debt_settlement_flag_date</th>\n",
              "      <th>settlement_status</th>\n",
              "      <th>settlement_date</th>\n",
              "      <th>settlement_amount</th>\n",
              "      <th>settlement_percentage</th>\n",
              "      <th>settlement_term</th>\n",
              "      <th>int_rate_cleaned</th>\n",
              "      <th>int_rate_cleaned2</th>\n",
              "    </tr>\n",
              "  </thead>\n",
              "  <tbody>\n",
              "    <tr>\n",
              "      <th>0</th>\n",
              "      <td>3300</td>\n",
              "      <td>3300</td>\n",
              "      <td>3300.0</td>\n",
              "      <td>36 months</td>\n",
              "      <td>23.40%</td>\n",
              "      <td>128.44</td>\n",
              "      <td>E</td>\n",
              "      <td>E1</td>\n",
              "      <td>Program Manager</td>\n",
              "      <td>3 years</td>\n",
              "      <td>RENT</td>\n",
              "      <td>49700.0</td>\n",
              "      <td>Source Verified</td>\n",
              "      <td>Dec-2018</td>\n",
              "      <td>Current</td>\n",
              "      <td>n</td>\n",
              "      <td>vacation</td>\n",
              "      <td>Vacation</td>\n",
              "      <td>310xx</td>\n",
              "      <td>GA</td>\n",
              "      <td>14.32</td>\n",
              "      <td>0</td>\n",
              "      <td>Nov-2006</td>\n",
              "      <td>1</td>\n",
              "      <td>43.0</td>\n",
              "      <td>NaN</td>\n",
              "      <td>6</td>\n",
              "      <td>0</td>\n",
              "      <td>2358</td>\n",
              "      <td>26.5%</td>\n",
              "      <td>46</td>\n",
              "      <td>w</td>\n",
              "      <td>1361.55</td>\n",
              "      <td>1361.55</td>\n",
              "      <td>3076.12</td>\n",
              "      <td>3076.12</td>\n",
              "      <td>1938.45</td>\n",
              "      <td>1137.67</td>\n",
              "      <td>0.0</td>\n",
              "      <td>0.0</td>\n",
              "      <td>...</td>\n",
              "      <td>0</td>\n",
              "      <td>170985</td>\n",
              "      <td>166884</td>\n",
              "      <td>2800</td>\n",
              "      <td>162085</td>\n",
              "      <td>NaN</td>\n",
              "      <td>NaN</td>\n",
              "      <td>NaN</td>\n",
              "      <td>NaN</td>\n",
              "      <td>NaN</td>\n",
              "      <td>NaN</td>\n",
              "      <td>NaN</td>\n",
              "      <td>NaN</td>\n",
              "      <td>NaN</td>\n",
              "      <td>NaN</td>\n",
              "      <td>NaN</td>\n",
              "      <td>N</td>\n",
              "      <td>NaN</td>\n",
              "      <td>NaN</td>\n",
              "      <td>NaN</td>\n",
              "      <td>NaN</td>\n",
              "      <td>NaN</td>\n",
              "      <td>NaN</td>\n",
              "      <td>NaN</td>\n",
              "      <td>NaN</td>\n",
              "      <td>NaN</td>\n",
              "      <td>NaN</td>\n",
              "      <td>NaN</td>\n",
              "      <td>NaN</td>\n",
              "      <td>NaN</td>\n",
              "      <td>NaN</td>\n",
              "      <td>N</td>\n",
              "      <td>NaN</td>\n",
              "      <td>NaN</td>\n",
              "      <td>NaN</td>\n",
              "      <td>NaN</td>\n",
              "      <td>NaN</td>\n",
              "      <td>NaN</td>\n",
              "      <td>23.40</td>\n",
              "      <td>23.40</td>\n",
              "    </tr>\n",
              "    <tr>\n",
              "      <th>1</th>\n",
              "      <td>8500</td>\n",
              "      <td>8500</td>\n",
              "      <td>8500.0</td>\n",
              "      <td>36 months</td>\n",
              "      <td>16.14%</td>\n",
              "      <td>299.43</td>\n",
              "      <td>C</td>\n",
              "      <td>C4</td>\n",
              "      <td>Asst. Manager</td>\n",
              "      <td>8 years</td>\n",
              "      <td>MORTGAGE</td>\n",
              "      <td>80000.0</td>\n",
              "      <td>Not Verified</td>\n",
              "      <td>Dec-2018</td>\n",
              "      <td>Current</td>\n",
              "      <td>n</td>\n",
              "      <td>home_improvement</td>\n",
              "      <td>Home improvement</td>\n",
              "      <td>756xx</td>\n",
              "      <td>TX</td>\n",
              "      <td>16.59</td>\n",
              "      <td>0</td>\n",
              "      <td>Mar-2006</td>\n",
              "      <td>1</td>\n",
              "      <td>48.0</td>\n",
              "      <td>NaN</td>\n",
              "      <td>11</td>\n",
              "      <td>0</td>\n",
              "      <td>683</td>\n",
              "      <td>8.2%</td>\n",
              "      <td>15</td>\n",
              "      <td>w</td>\n",
              "      <td>3296.63</td>\n",
              "      <td>3296.63</td>\n",
              "      <td>7174.89</td>\n",
              "      <td>7174.89</td>\n",
              "      <td>5203.37</td>\n",
              "      <td>1971.52</td>\n",
              "      <td>0.0</td>\n",
              "      <td>0.0</td>\n",
              "      <td>...</td>\n",
              "      <td>0</td>\n",
              "      <td>59470</td>\n",
              "      <td>41877</td>\n",
              "      <td>6200</td>\n",
              "      <td>30998</td>\n",
              "      <td>NaN</td>\n",
              "      <td>NaN</td>\n",
              "      <td>NaN</td>\n",
              "      <td>NaN</td>\n",
              "      <td>NaN</td>\n",
              "      <td>NaN</td>\n",
              "      <td>NaN</td>\n",
              "      <td>NaN</td>\n",
              "      <td>NaN</td>\n",
              "      <td>NaN</td>\n",
              "      <td>NaN</td>\n",
              "      <td>N</td>\n",
              "      <td>NaN</td>\n",
              "      <td>NaN</td>\n",
              "      <td>NaN</td>\n",
              "      <td>NaN</td>\n",
              "      <td>NaN</td>\n",
              "      <td>NaN</td>\n",
              "      <td>NaN</td>\n",
              "      <td>NaN</td>\n",
              "      <td>NaN</td>\n",
              "      <td>NaN</td>\n",
              "      <td>NaN</td>\n",
              "      <td>NaN</td>\n",
              "      <td>NaN</td>\n",
              "      <td>NaN</td>\n",
              "      <td>N</td>\n",
              "      <td>NaN</td>\n",
              "      <td>NaN</td>\n",
              "      <td>NaN</td>\n",
              "      <td>NaN</td>\n",
              "      <td>NaN</td>\n",
              "      <td>NaN</td>\n",
              "      <td>16.14</td>\n",
              "      <td>16.14</td>\n",
              "    </tr>\n",
              "    <tr>\n",
              "      <th>2</th>\n",
              "      <td>2200</td>\n",
              "      <td>2200</td>\n",
              "      <td>2200.0</td>\n",
              "      <td>36 months</td>\n",
              "      <td>15.02%</td>\n",
              "      <td>76.29</td>\n",
              "      <td>C</td>\n",
              "      <td>C3</td>\n",
              "      <td>Unknown</td>\n",
              "      <td>NaN</td>\n",
              "      <td>RENT</td>\n",
              "      <td>70000.0</td>\n",
              "      <td>Not Verified</td>\n",
              "      <td>Dec-2018</td>\n",
              "      <td>Current</td>\n",
              "      <td>n</td>\n",
              "      <td>debt_consolidation</td>\n",
              "      <td>Debt consolidation</td>\n",
              "      <td>871xx</td>\n",
              "      <td>NM</td>\n",
              "      <td>14.16</td>\n",
              "      <td>1</td>\n",
              "      <td>Feb-2006</td>\n",
              "      <td>0</td>\n",
              "      <td>7.0</td>\n",
              "      <td>NaN</td>\n",
              "      <td>7</td>\n",
              "      <td>0</td>\n",
              "      <td>1012</td>\n",
              "      <td>77.8%</td>\n",
              "      <td>12</td>\n",
              "      <td>w</td>\n",
              "      <td>0.00</td>\n",
              "      <td>0.00</td>\n",
              "      <td>2668.46</td>\n",
              "      <td>2668.46</td>\n",
              "      <td>2200.00</td>\n",
              "      <td>468.46</td>\n",
              "      <td>0.0</td>\n",
              "      <td>0.0</td>\n",
              "      <td>...</td>\n",
              "      <td>0</td>\n",
              "      <td>228937</td>\n",
              "      <td>17314</td>\n",
              "      <td>1300</td>\n",
              "      <td>29137</td>\n",
              "      <td>NaN</td>\n",
              "      <td>NaN</td>\n",
              "      <td>NaN</td>\n",
              "      <td>NaN</td>\n",
              "      <td>NaN</td>\n",
              "      <td>NaN</td>\n",
              "      <td>NaN</td>\n",
              "      <td>NaN</td>\n",
              "      <td>NaN</td>\n",
              "      <td>NaN</td>\n",
              "      <td>NaN</td>\n",
              "      <td>N</td>\n",
              "      <td>NaN</td>\n",
              "      <td>NaN</td>\n",
              "      <td>NaN</td>\n",
              "      <td>NaN</td>\n",
              "      <td>NaN</td>\n",
              "      <td>NaN</td>\n",
              "      <td>NaN</td>\n",
              "      <td>NaN</td>\n",
              "      <td>NaN</td>\n",
              "      <td>NaN</td>\n",
              "      <td>NaN</td>\n",
              "      <td>NaN</td>\n",
              "      <td>NaN</td>\n",
              "      <td>NaN</td>\n",
              "      <td>N</td>\n",
              "      <td>NaN</td>\n",
              "      <td>NaN</td>\n",
              "      <td>NaN</td>\n",
              "      <td>NaN</td>\n",
              "      <td>NaN</td>\n",
              "      <td>NaN</td>\n",
              "      <td>15.02</td>\n",
              "      <td>15.02</td>\n",
              "    </tr>\n",
              "    <tr>\n",
              "      <th>3</th>\n",
              "      <td>5000</td>\n",
              "      <td>5000</td>\n",
              "      <td>5000.0</td>\n",
              "      <td>36 months</td>\n",
              "      <td>17.97%</td>\n",
              "      <td>180.69</td>\n",
              "      <td>D</td>\n",
              "      <td>D1</td>\n",
              "      <td>Legal Assistant Iii</td>\n",
              "      <td>10+ years</td>\n",
              "      <td>MORTGAGE</td>\n",
              "      <td>53580.0</td>\n",
              "      <td>Source Verified</td>\n",
              "      <td>Dec-2018</td>\n",
              "      <td>Current</td>\n",
              "      <td>n</td>\n",
              "      <td>debt_consolidation</td>\n",
              "      <td>Debt consolidation</td>\n",
              "      <td>327xx</td>\n",
              "      <td>FL</td>\n",
              "      <td>21.16</td>\n",
              "      <td>0</td>\n",
              "      <td>Aug-1998</td>\n",
              "      <td>1</td>\n",
              "      <td>32.0</td>\n",
              "      <td>NaN</td>\n",
              "      <td>8</td>\n",
              "      <td>0</td>\n",
              "      <td>8018</td>\n",
              "      <td>35.2%</td>\n",
              "      <td>38</td>\n",
              "      <td>w</td>\n",
              "      <td>1970.46</td>\n",
              "      <td>1970.46</td>\n",
              "      <td>4329.07</td>\n",
              "      <td>4329.07</td>\n",
              "      <td>3029.54</td>\n",
              "      <td>1299.53</td>\n",
              "      <td>0.0</td>\n",
              "      <td>0.0</td>\n",
              "      <td>...</td>\n",
              "      <td>0</td>\n",
              "      <td>57426</td>\n",
              "      <td>41882</td>\n",
              "      <td>21500</td>\n",
              "      <td>34626</td>\n",
              "      <td>NaN</td>\n",
              "      <td>NaN</td>\n",
              "      <td>NaN</td>\n",
              "      <td>NaN</td>\n",
              "      <td>NaN</td>\n",
              "      <td>NaN</td>\n",
              "      <td>NaN</td>\n",
              "      <td>NaN</td>\n",
              "      <td>NaN</td>\n",
              "      <td>NaN</td>\n",
              "      <td>NaN</td>\n",
              "      <td>N</td>\n",
              "      <td>NaN</td>\n",
              "      <td>NaN</td>\n",
              "      <td>NaN</td>\n",
              "      <td>NaN</td>\n",
              "      <td>NaN</td>\n",
              "      <td>NaN</td>\n",
              "      <td>NaN</td>\n",
              "      <td>NaN</td>\n",
              "      <td>NaN</td>\n",
              "      <td>NaN</td>\n",
              "      <td>NaN</td>\n",
              "      <td>NaN</td>\n",
              "      <td>NaN</td>\n",
              "      <td>NaN</td>\n",
              "      <td>N</td>\n",
              "      <td>NaN</td>\n",
              "      <td>NaN</td>\n",
              "      <td>NaN</td>\n",
              "      <td>NaN</td>\n",
              "      <td>NaN</td>\n",
              "      <td>NaN</td>\n",
              "      <td>17.97</td>\n",
              "      <td>17.97</td>\n",
              "    </tr>\n",
              "    <tr>\n",
              "      <th>4</th>\n",
              "      <td>17100</td>\n",
              "      <td>17100</td>\n",
              "      <td>17100.0</td>\n",
              "      <td>36 months</td>\n",
              "      <td>18.94%</td>\n",
              "      <td>626.30</td>\n",
              "      <td>D</td>\n",
              "      <td>D2</td>\n",
              "      <td>Receptionist</td>\n",
              "      <td>10+ years</td>\n",
              "      <td>RENT</td>\n",
              "      <td>38000.0</td>\n",
              "      <td>Verified</td>\n",
              "      <td>Dec-2018</td>\n",
              "      <td>Current</td>\n",
              "      <td>n</td>\n",
              "      <td>debt_consolidation</td>\n",
              "      <td>Debt consolidation</td>\n",
              "      <td>150xx</td>\n",
              "      <td>PA</td>\n",
              "      <td>38.09</td>\n",
              "      <td>0</td>\n",
              "      <td>Mar-1998</td>\n",
              "      <td>1</td>\n",
              "      <td>47.0</td>\n",
              "      <td>NaN</td>\n",
              "      <td>14</td>\n",
              "      <td>0</td>\n",
              "      <td>15323</td>\n",
              "      <td>53%</td>\n",
              "      <td>21</td>\n",
              "      <td>w</td>\n",
              "      <td>6795.94</td>\n",
              "      <td>6795.94</td>\n",
              "      <td>15004.21</td>\n",
              "      <td>15004.21</td>\n",
              "      <td>10304.06</td>\n",
              "      <td>4700.15</td>\n",
              "      <td>0.0</td>\n",
              "      <td>0.0</td>\n",
              "      <td>...</td>\n",
              "      <td>0</td>\n",
              "      <td>70954</td>\n",
              "      <td>43351</td>\n",
              "      <td>16600</td>\n",
              "      <td>41784</td>\n",
              "      <td>NaN</td>\n",
              "      <td>NaN</td>\n",
              "      <td>NaN</td>\n",
              "      <td>NaN</td>\n",
              "      <td>NaN</td>\n",
              "      <td>NaN</td>\n",
              "      <td>NaN</td>\n",
              "      <td>NaN</td>\n",
              "      <td>NaN</td>\n",
              "      <td>NaN</td>\n",
              "      <td>NaN</td>\n",
              "      <td>N</td>\n",
              "      <td>NaN</td>\n",
              "      <td>NaN</td>\n",
              "      <td>NaN</td>\n",
              "      <td>NaN</td>\n",
              "      <td>NaN</td>\n",
              "      <td>NaN</td>\n",
              "      <td>NaN</td>\n",
              "      <td>NaN</td>\n",
              "      <td>NaN</td>\n",
              "      <td>NaN</td>\n",
              "      <td>NaN</td>\n",
              "      <td>NaN</td>\n",
              "      <td>NaN</td>\n",
              "      <td>NaN</td>\n",
              "      <td>N</td>\n",
              "      <td>NaN</td>\n",
              "      <td>NaN</td>\n",
              "      <td>NaN</td>\n",
              "      <td>NaN</td>\n",
              "      <td>NaN</td>\n",
              "      <td>NaN</td>\n",
              "      <td>18.94</td>\n",
              "      <td>18.94</td>\n",
              "    </tr>\n",
              "  </tbody>\n",
              "</table>\n",
              "<p>5 rows × 142 columns</p>\n",
              "</div>"
            ],
            "text/plain": [
              "   loan_amnt  funded_amnt  ...  int_rate_cleaned int_rate_cleaned2\n",
              "0       3300         3300  ...             23.40             23.40\n",
              "1       8500         8500  ...             16.14             16.14\n",
              "2       2200         2200  ...             15.02             15.02\n",
              "3       5000         5000  ...             17.97             17.97\n",
              "4      17100        17100  ...             18.94             18.94\n",
              "\n",
              "[5 rows x 142 columns]"
            ]
          },
          "metadata": {
            "tags": []
          },
          "execution_count": 231
        }
      ]
    },
    {
      "cell_type": "code",
      "metadata": {
        "id": "JcyI-c1q_Zdu",
        "outputId": "2004bc14-ce19-411d-aeac-35f50fdc35d6",
        "colab": {
          "base_uri": "https://localhost:8080/"
        }
      },
      "source": [
        "df['emp_title'].value_counts(ascending=False)[:20]"
      ],
      "execution_count": 232,
      "outputs": [
        {
          "output_type": "execute_result",
          "data": {
            "text/plain": [
              "Unknown               20947\n",
              "Teacher                2557\n",
              "Manager                2395\n",
              "Registered Nurse       1418\n",
              "Driver                 1258\n",
              "Supervisor             1160\n",
              "Truck Driver            920\n",
              "Rn                      834\n",
              "Office Manager          805\n",
              "Sales                   803\n",
              "General Manager         791\n",
              "Project Manager         720\n",
              "Owner                   625\n",
              "Director                523\n",
              "Operations Manager      518\n",
              "Sales Manager           500\n",
              "Police Officer          440\n",
              "Nurse                   425\n",
              "Technician              420\n",
              "Engineer                412\n",
              "Name: emp_title, dtype: int64"
            ]
          },
          "metadata": {
            "tags": []
          },
          "execution_count": 232
        }
      ]
    },
    {
      "cell_type": "code",
      "metadata": {
        "id": "pyHz607f_i31",
        "outputId": "caca46b0-aa64-4541-8ce0-7cc71bb3805c",
        "colab": {
          "base_uri": "https://localhost:8080/"
        }
      },
      "source": [
        "len(df['emp_title'].unique())"
      ],
      "execution_count": 233,
      "outputs": [
        {
          "output_type": "execute_result",
          "data": {
            "text/plain": [
              "34902"
            ]
          },
          "metadata": {
            "tags": []
          },
          "execution_count": 233
        }
      ]
    },
    {
      "cell_type": "code",
      "metadata": {
        "id": "6MGPrPkBADoA",
        "outputId": "5fede5fb-3cd8-495c-ce4d-e8ab27f0271c",
        "colab": {
          "base_uri": "https://localhost:8080/"
        }
      },
      "source": [
        "df['emp_title'].isnull().sum()"
      ],
      "execution_count": 234,
      "outputs": [
        {
          "output_type": "execute_result",
          "data": {
            "text/plain": [
              "0"
            ]
          },
          "metadata": {
            "tags": []
          },
          "execution_count": 234
        }
      ]
    },
    {
      "cell_type": "markdown",
      "metadata": {
        "id": "bfWirVhaAMYw"
      },
      "source": [
        "## Working with Dates in Pandas"
      ]
    },
    {
      "cell_type": "markdown",
      "metadata": {
        "id": "IXlRtsulCfGo"
      },
      "source": [
        "### Convert to pd datetime format"
      ]
    },
    {
      "cell_type": "code",
      "metadata": {
        "id": "RL4x4ZmoAPz3"
      },
      "source": [
        "mylist = []\r\n",
        "\r\n",
        "for col in df.columns:\r\n",
        "  if col.endswith('_d'):\r\n",
        "    mylist.append(col)"
      ],
      "execution_count": 235,
      "outputs": []
    },
    {
      "cell_type": "code",
      "metadata": {
        "id": "HdRX0pTwArYi"
      },
      "source": [
        "mycols = [col for col in df.columns if col.endswith('_d')]"
      ],
      "execution_count": 236,
      "outputs": []
    },
    {
      "cell_type": "code",
      "metadata": {
        "id": "uJBidUiAA0go",
        "outputId": "635f677d-f1c8-4bb7-b790-2d708acb765f",
        "colab": {
          "base_uri": "https://localhost:8080/"
        }
      },
      "source": [
        "df['issue_d'][:10]"
      ],
      "execution_count": 237,
      "outputs": [
        {
          "output_type": "execute_result",
          "data": {
            "text/plain": [
              "0    Dec-2018\n",
              "1    Dec-2018\n",
              "2    Dec-2018\n",
              "3    Dec-2018\n",
              "4    Dec-2018\n",
              "5    Dec-2018\n",
              "6    Dec-2018\n",
              "7    Dec-2018\n",
              "8    Dec-2018\n",
              "9    Dec-2018\n",
              "Name: issue_d, dtype: object"
            ]
          },
          "metadata": {
            "tags": []
          },
          "execution_count": 237
        }
      ]
    },
    {
      "cell_type": "code",
      "metadata": {
        "id": "G--1qWheA8S-",
        "outputId": "fed4622e-e857-448c-bd6e-1cc9fae5c635",
        "colab": {
          "base_uri": "https://localhost:8080/",
          "height": 0
        }
      },
      "source": [
        "# We can use pandas to infer a datetime format like the one here and translate it into a datetime object\r\n",
        "\r\n",
        "df['issue_d'] = pd.to_datetime(df['issue_d'], infer_datetime_format=True)\r\n",
        "df[mycols].head()"
      ],
      "execution_count": 238,
      "outputs": [
        {
          "output_type": "execute_result",
          "data": {
            "text/html": [
              "<div>\n",
              "<style scoped>\n",
              "    .dataframe tbody tr th:only-of-type {\n",
              "        vertical-align: middle;\n",
              "    }\n",
              "\n",
              "    .dataframe tbody tr th {\n",
              "        vertical-align: top;\n",
              "    }\n",
              "\n",
              "    .dataframe thead th {\n",
              "        text-align: right;\n",
              "    }\n",
              "</style>\n",
              "<table border=\"1\" class=\"dataframe\">\n",
              "  <thead>\n",
              "    <tr style=\"text-align: right;\">\n",
              "      <th></th>\n",
              "      <th>issue_d</th>\n",
              "      <th>last_pymnt_d</th>\n",
              "      <th>next_pymnt_d</th>\n",
              "      <th>last_credit_pull_d</th>\n",
              "    </tr>\n",
              "  </thead>\n",
              "  <tbody>\n",
              "    <tr>\n",
              "      <th>0</th>\n",
              "      <td>2018-12-01</td>\n",
              "      <td>Dec-2020</td>\n",
              "      <td>Jan-2021</td>\n",
              "      <td>Dec-2020</td>\n",
              "    </tr>\n",
              "    <tr>\n",
              "      <th>1</th>\n",
              "      <td>2018-12-01</td>\n",
              "      <td>Dec-2020</td>\n",
              "      <td>Jan-2021</td>\n",
              "      <td>Dec-2020</td>\n",
              "    </tr>\n",
              "    <tr>\n",
              "      <th>2</th>\n",
              "      <td>2018-12-01</td>\n",
              "      <td>Dec-2020</td>\n",
              "      <td>Dec-2020</td>\n",
              "      <td>Dec-2020</td>\n",
              "    </tr>\n",
              "    <tr>\n",
              "      <th>3</th>\n",
              "      <td>2018-12-01</td>\n",
              "      <td>Dec-2020</td>\n",
              "      <td>Jan-2021</td>\n",
              "      <td>Dec-2020</td>\n",
              "    </tr>\n",
              "    <tr>\n",
              "      <th>4</th>\n",
              "      <td>2018-12-01</td>\n",
              "      <td>Dec-2020</td>\n",
              "      <td>Jan-2021</td>\n",
              "      <td>Dec-2020</td>\n",
              "    </tr>\n",
              "  </tbody>\n",
              "</table>\n",
              "</div>"
            ],
            "text/plain": [
              "     issue_d last_pymnt_d next_pymnt_d last_credit_pull_d\n",
              "0 2018-12-01     Dec-2020     Jan-2021           Dec-2020\n",
              "1 2018-12-01     Dec-2020     Jan-2021           Dec-2020\n",
              "2 2018-12-01     Dec-2020     Dec-2020           Dec-2020\n",
              "3 2018-12-01     Dec-2020     Jan-2021           Dec-2020\n",
              "4 2018-12-01     Dec-2020     Jan-2021           Dec-2020"
            ]
          },
          "metadata": {
            "tags": []
          },
          "execution_count": 238
        }
      ]
    },
    {
      "cell_type": "code",
      "metadata": {
        "id": "OiMsJ_jXBdVE",
        "outputId": "22805935-d2d3-4757-b403-112f6be7f10c",
        "colab": {
          "base_uri": "https://localhost:8080/"
        }
      },
      "source": [
        "df['issue_d'].iloc[0]"
      ],
      "execution_count": 239,
      "outputs": [
        {
          "output_type": "execute_result",
          "data": {
            "text/plain": [
              "Timestamp('2018-12-01 00:00:00')"
            ]
          },
          "metadata": {
            "tags": []
          },
          "execution_count": 239
        }
      ]
    },
    {
      "cell_type": "code",
      "metadata": {
        "id": "8Myq-XyKBhlJ",
        "outputId": "376940dd-a190-4226-eb09-ae51c20a2018",
        "colab": {
          "base_uri": "https://localhost:8080/"
        }
      },
      "source": [
        "df['issue_d'].head().values"
      ],
      "execution_count": 240,
      "outputs": [
        {
          "output_type": "execute_result",
          "data": {
            "text/plain": [
              "array(['2018-12-01T00:00:00.000000000', '2018-12-01T00:00:00.000000000',\n",
              "       '2018-12-01T00:00:00.000000000', '2018-12-01T00:00:00.000000000',\n",
              "       '2018-12-01T00:00:00.000000000'], dtype='datetime64[ns]')"
            ]
          },
          "metadata": {
            "tags": []
          },
          "execution_count": 240
        }
      ]
    },
    {
      "cell_type": "code",
      "metadata": {
        "id": "zYzP5T96GGnd"
      },
      "source": [
        "lending_club = df"
      ],
      "execution_count": 241,
      "outputs": []
    },
    {
      "cell_type": "markdown",
      "metadata": {
        "id": "V6Ow5FwQCltA"
      },
      "source": [
        "### Create new date columns"
      ]
    },
    {
      "cell_type": "code",
      "metadata": {
        "id": "8EFxjfKnBqvc",
        "outputId": "454d301e-11cd-492d-bc11-d36317171c54",
        "colab": {
          "base_uri": "https://localhost:8080/",
          "height": 0
        }
      },
      "source": [
        "df=df[mycols].copy()\r\n",
        "df['year'] = df['issue_d'].dt.year\r\n",
        "df.head()"
      ],
      "execution_count": 242,
      "outputs": [
        {
          "output_type": "execute_result",
          "data": {
            "text/html": [
              "<div>\n",
              "<style scoped>\n",
              "    .dataframe tbody tr th:only-of-type {\n",
              "        vertical-align: middle;\n",
              "    }\n",
              "\n",
              "    .dataframe tbody tr th {\n",
              "        vertical-align: top;\n",
              "    }\n",
              "\n",
              "    .dataframe thead th {\n",
              "        text-align: right;\n",
              "    }\n",
              "</style>\n",
              "<table border=\"1\" class=\"dataframe\">\n",
              "  <thead>\n",
              "    <tr style=\"text-align: right;\">\n",
              "      <th></th>\n",
              "      <th>issue_d</th>\n",
              "      <th>last_pymnt_d</th>\n",
              "      <th>next_pymnt_d</th>\n",
              "      <th>last_credit_pull_d</th>\n",
              "      <th>year</th>\n",
              "    </tr>\n",
              "  </thead>\n",
              "  <tbody>\n",
              "    <tr>\n",
              "      <th>0</th>\n",
              "      <td>2018-12-01</td>\n",
              "      <td>Dec-2020</td>\n",
              "      <td>Jan-2021</td>\n",
              "      <td>Dec-2020</td>\n",
              "      <td>2018</td>\n",
              "    </tr>\n",
              "    <tr>\n",
              "      <th>1</th>\n",
              "      <td>2018-12-01</td>\n",
              "      <td>Dec-2020</td>\n",
              "      <td>Jan-2021</td>\n",
              "      <td>Dec-2020</td>\n",
              "      <td>2018</td>\n",
              "    </tr>\n",
              "    <tr>\n",
              "      <th>2</th>\n",
              "      <td>2018-12-01</td>\n",
              "      <td>Dec-2020</td>\n",
              "      <td>Dec-2020</td>\n",
              "      <td>Dec-2020</td>\n",
              "      <td>2018</td>\n",
              "    </tr>\n",
              "    <tr>\n",
              "      <th>3</th>\n",
              "      <td>2018-12-01</td>\n",
              "      <td>Dec-2020</td>\n",
              "      <td>Jan-2021</td>\n",
              "      <td>Dec-2020</td>\n",
              "      <td>2018</td>\n",
              "    </tr>\n",
              "    <tr>\n",
              "      <th>4</th>\n",
              "      <td>2018-12-01</td>\n",
              "      <td>Dec-2020</td>\n",
              "      <td>Jan-2021</td>\n",
              "      <td>Dec-2020</td>\n",
              "      <td>2018</td>\n",
              "    </tr>\n",
              "  </tbody>\n",
              "</table>\n",
              "</div>"
            ],
            "text/plain": [
              "     issue_d last_pymnt_d next_pymnt_d last_credit_pull_d  year\n",
              "0 2018-12-01     Dec-2020     Jan-2021           Dec-2020  2018\n",
              "1 2018-12-01     Dec-2020     Jan-2021           Dec-2020  2018\n",
              "2 2018-12-01     Dec-2020     Dec-2020           Dec-2020  2018\n",
              "3 2018-12-01     Dec-2020     Jan-2021           Dec-2020  2018\n",
              "4 2018-12-01     Dec-2020     Jan-2021           Dec-2020  2018"
            ]
          },
          "metadata": {
            "tags": []
          },
          "execution_count": 242
        }
      ]
    },
    {
      "cell_type": "code",
      "metadata": {
        "id": "0HanCRUHB59v",
        "outputId": "e84f5504-465d-44b0-f9fd-5c44094f5642",
        "colab": {
          "base_uri": "https://localhost:8080/",
          "height": 0
        }
      },
      "source": [
        "df['month'] = df['issue_d'].dt.month\r\n",
        "df.head()"
      ],
      "execution_count": 243,
      "outputs": [
        {
          "output_type": "execute_result",
          "data": {
            "text/html": [
              "<div>\n",
              "<style scoped>\n",
              "    .dataframe tbody tr th:only-of-type {\n",
              "        vertical-align: middle;\n",
              "    }\n",
              "\n",
              "    .dataframe tbody tr th {\n",
              "        vertical-align: top;\n",
              "    }\n",
              "\n",
              "    .dataframe thead th {\n",
              "        text-align: right;\n",
              "    }\n",
              "</style>\n",
              "<table border=\"1\" class=\"dataframe\">\n",
              "  <thead>\n",
              "    <tr style=\"text-align: right;\">\n",
              "      <th></th>\n",
              "      <th>issue_d</th>\n",
              "      <th>last_pymnt_d</th>\n",
              "      <th>next_pymnt_d</th>\n",
              "      <th>last_credit_pull_d</th>\n",
              "      <th>year</th>\n",
              "      <th>month</th>\n",
              "    </tr>\n",
              "  </thead>\n",
              "  <tbody>\n",
              "    <tr>\n",
              "      <th>0</th>\n",
              "      <td>2018-12-01</td>\n",
              "      <td>Dec-2020</td>\n",
              "      <td>Jan-2021</td>\n",
              "      <td>Dec-2020</td>\n",
              "      <td>2018</td>\n",
              "      <td>12</td>\n",
              "    </tr>\n",
              "    <tr>\n",
              "      <th>1</th>\n",
              "      <td>2018-12-01</td>\n",
              "      <td>Dec-2020</td>\n",
              "      <td>Jan-2021</td>\n",
              "      <td>Dec-2020</td>\n",
              "      <td>2018</td>\n",
              "      <td>12</td>\n",
              "    </tr>\n",
              "    <tr>\n",
              "      <th>2</th>\n",
              "      <td>2018-12-01</td>\n",
              "      <td>Dec-2020</td>\n",
              "      <td>Dec-2020</td>\n",
              "      <td>Dec-2020</td>\n",
              "      <td>2018</td>\n",
              "      <td>12</td>\n",
              "    </tr>\n",
              "    <tr>\n",
              "      <th>3</th>\n",
              "      <td>2018-12-01</td>\n",
              "      <td>Dec-2020</td>\n",
              "      <td>Jan-2021</td>\n",
              "      <td>Dec-2020</td>\n",
              "      <td>2018</td>\n",
              "      <td>12</td>\n",
              "    </tr>\n",
              "    <tr>\n",
              "      <th>4</th>\n",
              "      <td>2018-12-01</td>\n",
              "      <td>Dec-2020</td>\n",
              "      <td>Jan-2021</td>\n",
              "      <td>Dec-2020</td>\n",
              "      <td>2018</td>\n",
              "      <td>12</td>\n",
              "    </tr>\n",
              "  </tbody>\n",
              "</table>\n",
              "</div>"
            ],
            "text/plain": [
              "     issue_d last_pymnt_d next_pymnt_d last_credit_pull_d  year  month\n",
              "0 2018-12-01     Dec-2020     Jan-2021           Dec-2020  2018     12\n",
              "1 2018-12-01     Dec-2020     Jan-2021           Dec-2020  2018     12\n",
              "2 2018-12-01     Dec-2020     Dec-2020           Dec-2020  2018     12\n",
              "3 2018-12-01     Dec-2020     Jan-2021           Dec-2020  2018     12\n",
              "4 2018-12-01     Dec-2020     Jan-2021           Dec-2020  2018     12"
            ]
          },
          "metadata": {
            "tags": []
          },
          "execution_count": 243
        }
      ]
    },
    {
      "cell_type": "code",
      "metadata": {
        "id": "-4andhubCAD8",
        "outputId": "bdfa87da-a65d-4380-c452-df1698589a3f",
        "colab": {
          "base_uri": "https://localhost:8080/"
        }
      },
      "source": [
        "df.dtypes[-2:]"
      ],
      "execution_count": 244,
      "outputs": [
        {
          "output_type": "execute_result",
          "data": {
            "text/plain": [
              "year     int64\n",
              "month    int64\n",
              "dtype: object"
            ]
          },
          "metadata": {
            "tags": []
          },
          "execution_count": 244
        }
      ]
    },
    {
      "cell_type": "code",
      "metadata": {
        "id": "6xzIxQlSCuIf",
        "outputId": "fbd44cfd-c5c9-487b-dfc7-b653c5aaf7ed",
        "colab": {
          "base_uri": "https://localhost:8080/",
          "height": 0
        }
      },
      "source": [
        "# Create a new column called days_from_earliest_credit_to_issue to indicate the length of a person's credit history\r\n",
        "\r\n",
        "df['last_credit_pull_d'] = pd.to_datetime(df['last_credit_pull_d'], infer_datetime_format=True)\r\n",
        "df.head()"
      ],
      "execution_count": 245,
      "outputs": [
        {
          "output_type": "execute_result",
          "data": {
            "text/html": [
              "<div>\n",
              "<style scoped>\n",
              "    .dataframe tbody tr th:only-of-type {\n",
              "        vertical-align: middle;\n",
              "    }\n",
              "\n",
              "    .dataframe tbody tr th {\n",
              "        vertical-align: top;\n",
              "    }\n",
              "\n",
              "    .dataframe thead th {\n",
              "        text-align: right;\n",
              "    }\n",
              "</style>\n",
              "<table border=\"1\" class=\"dataframe\">\n",
              "  <thead>\n",
              "    <tr style=\"text-align: right;\">\n",
              "      <th></th>\n",
              "      <th>issue_d</th>\n",
              "      <th>last_pymnt_d</th>\n",
              "      <th>next_pymnt_d</th>\n",
              "      <th>last_credit_pull_d</th>\n",
              "      <th>year</th>\n",
              "      <th>month</th>\n",
              "    </tr>\n",
              "  </thead>\n",
              "  <tbody>\n",
              "    <tr>\n",
              "      <th>0</th>\n",
              "      <td>2018-12-01</td>\n",
              "      <td>Dec-2020</td>\n",
              "      <td>Jan-2021</td>\n",
              "      <td>2020-12-01</td>\n",
              "      <td>2018</td>\n",
              "      <td>12</td>\n",
              "    </tr>\n",
              "    <tr>\n",
              "      <th>1</th>\n",
              "      <td>2018-12-01</td>\n",
              "      <td>Dec-2020</td>\n",
              "      <td>Jan-2021</td>\n",
              "      <td>2020-12-01</td>\n",
              "      <td>2018</td>\n",
              "      <td>12</td>\n",
              "    </tr>\n",
              "    <tr>\n",
              "      <th>2</th>\n",
              "      <td>2018-12-01</td>\n",
              "      <td>Dec-2020</td>\n",
              "      <td>Dec-2020</td>\n",
              "      <td>2020-12-01</td>\n",
              "      <td>2018</td>\n",
              "      <td>12</td>\n",
              "    </tr>\n",
              "    <tr>\n",
              "      <th>3</th>\n",
              "      <td>2018-12-01</td>\n",
              "      <td>Dec-2020</td>\n",
              "      <td>Jan-2021</td>\n",
              "      <td>2020-12-01</td>\n",
              "      <td>2018</td>\n",
              "      <td>12</td>\n",
              "    </tr>\n",
              "    <tr>\n",
              "      <th>4</th>\n",
              "      <td>2018-12-01</td>\n",
              "      <td>Dec-2020</td>\n",
              "      <td>Jan-2021</td>\n",
              "      <td>2020-12-01</td>\n",
              "      <td>2018</td>\n",
              "      <td>12</td>\n",
              "    </tr>\n",
              "  </tbody>\n",
              "</table>\n",
              "</div>"
            ],
            "text/plain": [
              "     issue_d last_pymnt_d next_pymnt_d last_credit_pull_d  year  month\n",
              "0 2018-12-01     Dec-2020     Jan-2021         2020-12-01  2018     12\n",
              "1 2018-12-01     Dec-2020     Jan-2021         2020-12-01  2018     12\n",
              "2 2018-12-01     Dec-2020     Dec-2020         2020-12-01  2018     12\n",
              "3 2018-12-01     Dec-2020     Jan-2021         2020-12-01  2018     12\n",
              "4 2018-12-01     Dec-2020     Jan-2021         2020-12-01  2018     12"
            ]
          },
          "metadata": {
            "tags": []
          },
          "execution_count": 245
        }
      ]
    },
    {
      "cell_type": "code",
      "metadata": {
        "id": "swAlAVMDDYfo",
        "outputId": "80c33d95-971d-417b-adc1-eb724e47ebb2",
        "colab": {
          "base_uri": "https://localhost:8080/"
        }
      },
      "source": [
        "df['last_credit_pull_d'] - df['issue_d']"
      ],
      "execution_count": 246,
      "outputs": [
        {
          "output_type": "execute_result",
          "data": {
            "text/plain": [
              "0        731 days\n",
              "1        731 days\n",
              "2        731 days\n",
              "3        731 days\n",
              "4        731 days\n",
              "           ...   \n",
              "128407    31 days\n",
              "128408   792 days\n",
              "128409   792 days\n",
              "128410   792 days\n",
              "128411   792 days\n",
              "Length: 128412, dtype: timedelta64[ns]"
            ]
          },
          "metadata": {
            "tags": []
          },
          "execution_count": 246
        }
      ]
    },
    {
      "cell_type": "code",
      "metadata": {
        "id": "f0dEXuMmD7n9",
        "outputId": "f680f285-de96-4be4-a6e6-cff35fafe1a9",
        "colab": {
          "base_uri": "https://localhost:8080/",
          "height": 0
        }
      },
      "source": [
        "# Create new column\r\n",
        "\r\n",
        "df['day_diff'] = (df['last_credit_pull_d'] - df['issue_d']).dt.days\r\n",
        "\r\n",
        "df.head()"
      ],
      "execution_count": 247,
      "outputs": [
        {
          "output_type": "execute_result",
          "data": {
            "text/html": [
              "<div>\n",
              "<style scoped>\n",
              "    .dataframe tbody tr th:only-of-type {\n",
              "        vertical-align: middle;\n",
              "    }\n",
              "\n",
              "    .dataframe tbody tr th {\n",
              "        vertical-align: top;\n",
              "    }\n",
              "\n",
              "    .dataframe thead th {\n",
              "        text-align: right;\n",
              "    }\n",
              "</style>\n",
              "<table border=\"1\" class=\"dataframe\">\n",
              "  <thead>\n",
              "    <tr style=\"text-align: right;\">\n",
              "      <th></th>\n",
              "      <th>issue_d</th>\n",
              "      <th>last_pymnt_d</th>\n",
              "      <th>next_pymnt_d</th>\n",
              "      <th>last_credit_pull_d</th>\n",
              "      <th>year</th>\n",
              "      <th>month</th>\n",
              "      <th>day_diff</th>\n",
              "    </tr>\n",
              "  </thead>\n",
              "  <tbody>\n",
              "    <tr>\n",
              "      <th>0</th>\n",
              "      <td>2018-12-01</td>\n",
              "      <td>Dec-2020</td>\n",
              "      <td>Jan-2021</td>\n",
              "      <td>2020-12-01</td>\n",
              "      <td>2018</td>\n",
              "      <td>12</td>\n",
              "      <td>731.0</td>\n",
              "    </tr>\n",
              "    <tr>\n",
              "      <th>1</th>\n",
              "      <td>2018-12-01</td>\n",
              "      <td>Dec-2020</td>\n",
              "      <td>Jan-2021</td>\n",
              "      <td>2020-12-01</td>\n",
              "      <td>2018</td>\n",
              "      <td>12</td>\n",
              "      <td>731.0</td>\n",
              "    </tr>\n",
              "    <tr>\n",
              "      <th>2</th>\n",
              "      <td>2018-12-01</td>\n",
              "      <td>Dec-2020</td>\n",
              "      <td>Dec-2020</td>\n",
              "      <td>2020-12-01</td>\n",
              "      <td>2018</td>\n",
              "      <td>12</td>\n",
              "      <td>731.0</td>\n",
              "    </tr>\n",
              "    <tr>\n",
              "      <th>3</th>\n",
              "      <td>2018-12-01</td>\n",
              "      <td>Dec-2020</td>\n",
              "      <td>Jan-2021</td>\n",
              "      <td>2020-12-01</td>\n",
              "      <td>2018</td>\n",
              "      <td>12</td>\n",
              "      <td>731.0</td>\n",
              "    </tr>\n",
              "    <tr>\n",
              "      <th>4</th>\n",
              "      <td>2018-12-01</td>\n",
              "      <td>Dec-2020</td>\n",
              "      <td>Jan-2021</td>\n",
              "      <td>2020-12-01</td>\n",
              "      <td>2018</td>\n",
              "      <td>12</td>\n",
              "      <td>731.0</td>\n",
              "    </tr>\n",
              "  </tbody>\n",
              "</table>\n",
              "</div>"
            ],
            "text/plain": [
              "     issue_d last_pymnt_d next_pymnt_d  ...  year  month  day_diff\n",
              "0 2018-12-01     Dec-2020     Jan-2021  ...  2018     12     731.0\n",
              "1 2018-12-01     Dec-2020     Jan-2021  ...  2018     12     731.0\n",
              "2 2018-12-01     Dec-2020     Dec-2020  ...  2018     12     731.0\n",
              "3 2018-12-01     Dec-2020     Jan-2021  ...  2018     12     731.0\n",
              "4 2018-12-01     Dec-2020     Jan-2021  ...  2018     12     731.0\n",
              "\n",
              "[5 rows x 7 columns]"
            ]
          },
          "metadata": {
            "tags": []
          },
          "execution_count": 247
        }
      ]
    },
    {
      "cell_type": "code",
      "metadata": {
        "id": "t7Szm-YaESDV",
        "outputId": "41debaf3-2e85-46d0-e0e0-2e3458f0aa6b",
        "colab": {
          "base_uri": "https://localhost:8080/"
        }
      },
      "source": [
        "df['day_diff'].value_counts()"
      ],
      "execution_count": 248,
      "outputs": [
        {
          "output_type": "execute_result",
          "data": {
            "text/plain": [
              " 792.0    31979\n",
              " 731.0    31303\n",
              " 761.0    29812\n",
              " 670.0     3146\n",
              " 517.0     2345\n",
              " 701.0     2187\n",
              " 578.0     1887\n",
              " 639.0     1702\n",
              " 365.0     1517\n",
              " 609.0     1493\n",
              " 396.0     1492\n",
              " 700.0     1484\n",
              " 762.0     1415\n",
              " 548.0     1247\n",
              " 304.0     1174\n",
              " 335.0     1148\n",
              " 456.0      999\n",
              " 486.0      997\n",
              " 457.0      946\n",
              " 640.0      871\n",
              " 212.0      805\n",
              " 426.0      789\n",
              " 273.0      730\n",
              " 608.0      709\n",
              " 243.0      563\n",
              " 487.0      529\n",
              " 151.0      515\n",
              " 547.0      509\n",
              " 334.0      409\n",
              " 182.0      392\n",
              " 0.0        388\n",
              " 274.0      356\n",
              " 242.0      329\n",
              " 488.0      241\n",
              " 92.0       230\n",
              " 181.0      225\n",
              " 395.0      191\n",
              " 61.0       182\n",
              " 427.0      180\n",
              " 31.0       180\n",
              " 121.0      159\n",
              " 120.0      146\n",
              " 123.0      127\n",
              " 90.0       110\n",
              " 62.0       107\n",
              " 30.0        74\n",
              "-30.0        62\n",
              "-31.0        30\n",
              "Name: day_diff, dtype: int64"
            ]
          },
          "metadata": {
            "tags": []
          },
          "execution_count": 248
        }
      ]
    },
    {
      "cell_type": "markdown",
      "metadata": {
        "id": "L8k0LiHmo5EU"
      },
      "source": [
        "# Stretch Goals\n",
        "\n",
        "You can do more with the LendingClub or Instacart datasets.\n",
        "\n",
        "LendingClub options:\n",
        "- There's one other column in the dataframe with percent signs. Remove them and convert to floats. You'll need to handle missing values.\n",
        "- Modify the `emp_title` column to replace titles with 'Other' if the title is not in the top 20. \n",
        "- Take initiatve and work on your own ideas!\n",
        "\n",
        "Instacart options:\n",
        "- Read [Instacart Market Basket Analysis, Winner's Interview: 2nd place, Kazuki Onodera](http://blog.kaggle.com/2017/09/21/instacart-market-basket-analysis-winners-interview-2nd-place-kazuki-onodera/), especially the **Feature Engineering** section. (Can you choose one feature from his bulleted lists, and try to engineer it with pandas code?)\n",
        "- Read and replicate parts of [Simple Exploration Notebook - Instacart](https://www.kaggle.com/sudalairajkumar/simple-exploration-notebook-instacart). (It's the Python Notebook with the most upvotes for this Kaggle competition.)\n",
        "- Take initiative and work on your own ideas!"
      ]
    },
    {
      "cell_type": "code",
      "metadata": {
        "id": "XM-dZix8RysR",
        "outputId": "d214433d-69d9-4921-d60e-cc6d536b642f",
        "colab": {
          "base_uri": "https://localhost:8080/",
          "height": 323
        }
      },
      "source": [
        "# revol_util has '%'\r\n",
        "\r\n",
        "lending_club['revol_util_cleaned'] = lending_club['revol_util'].apply(myfunc)"
      ],
      "execution_count": 249,
      "outputs": [
        {
          "output_type": "error",
          "ename": "AttributeError",
          "evalue": "ignored",
          "traceback": [
            "\u001b[0;31m---------------------------------------------------------------------------\u001b[0m",
            "\u001b[0;31mAttributeError\u001b[0m                            Traceback (most recent call last)",
            "\u001b[0;32m<ipython-input-249-cee1be10d922>\u001b[0m in \u001b[0;36m<module>\u001b[0;34m()\u001b[0m\n\u001b[1;32m      1\u001b[0m \u001b[0;31m# revol_util has '%'\u001b[0m\u001b[0;34m\u001b[0m\u001b[0;34m\u001b[0m\u001b[0;34m\u001b[0m\u001b[0m\n\u001b[1;32m      2\u001b[0m \u001b[0;34m\u001b[0m\u001b[0m\n\u001b[0;32m----> 3\u001b[0;31m \u001b[0mlending_club\u001b[0m\u001b[0;34m[\u001b[0m\u001b[0;34m'revol_util_cleaned'\u001b[0m\u001b[0;34m]\u001b[0m \u001b[0;34m=\u001b[0m \u001b[0mlending_club\u001b[0m\u001b[0;34m[\u001b[0m\u001b[0;34m'revol_util'\u001b[0m\u001b[0;34m]\u001b[0m\u001b[0;34m.\u001b[0m\u001b[0mapply\u001b[0m\u001b[0;34m(\u001b[0m\u001b[0mmyfunc\u001b[0m\u001b[0;34m)\u001b[0m\u001b[0;34m\u001b[0m\u001b[0;34m\u001b[0m\u001b[0m\n\u001b[0m",
            "\u001b[0;32m/usr/local/lib/python3.6/dist-packages/pandas/core/series.py\u001b[0m in \u001b[0;36mapply\u001b[0;34m(self, func, convert_dtype, args, **kwds)\u001b[0m\n\u001b[1;32m   4211\u001b[0m             \u001b[0;32melse\u001b[0m\u001b[0;34m:\u001b[0m\u001b[0;34m\u001b[0m\u001b[0;34m\u001b[0m\u001b[0m\n\u001b[1;32m   4212\u001b[0m                 \u001b[0mvalues\u001b[0m \u001b[0;34m=\u001b[0m \u001b[0mself\u001b[0m\u001b[0;34m.\u001b[0m\u001b[0mastype\u001b[0m\u001b[0;34m(\u001b[0m\u001b[0mobject\u001b[0m\u001b[0;34m)\u001b[0m\u001b[0;34m.\u001b[0m\u001b[0m_values\u001b[0m\u001b[0;34m\u001b[0m\u001b[0;34m\u001b[0m\u001b[0m\n\u001b[0;32m-> 4213\u001b[0;31m                 \u001b[0mmapped\u001b[0m \u001b[0;34m=\u001b[0m \u001b[0mlib\u001b[0m\u001b[0;34m.\u001b[0m\u001b[0mmap_infer\u001b[0m\u001b[0;34m(\u001b[0m\u001b[0mvalues\u001b[0m\u001b[0;34m,\u001b[0m \u001b[0mf\u001b[0m\u001b[0;34m,\u001b[0m \u001b[0mconvert\u001b[0m\u001b[0;34m=\u001b[0m\u001b[0mconvert_dtype\u001b[0m\u001b[0;34m)\u001b[0m\u001b[0;34m\u001b[0m\u001b[0;34m\u001b[0m\u001b[0m\n\u001b[0m\u001b[1;32m   4214\u001b[0m \u001b[0;34m\u001b[0m\u001b[0m\n\u001b[1;32m   4215\u001b[0m         \u001b[0;32mif\u001b[0m \u001b[0mlen\u001b[0m\u001b[0;34m(\u001b[0m\u001b[0mmapped\u001b[0m\u001b[0;34m)\u001b[0m \u001b[0;32mand\u001b[0m \u001b[0misinstance\u001b[0m\u001b[0;34m(\u001b[0m\u001b[0mmapped\u001b[0m\u001b[0;34m[\u001b[0m\u001b[0;36m0\u001b[0m\u001b[0;34m]\u001b[0m\u001b[0;34m,\u001b[0m \u001b[0mSeries\u001b[0m\u001b[0;34m)\u001b[0m\u001b[0;34m:\u001b[0m\u001b[0;34m\u001b[0m\u001b[0;34m\u001b[0m\u001b[0m\n",
            "\u001b[0;32mpandas/_libs/lib.pyx\u001b[0m in \u001b[0;36mpandas._libs.lib.map_infer\u001b[0;34m()\u001b[0m\n",
            "\u001b[0;32m<ipython-input-214-e9f6ebd2d712>\u001b[0m in \u001b[0;36mmyfunc\u001b[0;34m(cell_contents)\u001b[0m\n\u001b[1;32m      1\u001b[0m \u001b[0;32mdef\u001b[0m \u001b[0mmyfunc\u001b[0m\u001b[0;34m(\u001b[0m\u001b[0mcell_contents\u001b[0m\u001b[0;34m)\u001b[0m\u001b[0;34m:\u001b[0m\u001b[0;34m\u001b[0m\u001b[0;34m\u001b[0m\u001b[0m\n\u001b[0;32m----> 2\u001b[0;31m   \u001b[0;32mreturn\u001b[0m \u001b[0mfloat\u001b[0m\u001b[0;34m(\u001b[0m\u001b[0mcell_contents\u001b[0m\u001b[0;34m.\u001b[0m\u001b[0mstrip\u001b[0m\u001b[0;34m(\u001b[0m\u001b[0;34m)\u001b[0m\u001b[0;34m.\u001b[0m\u001b[0mstrip\u001b[0m\u001b[0;34m(\u001b[0m\u001b[0;34m'%'\u001b[0m\u001b[0;34m)\u001b[0m\u001b[0;34m)\u001b[0m\u001b[0;34m\u001b[0m\u001b[0;34m\u001b[0m\u001b[0m\n\u001b[0m",
            "\u001b[0;31mAttributeError\u001b[0m: 'float' object has no attribute 'strip'"
          ]
        }
      ]
    },
    {
      "cell_type": "code",
      "metadata": {
        "id": "YvF2nYAKNtsj"
      },
      "source": [
        ""
      ],
      "execution_count": null,
      "outputs": []
    },
    {
      "cell_type": "code",
      "metadata": {
        "id": "n8kB6fxWs_Cq"
      },
      "source": [
        "list(pd.loans)"
      ],
      "execution_count": null,
      "outputs": []
    },
    {
      "cell_type": "markdown",
      "metadata": {
        "id": "0_7PXF7lpEXg"
      },
      "source": [
        "You can uncomment and run the cells below to re-download and extract the Instacart data"
      ]
    },
    {
      "cell_type": "code",
      "metadata": {
        "id": "urIePNa0yNG6"
      },
      "source": [
        "# !wget https://s3.amazonaws.com/instacart-datasets/instacart_online_grocery_shopping_2017_05_01.tar.gz"
      ],
      "execution_count": null,
      "outputs": []
    },
    {
      "cell_type": "code",
      "metadata": {
        "id": "X9zEyu-uyNG8"
      },
      "source": [
        "# !tar --gunzip --extract --verbose --file=instacart_online_grocery_shopping_2017_05_01.tar.gz"
      ],
      "execution_count": null,
      "outputs": []
    },
    {
      "cell_type": "code",
      "metadata": {
        "id": "Y3IqrhlpyNG-"
      },
      "source": [
        "# %cd instacart_2017_05_01"
      ],
      "execution_count": null,
      "outputs": []
    }
  ]
}